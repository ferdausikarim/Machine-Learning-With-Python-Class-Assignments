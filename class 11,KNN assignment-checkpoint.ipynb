{
 "cells": [
  {
   "cell_type": "code",
   "execution_count": null,
   "id": "97c20012",
   "metadata": {},
   "outputs": [],
   "source": [
    "##Step 01:\n",
    "\n",
    "KNN Regressor:\n",
    "1. Import data set\n",
    "2. Seperate x and y (y=Weight)\n",
    "3. Train = 70%, Test = 30%\n",
    "4. Apply Linear Regression\n",
    "5. Evaluate Model (Accuracy, MSE, Prediction)\n",
    "6. Apply KNN Regressor: https://scikit-learn.org/stable/modules/generated/sklearn.neighbors.KNeighborsRegressor.html\n",
    "7. Evaluate Model (Accuracy, MSE, Prediction)\n",
    "\n",
    "Tuning:\n",
    "1. Apply Randomized Search CV to select best K vlaue\n",
    "2. Compare accuracy with default KNN and After tuning K value\n",
    "3. Evaluate Model (Accuracy, MSE, Prediction) and Compare with Old KNN model and Linear regression as well.\n",
    "\n",
    "\n",
    "## Step 02:\n",
    "\n",
    "KNN Classifier:\n",
    "1. Import data set\n",
    "2. Seperate x and y (y=Gender)\n",
    "3. Train = 70%, Test = 30%\n",
    "4. Apply KNN Classifier \n",
    "5. Evaluate Model (Accuracy, Confusion Matrix, ROC, AUC, Classification Report)\n",
    "6. Apply KNN Classifier: https://scikit-learn.org/stable/modules/generated/sklearn.neighbors.KNeighborsClassifier.html\n",
    "\n",
    "Tuning:\n",
    "1. Apply Randomized Search CV to select best K vlaue\n",
    "2. Compare accuracy with default KNN and After tuning K value\n",
    "3. Evaluate Model (Accuracy, Confusion Matrix, ROC, AUC, Classification Report) and Compare with Old KNN model\n",
    "\n"
   ]
  },
  {
   "cell_type": "code",
   "execution_count": 340,
   "id": "f79c0905",
   "metadata": {},
   "outputs": [],
   "source": [
    "import pandas as pd # data frame library\n",
    "import seaborn as sns # data visialization library\n",
    "import matplotlib.pyplot as plt\n",
    "import numpy as np\n",
    "import os"
   ]
  },
  {
   "cell_type": "code",
   "execution_count": 341,
   "id": "ac1bb5db",
   "metadata": {},
   "outputs": [
    {
     "data": {
      "text/plain": [
       "'C:\\\\Users\\\\fkari653\\\\Downloads'"
      ]
     },
     "execution_count": 341,
     "metadata": {},
     "output_type": "execute_result"
    }
   ],
   "source": [
    "os.getcwd()"
   ]
  },
  {
   "cell_type": "code",
   "execution_count": 342,
   "id": "b08f195d",
   "metadata": {},
   "outputs": [],
   "source": [
    "df=pd.read_csv('weight-height.csv')"
   ]
  },
  {
   "cell_type": "code",
   "execution_count": 343,
   "id": "c0f423bc",
   "metadata": {},
   "outputs": [
    {
     "data": {
      "text/html": [
       "<div>\n",
       "<style scoped>\n",
       "    .dataframe tbody tr th:only-of-type {\n",
       "        vertical-align: middle;\n",
       "    }\n",
       "\n",
       "    .dataframe tbody tr th {\n",
       "        vertical-align: top;\n",
       "    }\n",
       "\n",
       "    .dataframe thead th {\n",
       "        text-align: right;\n",
       "    }\n",
       "</style>\n",
       "<table border=\"1\" class=\"dataframe\">\n",
       "  <thead>\n",
       "    <tr style=\"text-align: right;\">\n",
       "      <th></th>\n",
       "      <th>Gender</th>\n",
       "      <th>Height</th>\n",
       "      <th>Weight</th>\n",
       "    </tr>\n",
       "  </thead>\n",
       "  <tbody>\n",
       "    <tr>\n",
       "      <th>0</th>\n",
       "      <td>Male</td>\n",
       "      <td>73.847017</td>\n",
       "      <td>241.893563</td>\n",
       "    </tr>\n",
       "    <tr>\n",
       "      <th>1</th>\n",
       "      <td>Male</td>\n",
       "      <td>68.781904</td>\n",
       "      <td>162.310473</td>\n",
       "    </tr>\n",
       "    <tr>\n",
       "      <th>2</th>\n",
       "      <td>Male</td>\n",
       "      <td>74.110105</td>\n",
       "      <td>212.740856</td>\n",
       "    </tr>\n",
       "    <tr>\n",
       "      <th>3</th>\n",
       "      <td>Male</td>\n",
       "      <td>71.730978</td>\n",
       "      <td>220.042470</td>\n",
       "    </tr>\n",
       "    <tr>\n",
       "      <th>4</th>\n",
       "      <td>Male</td>\n",
       "      <td>69.881796</td>\n",
       "      <td>206.349801</td>\n",
       "    </tr>\n",
       "    <tr>\n",
       "      <th>...</th>\n",
       "      <td>...</td>\n",
       "      <td>...</td>\n",
       "      <td>...</td>\n",
       "    </tr>\n",
       "    <tr>\n",
       "      <th>8550</th>\n",
       "      <td>Female</td>\n",
       "      <td>60.483946</td>\n",
       "      <td>110.565497</td>\n",
       "    </tr>\n",
       "    <tr>\n",
       "      <th>8551</th>\n",
       "      <td>Female</td>\n",
       "      <td>63.423372</td>\n",
       "      <td>129.921671</td>\n",
       "    </tr>\n",
       "    <tr>\n",
       "      <th>8552</th>\n",
       "      <td>Female</td>\n",
       "      <td>65.584057</td>\n",
       "      <td>155.942671</td>\n",
       "    </tr>\n",
       "    <tr>\n",
       "      <th>8553</th>\n",
       "      <td>Female</td>\n",
       "      <td>67.429971</td>\n",
       "      <td>151.678405</td>\n",
       "    </tr>\n",
       "    <tr>\n",
       "      <th>8554</th>\n",
       "      <td>Female</td>\n",
       "      <td>60.921791</td>\n",
       "      <td>131.253738</td>\n",
       "    </tr>\n",
       "  </tbody>\n",
       "</table>\n",
       "<p>8555 rows × 3 columns</p>\n",
       "</div>"
      ],
      "text/plain": [
       "      Gender     Height      Weight\n",
       "0       Male  73.847017  241.893563\n",
       "1       Male  68.781904  162.310473\n",
       "2       Male  74.110105  212.740856\n",
       "3       Male  71.730978  220.042470\n",
       "4       Male  69.881796  206.349801\n",
       "...      ...        ...         ...\n",
       "8550  Female  60.483946  110.565497\n",
       "8551  Female  63.423372  129.921671\n",
       "8552  Female  65.584057  155.942671\n",
       "8553  Female  67.429971  151.678405\n",
       "8554  Female  60.921791  131.253738\n",
       "\n",
       "[8555 rows x 3 columns]"
      ]
     },
     "execution_count": 343,
     "metadata": {},
     "output_type": "execute_result"
    }
   ],
   "source": [
    "df"
   ]
  },
  {
   "cell_type": "code",
   "execution_count": 344,
   "id": "6b9ecc06",
   "metadata": {},
   "outputs": [
    {
     "name": "stdout",
     "output_type": "stream",
     "text": [
      "<class 'pandas.core.frame.DataFrame'>\n",
      "RangeIndex: 8555 entries, 0 to 8554\n",
      "Data columns (total 3 columns):\n",
      " #   Column  Non-Null Count  Dtype  \n",
      "---  ------  --------------  -----  \n",
      " 0   Gender  8555 non-null   object \n",
      " 1   Height  8555 non-null   float64\n",
      " 2   Weight  8555 non-null   float64\n",
      "dtypes: float64(2), object(1)\n",
      "memory usage: 200.6+ KB\n"
     ]
    }
   ],
   "source": [
    "df.info()"
   ]
  },
  {
   "cell_type": "code",
   "execution_count": 345,
   "id": "67a80164",
   "metadata": {},
   "outputs": [
    {
     "data": {
      "text/html": [
       "<div>\n",
       "<style scoped>\n",
       "    .dataframe tbody tr th:only-of-type {\n",
       "        vertical-align: middle;\n",
       "    }\n",
       "\n",
       "    .dataframe tbody tr th {\n",
       "        vertical-align: top;\n",
       "    }\n",
       "\n",
       "    .dataframe thead th {\n",
       "        text-align: right;\n",
       "    }\n",
       "</style>\n",
       "<table border=\"1\" class=\"dataframe\">\n",
       "  <thead>\n",
       "    <tr style=\"text-align: right;\">\n",
       "      <th></th>\n",
       "      <th>Height</th>\n",
       "      <th>Weight</th>\n",
       "    </tr>\n",
       "  </thead>\n",
       "  <tbody>\n",
       "    <tr>\n",
       "      <th>count</th>\n",
       "      <td>8555.000000</td>\n",
       "      <td>8555.000000</td>\n",
       "    </tr>\n",
       "    <tr>\n",
       "      <th>mean</th>\n",
       "      <td>66.809925</td>\n",
       "      <td>165.632735</td>\n",
       "    </tr>\n",
       "    <tr>\n",
       "      <th>std</th>\n",
       "      <td>3.851454</td>\n",
       "      <td>32.043922</td>\n",
       "    </tr>\n",
       "    <tr>\n",
       "      <th>min</th>\n",
       "      <td>54.616858</td>\n",
       "      <td>65.780000</td>\n",
       "    </tr>\n",
       "    <tr>\n",
       "      <th>25%</th>\n",
       "      <td>63.957684</td>\n",
       "      <td>139.876803</td>\n",
       "    </tr>\n",
       "    <tr>\n",
       "      <th>50%</th>\n",
       "      <td>66.985923</td>\n",
       "      <td>168.521567</td>\n",
       "    </tr>\n",
       "    <tr>\n",
       "      <th>75%</th>\n",
       "      <td>69.604427</td>\n",
       "      <td>190.666305</td>\n",
       "    </tr>\n",
       "    <tr>\n",
       "      <th>max</th>\n",
       "      <td>80.450000</td>\n",
       "      <td>269.989698</td>\n",
       "    </tr>\n",
       "  </tbody>\n",
       "</table>\n",
       "</div>"
      ],
      "text/plain": [
       "            Height       Weight\n",
       "count  8555.000000  8555.000000\n",
       "mean     66.809925   165.632735\n",
       "std       3.851454    32.043922\n",
       "min      54.616858    65.780000\n",
       "25%      63.957684   139.876803\n",
       "50%      66.985923   168.521567\n",
       "75%      69.604427   190.666305\n",
       "max      80.450000   269.989698"
      ]
     },
     "execution_count": 345,
     "metadata": {},
     "output_type": "execute_result"
    }
   ],
   "source": [
    "df.describe()"
   ]
  },
  {
   "cell_type": "code",
   "execution_count": 346,
   "id": "844340c3",
   "metadata": {},
   "outputs": [
    {
     "data": {
      "text/plain": [
       "Gender    False\n",
       "Height    False\n",
       "Weight    False\n",
       "dtype: bool"
      ]
     },
     "execution_count": 346,
     "metadata": {},
     "output_type": "execute_result"
    }
   ],
   "source": [
    "#missing valu  Detection\n",
    "df.isnull().any()"
   ]
  },
  {
   "cell_type": "code",
   "execution_count": 347,
   "id": "09ab0596",
   "metadata": {},
   "outputs": [
    {
     "data": {
      "text/plain": [
       "Text(0, 0.5, 'Weight')"
      ]
     },
     "execution_count": 347,
     "metadata": {},
     "output_type": "execute_result"
    },
    {
     "data": {
      "image/png": "[encoded data removed]",
      "text/plain": [
       "<Figure size 432x288 with 1 Axes>"
      ]
     },
     "metadata": {
      "needs_background": "light"
     },
     "output_type": "display_data"
    }
   ],
   "source": [
    "#Data Visualization\n",
    "import matplotlib.pyplot as plt\n",
    "plt.scatter(df['Height'],df['Weight'],color='yellow')\n",
    "plt.xlabel('Hight')\n",
    "plt.ylabel('Weight')"
   ]
  },
  {
   "cell_type": "code",
   "execution_count": 348,
   "id": "596545ad",
   "metadata": {},
   "outputs": [
    {
     "data": {
      "text/plain": [
       "0       False\n",
       "1       False\n",
       "2       False\n",
       "3       False\n",
       "4       False\n",
       "        ...  \n",
       "8550    False\n",
       "8551    False\n",
       "8552    False\n",
       "8553    False\n",
       "8554    False\n",
       "Length: 8555, dtype: bool"
      ]
     },
     "execution_count": 348,
     "metadata": {},
     "output_type": "execute_result"
    }
   ],
   "source": [
    "df.duplicated() # To Find out the Duplicates"
   ]
  },
  {
   "cell_type": "code",
   "execution_count": 349,
   "id": "624d50cf",
   "metadata": {},
   "outputs": [],
   "source": [
    "#Encoding\n",
    "\n",
    "from sklearn.preprocessing import LabelEncoder"
   ]
  },
  {
   "cell_type": "code",
   "execution_count": 350,
   "id": "d9388af2",
   "metadata": {},
   "outputs": [],
   "source": [
    "le=LabelEncoder()"
   ]
  },
  {
   "cell_type": "code",
   "execution_count": 351,
   "id": "db10c748",
   "metadata": {},
   "outputs": [],
   "source": [
    "df.Gender = le.fit_transform(df['Gender'])"
   ]
  },
  {
   "cell_type": "code",
   "execution_count": 352,
   "id": "27891453",
   "metadata": {},
   "outputs": [
    {
     "data": {
      "text/html": [
       "<div>\n",
       "<style scoped>\n",
       "    .dataframe tbody tr th:only-of-type {\n",
       "        vertical-align: middle;\n",
       "    }\n",
       "\n",
       "    .dataframe tbody tr th {\n",
       "        vertical-align: top;\n",
       "    }\n",
       "\n",
       "    .dataframe thead th {\n",
       "        text-align: right;\n",
       "    }\n",
       "</style>\n",
       "<table border=\"1\" class=\"dataframe\">\n",
       "  <thead>\n",
       "    <tr style=\"text-align: right;\">\n",
       "      <th></th>\n",
       "      <th>Gender</th>\n",
       "      <th>Height</th>\n",
       "      <th>Weight</th>\n",
       "    </tr>\n",
       "  </thead>\n",
       "  <tbody>\n",
       "    <tr>\n",
       "      <th>0</th>\n",
       "      <td>1</td>\n",
       "      <td>73.847017</td>\n",
       "      <td>241.893563</td>\n",
       "    </tr>\n",
       "    <tr>\n",
       "      <th>1</th>\n",
       "      <td>1</td>\n",
       "      <td>68.781904</td>\n",
       "      <td>162.310473</td>\n",
       "    </tr>\n",
       "    <tr>\n",
       "      <th>2</th>\n",
       "      <td>1</td>\n",
       "      <td>74.110105</td>\n",
       "      <td>212.740856</td>\n",
       "    </tr>\n",
       "    <tr>\n",
       "      <th>3</th>\n",
       "      <td>1</td>\n",
       "      <td>71.730978</td>\n",
       "      <td>220.042470</td>\n",
       "    </tr>\n",
       "    <tr>\n",
       "      <th>4</th>\n",
       "      <td>1</td>\n",
       "      <td>69.881796</td>\n",
       "      <td>206.349801</td>\n",
       "    </tr>\n",
       "    <tr>\n",
       "      <th>...</th>\n",
       "      <td>...</td>\n",
       "      <td>...</td>\n",
       "      <td>...</td>\n",
       "    </tr>\n",
       "    <tr>\n",
       "      <th>8550</th>\n",
       "      <td>0</td>\n",
       "      <td>60.483946</td>\n",
       "      <td>110.565497</td>\n",
       "    </tr>\n",
       "    <tr>\n",
       "      <th>8551</th>\n",
       "      <td>0</td>\n",
       "      <td>63.423372</td>\n",
       "      <td>129.921671</td>\n",
       "    </tr>\n",
       "    <tr>\n",
       "      <th>8552</th>\n",
       "      <td>0</td>\n",
       "      <td>65.584057</td>\n",
       "      <td>155.942671</td>\n",
       "    </tr>\n",
       "    <tr>\n",
       "      <th>8553</th>\n",
       "      <td>0</td>\n",
       "      <td>67.429971</td>\n",
       "      <td>151.678405</td>\n",
       "    </tr>\n",
       "    <tr>\n",
       "      <th>8554</th>\n",
       "      <td>0</td>\n",
       "      <td>60.921791</td>\n",
       "      <td>131.253738</td>\n",
       "    </tr>\n",
       "  </tbody>\n",
       "</table>\n",
       "<p>8555 rows × 3 columns</p>\n",
       "</div>"
      ],
      "text/plain": [
       "      Gender     Height      Weight\n",
       "0          1  73.847017  241.893563\n",
       "1          1  68.781904  162.310473\n",
       "2          1  74.110105  212.740856\n",
       "3          1  71.730978  220.042470\n",
       "4          1  69.881796  206.349801\n",
       "...      ...        ...         ...\n",
       "8550       0  60.483946  110.565497\n",
       "8551       0  63.423372  129.921671\n",
       "8552       0  65.584057  155.942671\n",
       "8553       0  67.429971  151.678405\n",
       "8554       0  60.921791  131.253738\n",
       "\n",
       "[8555 rows x 3 columns]"
      ]
     },
     "execution_count": 352,
     "metadata": {},
     "output_type": "execute_result"
    }
   ],
   "source": [
    "df"
   ]
  },
  {
   "cell_type": "code",
   "execution_count": 353,
   "id": "e03f140e",
   "metadata": {},
   "outputs": [],
   "source": [
    "x=df.drop('Weight',axis=1).values\n",
    "y=df['Weight'].values\n"
   ]
  },
  {
   "cell_type": "code",
   "execution_count": 354,
   "id": "fc4f30c4",
   "metadata": {},
   "outputs": [
    {
     "name": "stdout",
     "output_type": "stream",
     "text": [
      "[[ 1.         73.84701702]\n",
      " [ 1.         68.78190405]\n",
      " [ 1.         74.11010539]\n",
      " ...\n",
      " [ 0.         65.58405676]\n",
      " [ 0.         67.42997138]\n",
      " [ 0.         60.92179087]]\n"
     ]
    },
    {
     "data": {
      "text/plain": [
       "(8555, 2)"
      ]
     },
     "execution_count": 354,
     "metadata": {},
     "output_type": "execute_result"
    }
   ],
   "source": [
    "print(x)\n",
    "x.shape"
   ]
  },
  {
   "cell_type": "code",
   "execution_count": 355,
   "id": "9989197e",
   "metadata": {},
   "outputs": [
    {
     "name": "stdout",
     "output_type": "stream",
     "text": [
      "[241.8935632 162.3104725 212.7408556 ... 155.9426708 151.6784055\n",
      " 131.2537378]\n"
     ]
    },
    {
     "data": {
      "text/plain": [
       "(8555,)"
      ]
     },
     "execution_count": 355,
     "metadata": {},
     "output_type": "execute_result"
    }
   ],
   "source": [
    "print(y)\n",
    "y.shape"
   ]
  },
  {
   "cell_type": "markdown",
   "id": "7ee32888",
   "metadata": {},
   "source": [
    "# separate Training and Testing Data"
   ]
  },
  {
   "cell_type": "code",
   "execution_count": 356,
   "id": "b8eaf939",
   "metadata": {},
   "outputs": [],
   "source": [
    "from sklearn.model_selection import train_test_split"
   ]
  },
  {
   "cell_type": "code",
   "execution_count": 357,
   "id": "bd8a61a7",
   "metadata": {},
   "outputs": [],
   "source": [
    "xtrain,xtest,ytrain,ytest=train_test_split(x,y,train_size=0.7,random_state=1)"
   ]
  },
  {
   "cell_type": "code",
   "execution_count": 358,
   "id": "633738cf",
   "metadata": {},
   "outputs": [
    {
     "name": "stdout",
     "output_type": "stream",
     "text": [
      "[[ 0.         65.06803769]\n",
      " [ 1.         70.82464272]\n",
      " [ 1.         68.66359393]\n",
      " ...\n",
      " [ 0.         67.89565929]\n",
      " [ 1.         69.03106285]\n",
      " [ 1.         71.47610128]]\n"
     ]
    },
    {
     "data": {
      "text/plain": [
       "(2567, 2)"
      ]
     },
     "execution_count": 358,
     "metadata": {},
     "output_type": "execute_result"
    }
   ],
   "source": [
    "print(xtest)\n",
    "xtest.shape"
   ]
  },
  {
   "cell_type": "code",
   "execution_count": 359,
   "id": "22f3056a",
   "metadata": {},
   "outputs": [
    {
     "data": {
      "text/plain": [
       "(2567, 2)"
      ]
     },
     "execution_count": 359,
     "metadata": {},
     "output_type": "execute_result"
    }
   ],
   "source": [
    "xtest.shape"
   ]
  },
  {
   "cell_type": "code",
   "execution_count": 360,
   "id": "228dfabd",
   "metadata": {},
   "outputs": [
    {
     "data": {
      "text/plain": [
       "(2567,)"
      ]
     },
     "execution_count": 360,
     "metadata": {},
     "output_type": "execute_result"
    }
   ],
   "source": [
    "ytest.shape"
   ]
  },
  {
   "cell_type": "markdown",
   "id": "8aeca3ad",
   "metadata": {},
   "source": [
    "# Linear Regression"
   ]
  },
  {
   "cell_type": "code",
   "execution_count": 361,
   "id": "a6ebb1c4",
   "metadata": {},
   "outputs": [],
   "source": [
    "from sklearn.linear_model import LinearRegression"
   ]
  },
  {
   "cell_type": "code",
   "execution_count": 362,
   "id": "285b67f8",
   "metadata": {},
   "outputs": [],
   "source": [
    "reg=LinearRegression()"
   ]
  },
  {
   "cell_type": "code",
   "execution_count": 363,
   "id": "893a2623",
   "metadata": {},
   "outputs": [
    {
     "data": {
      "text/plain": [
       "LinearRegression()"
      ]
     },
     "execution_count": 363,
     "metadata": {},
     "output_type": "execute_result"
    }
   ],
   "source": [
    "reg.fit(xtrain,ytrain)  ##To Fit the Model"
   ]
  },
  {
   "cell_type": "markdown",
   "id": "977d5dac",
   "metadata": {},
   "source": [
    "# Evaluate the ML model"
   ]
  },
  {
   "cell_type": "code",
   "execution_count": 364,
   "id": "739ec542",
   "metadata": {},
   "outputs": [
    {
     "name": "stdout",
     "output_type": "stream",
     "text": [
      "Coefficients is 2\n"
     ]
    }
   ],
   "source": [
    "# The coefficients\n",
    "print('Coefficients is %d' %len(reg.coef_))"
   ]
  },
  {
   "cell_type": "code",
   "execution_count": 365,
   "id": "2f0c46b2",
   "metadata": {},
   "outputs": [
    {
     "name": "stdout",
     "output_type": "stream",
     "text": [
      "the estimated intercept is -244.55\n"
     ]
    }
   ],
   "source": [
    "print('the estimated intercept is %.2f' %reg.intercept_)"
   ]
  },
  {
   "cell_type": "code",
   "execution_count": 366,
   "id": "05da47cd",
   "metadata": {},
   "outputs": [
    {
     "name": "stdout",
     "output_type": "stream",
     "text": [
      "[143.83013436 197.53417989 184.63515112 ... 160.7078525  186.82852694\n",
      " 201.4226542 ]\n"
     ]
    },
    {
     "data": {
      "text/plain": [
       "(2567,)"
      ]
     },
     "execution_count": 366,
     "metadata": {},
     "output_type": "execute_result"
    }
   ],
   "source": [
    "y_pred=reg.predict(xtest)\n",
    "print(y_pred)\n",
    "y_pred.shape"
   ]
  },
  {
   "cell_type": "code",
   "execution_count": 367,
   "id": "418158a1",
   "metadata": {},
   "outputs": [
    {
     "data": {
      "text/plain": [
       "0.9059959607091168"
      ]
     },
     "execution_count": 367,
     "metadata": {},
     "output_type": "execute_result"
    }
   ],
   "source": [
    "reg.score(xtest,ytest) ## Model Accurecy"
   ]
  },
  {
   "cell_type": "code",
   "execution_count": 368,
   "id": "8fe0bac0",
   "metadata": {},
   "outputs": [
    {
     "data": {
      "text/html": [
       "<div>\n",
       "<style scoped>\n",
       "    .dataframe tbody tr th:only-of-type {\n",
       "        vertical-align: middle;\n",
       "    }\n",
       "\n",
       "    .dataframe tbody tr th {\n",
       "        vertical-align: top;\n",
       "    }\n",
       "\n",
       "    .dataframe thead th {\n",
       "        text-align: right;\n",
       "    }\n",
       "</style>\n",
       "<table border=\"1\" class=\"dataframe\">\n",
       "  <thead>\n",
       "    <tr style=\"text-align: right;\">\n",
       "      <th></th>\n",
       "      <th>Actual Value</th>\n",
       "      <th>Predicted value</th>\n",
       "      <th>Diference</th>\n",
       "    </tr>\n",
       "  </thead>\n",
       "  <tbody>\n",
       "    <tr>\n",
       "      <th>0</th>\n",
       "      <td>160.800726</td>\n",
       "      <td>143.830134</td>\n",
       "      <td>16.970591</td>\n",
       "    </tr>\n",
       "    <tr>\n",
       "      <th>1</th>\n",
       "      <td>184.516688</td>\n",
       "      <td>197.534180</td>\n",
       "      <td>-13.017492</td>\n",
       "    </tr>\n",
       "    <tr>\n",
       "      <th>2</th>\n",
       "      <td>184.262796</td>\n",
       "      <td>184.635151</td>\n",
       "      <td>-0.372355</td>\n",
       "    </tr>\n",
       "    <tr>\n",
       "      <th>3</th>\n",
       "      <td>166.844114</td>\n",
       "      <td>149.318948</td>\n",
       "      <td>17.525167</td>\n",
       "    </tr>\n",
       "    <tr>\n",
       "      <th>4</th>\n",
       "      <td>200.466282</td>\n",
       "      <td>197.992697</td>\n",
       "      <td>2.473584</td>\n",
       "    </tr>\n",
       "    <tr>\n",
       "      <th>5</th>\n",
       "      <td>128.204119</td>\n",
       "      <td>136.189139</td>\n",
       "      <td>-7.985020</td>\n",
       "    </tr>\n",
       "    <tr>\n",
       "      <th>6</th>\n",
       "      <td>185.538020</td>\n",
       "      <td>184.452279</td>\n",
       "      <td>1.085741</td>\n",
       "    </tr>\n",
       "    <tr>\n",
       "      <th>7</th>\n",
       "      <td>158.374087</td>\n",
       "      <td>160.304003</td>\n",
       "      <td>-1.929916</td>\n",
       "    </tr>\n",
       "    <tr>\n",
       "      <th>8</th>\n",
       "      <td>124.882434</td>\n",
       "      <td>122.688290</td>\n",
       "      <td>2.194144</td>\n",
       "    </tr>\n",
       "    <tr>\n",
       "      <th>9</th>\n",
       "      <td>113.266334</td>\n",
       "      <td>116.697920</td>\n",
       "      <td>-3.431586</td>\n",
       "    </tr>\n",
       "  </tbody>\n",
       "</table>\n",
       "</div>"
      ],
      "text/plain": [
       "   Actual Value  Predicted value  Diference\n",
       "0    160.800726       143.830134  16.970591\n",
       "1    184.516688       197.534180 -13.017492\n",
       "2    184.262796       184.635151  -0.372355\n",
       "3    166.844114       149.318948  17.525167\n",
       "4    200.466282       197.992697   2.473584\n",
       "5    128.204119       136.189139  -7.985020\n",
       "6    185.538020       184.452279   1.085741\n",
       "7    158.374087       160.304003  -1.929916\n",
       "8    124.882434       122.688290   2.194144\n",
       "9    113.266334       116.697920  -3.431586"
      ]
     },
     "execution_count": 368,
     "metadata": {},
     "output_type": "execute_result"
    }
   ],
   "source": [
    "pred_y_df=pd.DataFrame({'Actual Value':ytest,'Predicted value':y_pred,'Diference':ytest-y_pred})\n",
    "pred_y_df[0:10]"
   ]
  },
  {
   "cell_type": "code",
   "execution_count": 369,
   "id": "e54a934f",
   "metadata": {},
   "outputs": [
    {
     "data": {
      "text/plain": [
       "Text(0.5, 1.0, 'Actual vs. Predicted')"
      ]
     },
     "execution_count": 369,
     "metadata": {},
     "output_type": "execute_result"
    },
    {
     "data": {
      "image/png": "[encoded data removed]",
      "text/plain": [
       "<Figure size 432x288 with 1 Axes>"
      ]
     },
     "metadata": {
      "needs_background": "light"
     },
     "output_type": "display_data"
    }
   ],
   "source": [
    "import matplotlib.pyplot as plt\n",
    "plt.scatter (ytest,y_pred,color='red')\n",
    "plt.xlabel(\"Actual\")\n",
    "plt.ylabel('Predicted')\n",
    "plt.title('Actual vs. Predicted')"
   ]
  },
  {
   "cell_type": "code",
   "execution_count": 370,
   "id": "bf26fc75",
   "metadata": {},
   "outputs": [],
   "source": [
    "## MSE(mean_squared_error)\n",
    "from sklearn.metrics import mean_squared_error,r2_score"
   ]
  },
  {
   "cell_type": "code",
   "execution_count": 371,
   "id": "89b37f0a",
   "metadata": {},
   "outputs": [],
   "source": [
    "MSE=mean_squared_error"
   ]
  },
  {
   "cell_type": "code",
   "execution_count": 372,
   "id": "9378acdd",
   "metadata": {},
   "outputs": [
    {
     "name": "stdout",
     "output_type": "stream",
     "text": [
      "Mean squared error: 99.67\n"
     ]
    }
   ],
   "source": [
    "print(\"Mean squared error: %.2f\" % MSE(ytest,y_pred))"
   ]
  },
  {
   "cell_type": "code",
   "execution_count": 373,
   "id": "e33f59a7",
   "metadata": {},
   "outputs": [
    {
     "data": {
      "text/plain": [
       "9.983612070823842"
      ]
     },
     "execution_count": 373,
     "metadata": {},
     "output_type": "execute_result"
    }
   ],
   "source": [
    "mean_squared_error(ytest, y_pred, squared=False)"
   ]
  },
  {
   "cell_type": "code",
   "execution_count": 374,
   "id": "268992f4",
   "metadata": {},
   "outputs": [
    {
     "name": "stdout",
     "output_type": "stream",
     "text": [
      "Coefficient of determination: 0.91\n"
     ]
    }
   ],
   "source": [
    "print(\"Coefficient of determination: %.2f\" % r2_score(ytest,y_pred))"
   ]
  },
  {
   "cell_type": "markdown",
   "id": "cc315d92",
   "metadata": {},
   "source": [
    "# Apply KNN REGRESSOR"
   ]
  },
  {
   "cell_type": "code",
   "execution_count": 375,
   "id": "56d9daf3",
   "metadata": {},
   "outputs": [],
   "source": [
    "from sklearn.neighbors import KNeighborsRegressor\n",
    " "
   ]
  },
  {
   "cell_type": "code",
   "execution_count": 376,
   "id": "6deff311",
   "metadata": {},
   "outputs": [],
   "source": [
    "KNN_reg=KNeighborsRegressor()"
   ]
  },
  {
   "cell_type": "code",
   "execution_count": 377,
   "id": "ccb58ae0",
   "metadata": {},
   "outputs": [
    {
     "data": {
      "text/plain": [
       "KNeighborsRegressor()"
      ]
     },
     "execution_count": 377,
     "metadata": {},
     "output_type": "execute_result"
    }
   ],
   "source": [
    "KNN_reg.fit(xtrain,ytrain)"
   ]
  },
  {
   "cell_type": "code",
   "execution_count": 378,
   "id": "3fc5e207",
   "metadata": {},
   "outputs": [
    {
     "data": {
      "text/plain": [
       "0.8838502073708883"
      ]
     },
     "execution_count": 378,
     "metadata": {},
     "output_type": "execute_result"
    }
   ],
   "source": [
    "KNN_reg.score(xtest,ytest)"
   ]
  },
  {
   "cell_type": "code",
   "execution_count": 379,
   "id": "254d110f",
   "metadata": {},
   "outputs": [
    {
     "data": {
      "text/plain": [
       "array([150.1761117 , 197.46276978, 179.03501546, ..., 160.26227546,\n",
       "       180.65461322, 200.56451578])"
      ]
     },
     "execution_count": 379,
     "metadata": {},
     "output_type": "execute_result"
    }
   ],
   "source": [
    "KNNpredict=KNN_reg.predict(xtest)\n",
    "KNNpredict"
   ]
  },
  {
   "cell_type": "code",
   "execution_count": 380,
   "id": "dc55c171",
   "metadata": {},
   "outputs": [
    {
     "name": "stdout",
     "output_type": "stream",
     "text": [
      "Mean squared error: 123.15\n"
     ]
    }
   ],
   "source": [
    "print(\"Mean squared error: %.2f\" % mean_squared_error(ytest,KNNpredict))"
   ]
  },
  {
   "cell_type": "code",
   "execution_count": 381,
   "id": "818ffe6f",
   "metadata": {},
   "outputs": [
    {
     "data": {
      "text/plain": [
       "11.097461810448813"
      ]
     },
     "execution_count": 381,
     "metadata": {},
     "output_type": "execute_result"
    }
   ],
   "source": [
    "RMSE=mean_squared_error(ytest,KNNpredict, squared=False)\n",
    "RMSE"
   ]
  },
  {
   "cell_type": "markdown",
   "id": "ccc93b6b",
   "metadata": {},
   "source": [
    "# #  FOR TUNING"
   ]
  },
  {
   "cell_type": "markdown",
   "id": "12aa5e99",
   "metadata": {},
   "source": [
    "# HYPER PARAMETER OPTIMIZATION"
   ]
  },
  {
   "cell_type": "markdown",
   "id": "9c14f409",
   "metadata": {},
   "source": [
    "## RANDOMIZED SEARCH CV"
   ]
  },
  {
   "cell_type": "code",
   "execution_count": 382,
   "id": "8da4ba4b",
   "metadata": {},
   "outputs": [],
   "source": [
    "from sklearn.model_selection import RandomizedSearchCV"
   ]
  },
  {
   "cell_type": "code",
   "execution_count": 383,
   "id": "99a78afc",
   "metadata": {},
   "outputs": [],
   "source": [
    "n_neighbors = [int(x) for x in np.linspace(start=40, stop=300, num=40)]"
   ]
  },
  {
   "cell_type": "code",
   "execution_count": 384,
   "id": "e2e8a797",
   "metadata": {},
   "outputs": [],
   "source": [
    "weights=['uniform','distance']"
   ]
  },
  {
   "cell_type": "code",
   "execution_count": 385,
   "id": "199f47be",
   "metadata": {},
   "outputs": [],
   "source": [
    "## Creat ids\n",
    "\n",
    "grids={'n_neighbors':n_neighbors,\n",
    "      'weights':weights\n",
    "      }"
   ]
  },
  {
   "cell_type": "code",
   "execution_count": 386,
   "id": "ad6b8853",
   "metadata": {},
   "outputs": [],
   "source": [
    "KNN_reg2=KNeighborsRegressor()"
   ]
  },
  {
   "cell_type": "code",
   "execution_count": 387,
   "id": "db5bb278",
   "metadata": {},
   "outputs": [],
   "source": [
    "RMSE=RandomizedSearchCV(KNN_reg2,grids,n_iter=300,cv=5)"
   ]
  },
  {
   "cell_type": "code",
   "execution_count": 388,
   "id": "c2cd8f27",
   "metadata": {},
   "outputs": [
    {
     "name": "stderr",
     "output_type": "stream",
     "text": [
      "C:\\Users\\fkari653\\Anaconda3\\envs\\DL\\lib\\site-packages\\sklearn\\model_selection\\_search.py:296: UserWarning: The total space of parameters 80 is smaller than n_iter=300. Running 80 iterations. For exhaustive searches, use GridSearchCV.\n",
      "  UserWarning,\n"
     ]
    },
    {
     "data": {
      "text/plain": [
       "RandomizedSearchCV(cv=5, estimator=KNeighborsRegressor(), n_iter=300,\n",
       "                   param_distributions={'n_neighbors': [40, 46, 53, 60, 66, 73,\n",
       "                                                        80, 86, 93, 100, 106,\n",
       "                                                        113, 120, 126, 133, 140,\n",
       "                                                        146, 153, 160, 166, 173,\n",
       "                                                        180, 186, 193, 200, 206,\n",
       "                                                        213, 220, 226, 233, ...],\n",
       "                                        'weights': ['uniform', 'distance']})"
      ]
     },
     "execution_count": 388,
     "metadata": {},
     "output_type": "execute_result"
    }
   ],
   "source": [
    "RMSE.fit(xtrain,ytrain)"
   ]
  },
  {
   "cell_type": "code",
   "execution_count": 389,
   "id": "e31074d3",
   "metadata": {},
   "outputs": [
    {
     "data": {
      "text/plain": [
       "{'mean_fit_time': array([0.00697351, 0.00473032, 0.00414214, 0.00623312, 0.0031229 ,\n",
       "        0.00624886, 0.00624733, 0.00312448, 0.01249661, 0.00457268,\n",
       "        0.00745611, 0.00910759, 0.00624852, 0.00624909, 0.01249876,\n",
       "        0.        , 0.00624943, 0.00119672, 0.00358891, 0.00432706,\n",
       "        0.00312405, 0.00624776, 0.00624881, 0.00452008, 0.0094399 ,\n",
       "        0.0009975 , 0.00378799, 0.00339746, 0.00438724, 0.00552392,\n",
       "        0.00313048, 0.00624108, 0.00624022, 0.00099678, 0.00339136,\n",
       "        0.00320373, 0.00724421, 0.00303197, 0.0029983 , 0.00311713,\n",
       "        0.00625396, 0.0041213 , 0.00623412, 0.00311909, 0.00561309,\n",
       "        0.00501595, 0.00501595, 0.00631618, 0.00610304, 0.00864863,\n",
       "        0.00515351, 0.01177292, 0.0031168 , 0.01123857, 0.00199394,\n",
       "        0.00400953, 0.00584288, 0.00259333, 0.00221972, 0.0030076 ,\n",
       "        0.007127  , 0.00399718, 0.00339055, 0.00624838, 0.00312452,\n",
       "        0.00313077, 0.00935597, 0.00624857, 0.00311575, 0.        ,\n",
       "        0.00625539, 0.00311704, 0.        , 0.00826297, 0.00936518,\n",
       "        0.00533018, 0.01249528, 0.00673428, 0.00312467, 0.00472732]),\n",
       " 'std_fit_time': array([1.40611934e-03, 5.73493712e-03, 6.09585752e-03, 7.63402079e-03,\n",
       "        6.24580383e-03, 7.65325492e-03, 7.65138510e-03, 6.24895096e-03,\n",
       "        6.24830726e-03, 6.57546965e-03, 6.58664547e-03, 3.63260824e-03,\n",
       "        7.65284504e-03, 7.65354595e-03, 6.24938018e-03, 0.00000000e+00,\n",
       "        7.65395474e-03, 2.39343643e-03, 2.93033685e-03, 6.11918176e-03,\n",
       "        6.24809265e-03, 7.65191079e-03, 7.65319545e-03, 6.17394001e-03,\n",
       "        5.82757195e-03, 1.99499130e-03, 3.41809129e-03, 2.79634638e-03,\n",
       "        2.23851069e-03, 5.75222727e-03, 6.26096725e-03, 7.64374197e-03,\n",
       "        7.64269162e-03, 1.99356079e-03, 2.79288973e-03, 2.63946475e-03,\n",
       "        7.05456400e-03, 2.47559269e-03, 2.44813310e-03, 6.23426437e-03,\n",
       "        7.65951230e-03, 6.05278454e-03, 7.63524140e-03, 6.23817444e-03,\n",
       "        7.85495242e-04, 2.75703435e-05, 2.63521457e-05, 6.15690001e-03,\n",
       "        5.14024983e-03, 6.08868909e-03, 5.71705251e-03, 4.72404354e-03,\n",
       "        6.23359680e-03, 7.10845508e-03, 2.44207067e-03, 2.00492559e-03,\n",
       "        7.68876421e-04, 3.19177509e-03, 2.30826846e-03, 2.45574229e-03,\n",
       "        5.06835136e-03, 1.99863764e-03, 2.86261104e-03, 7.65266983e-03,\n",
       "        6.24904633e-03, 6.26153946e-03, 7.63913234e-03, 7.65294242e-03,\n",
       "        6.23149872e-03, 0.00000000e+00, 7.66126125e-03, 6.23407364e-03,\n",
       "        0.00000000e+00, 6.29464680e-03, 7.64671027e-03, 5.91441487e-03,\n",
       "        6.24767700e-03, 5.11669049e-03, 6.24933243e-03, 6.27101907e-03]),\n",
       " 'mean_score_time': array([0.0169764 , 0.01319828, 0.01541076, 0.0125092 , 0.0156229 ,\n",
       "        0.01249657, 0.01562071, 0.02499495, 0.02811923, 0.02895646,\n",
       "        0.02599487, 0.02654424, 0.02187047, 0.02811713, 0.01874404,\n",
       "        0.02812128, 0.02994671, 0.02950745, 0.03085608, 0.02448235,\n",
       "        0.03354454, 0.0312428 , 0.03436689, 0.0385788 , 0.03718944,\n",
       "        0.04774971, 0.04040928, 0.04529929, 0.04114184, 0.04017191,\n",
       "        0.04060135, 0.03749881, 0.03750725, 0.04873247, 0.04206114,\n",
       "        0.04211025, 0.0442256 , 0.04682689, 0.04823198, 0.04687147,\n",
       "        0.04374146, 0.05243158, 0.04688153, 0.05474663, 0.05556083,\n",
       "        0.05212674, 0.04944768, 0.05419469, 0.04818902, 0.05537524,\n",
       "        0.05039778, 0.05345125, 0.05623789, 0.05606208, 0.05801558,\n",
       "        0.06413574, 0.06542306, 0.09260855, 0.06511564, 0.06746135,\n",
       "        0.0685843 , 0.07073917, 0.06508799, 0.06561685, 0.06248665,\n",
       "        0.06873493, 0.0624877 , 0.06874018, 0.06560979, 0.0781085 ,\n",
       "        0.06560931, 0.08123083, 0.07864938, 0.08043971, 0.09061236,\n",
       "        0.09777346, 0.0781158 , 0.08589287, 0.07811451, 0.08974781]),\n",
       " 'std_score_time': array([2.29102663e-03, 6.98686365e-03, 1.31088793e-03, 6.25463279e-03,\n",
       "        4.48177213e-05, 6.24828480e-03, 4.79926591e-06, 7.65179399e-03,\n",
       "        6.24902261e-03, 8.82968996e-03, 6.23724286e-03, 7.54812519e-03,\n",
       "        7.65348762e-03, 6.24952329e-03, 6.24904646e-03, 6.25270600e-03,\n",
       "        7.56679521e-03, 3.49026749e-03, 4.77448714e-03, 8.33589446e-03,\n",
       "        4.58385676e-03, 1.69528855e-06, 6.24845029e-03, 9.73941734e-03,\n",
       "        5.08202273e-03, 4.69539998e-03, 7.96116885e-03, 6.94956410e-03,\n",
       "        4.50199627e-03, 8.53174128e-03, 7.64084885e-03, 7.63183630e-03,\n",
       "        7.63998630e-03, 3.18183901e-03, 5.13747865e-03, 7.11982952e-03,\n",
       "        6.81543978e-03, 1.70049377e-03, 6.06389901e-03, 3.27304165e-05,\n",
       "        6.24851642e-03, 8.82032700e-03, 3.32162861e-05, 1.00020183e-02,\n",
       "        4.83801852e-03, 1.66301879e-03, 9.85343884e-04, 6.25350964e-03,\n",
       "        4.85497594e-03, 8.33620962e-03, 7.44696674e-03, 8.71507590e-03,\n",
       "        7.63533970e-03, 7.92723568e-03, 6.48325314e-03, 4.37154918e-03,\n",
       "        5.66306777e-03, 1.85825732e-02, 1.49607435e-02, 5.32576651e-03,\n",
       "        8.10066545e-03, 4.33684913e-03, 6.87478915e-03, 6.24383892e-03,\n",
       "        3.38598034e-05, 7.61503158e-03, 1.83657222e-05, 7.67232104e-03,\n",
       "        6.25287924e-03, 3.58548569e-06, 6.24437580e-03, 6.23181947e-03,\n",
       "        3.17448121e-03, 1.20418682e-02, 6.25207954e-03, 9.67069427e-03,\n",
       "        1.39624020e-02, 5.69018097e-03, 3.43372421e-05, 1.20433213e-02]),\n",
       " 'param_weights': masked_array(data=['uniform', 'distance', 'uniform', 'distance',\n",
       "                    'uniform', 'distance', 'uniform', 'distance',\n",
       "                    'uniform', 'distance', 'uniform', 'distance',\n",
       "                    'uniform', 'distance', 'uniform', 'distance',\n",
       "                    'uniform', 'distance', 'uniform', 'distance',\n",
       "                    'uniform', 'distance', 'uniform', 'distance',\n",
       "                    'uniform', 'distance', 'uniform', 'distance',\n",
       "                    'uniform', 'distance', 'uniform', 'distance',\n",
       "                    'uniform', 'distance', 'uniform', 'distance',\n",
       "                    'uniform', 'distance', 'uniform', 'distance',\n",
       "                    'uniform', 'distance', 'uniform', 'distance',\n",
       "                    'uniform', 'distance', 'uniform', 'distance',\n",
       "                    'uniform', 'distance', 'uniform', 'distance',\n",
       "                    'uniform', 'distance', 'uniform', 'distance',\n",
       "                    'uniform', 'distance', 'uniform', 'distance',\n",
       "                    'uniform', 'distance', 'uniform', 'distance',\n",
       "                    'uniform', 'distance', 'uniform', 'distance',\n",
       "                    'uniform', 'distance', 'uniform', 'distance',\n",
       "                    'uniform', 'distance', 'uniform', 'distance',\n",
       "                    'uniform', 'distance', 'uniform', 'distance'],\n",
       "              mask=[False, False, False, False, False, False, False, False,\n",
       "                    False, False, False, False, False, False, False, False,\n",
       "                    False, False, False, False, False, False, False, False,\n",
       "                    False, False, False, False, False, False, False, False,\n",
       "                    False, False, False, False, False, False, False, False,\n",
       "                    False, False, False, False, False, False, False, False,\n",
       "                    False, False, False, False, False, False, False, False,\n",
       "                    False, False, False, False, False, False, False, False,\n",
       "                    False, False, False, False, False, False, False, False,\n",
       "                    False, False, False, False, False, False, False, False],\n",
       "        fill_value='?',\n",
       "             dtype=object),\n",
       " 'param_n_neighbors': masked_array(data=[40, 40, 46, 46, 53, 53, 60, 60, 66, 66, 73, 73, 80, 80,\n",
       "                    86, 86, 93, 93, 100, 100, 106, 106, 113, 113, 120, 120,\n",
       "                    126, 126, 133, 133, 140, 140, 146, 146, 153, 153, 160,\n",
       "                    160, 166, 166, 173, 173, 180, 180, 186, 186, 193, 193,\n",
       "                    200, 200, 206, 206, 213, 213, 220, 220, 226, 226, 233,\n",
       "                    233, 240, 240, 246, 246, 253, 253, 260, 260, 266, 266,\n",
       "                    273, 273, 280, 280, 286, 286, 293, 293, 300, 300],\n",
       "              mask=[False, False, False, False, False, False, False, False,\n",
       "                    False, False, False, False, False, False, False, False,\n",
       "                    False, False, False, False, False, False, False, False,\n",
       "                    False, False, False, False, False, False, False, False,\n",
       "                    False, False, False, False, False, False, False, False,\n",
       "                    False, False, False, False, False, False, False, False,\n",
       "                    False, False, False, False, False, False, False, False,\n",
       "                    False, False, False, False, False, False, False, False,\n",
       "                    False, False, False, False, False, False, False, False,\n",
       "                    False, False, False, False, False, False, False, False],\n",
       "        fill_value='?',\n",
       "             dtype=object),\n",
       " 'params': [{'weights': 'uniform', 'n_neighbors': 40},\n",
       "  {'weights': 'distance', 'n_neighbors': 40},\n",
       "  {'weights': 'uniform', 'n_neighbors': 46},\n",
       "  {'weights': 'distance', 'n_neighbors': 46},\n",
       "  {'weights': 'uniform', 'n_neighbors': 53},\n",
       "  {'weights': 'distance', 'n_neighbors': 53},\n",
       "  {'weights': 'uniform', 'n_neighbors': 60},\n",
       "  {'weights': 'distance', 'n_neighbors': 60},\n",
       "  {'weights': 'uniform', 'n_neighbors': 66},\n",
       "  {'weights': 'distance', 'n_neighbors': 66},\n",
       "  {'weights': 'uniform', 'n_neighbors': 73},\n",
       "  {'weights': 'distance', 'n_neighbors': 73},\n",
       "  {'weights': 'uniform', 'n_neighbors': 80},\n",
       "  {'weights': 'distance', 'n_neighbors': 80},\n",
       "  {'weights': 'uniform', 'n_neighbors': 86},\n",
       "  {'weights': 'distance', 'n_neighbors': 86},\n",
       "  {'weights': 'uniform', 'n_neighbors': 93},\n",
       "  {'weights': 'distance', 'n_neighbors': 93},\n",
       "  {'weights': 'uniform', 'n_neighbors': 100},\n",
       "  {'weights': 'distance', 'n_neighbors': 100},\n",
       "  {'weights': 'uniform', 'n_neighbors': 106},\n",
       "  {'weights': 'distance', 'n_neighbors': 106},\n",
       "  {'weights': 'uniform', 'n_neighbors': 113},\n",
       "  {'weights': 'distance', 'n_neighbors': 113},\n",
       "  {'weights': 'uniform', 'n_neighbors': 120},\n",
       "  {'weights': 'distance', 'n_neighbors': 120},\n",
       "  {'weights': 'uniform', 'n_neighbors': 126},\n",
       "  {'weights': 'distance', 'n_neighbors': 126},\n",
       "  {'weights': 'uniform', 'n_neighbors': 133},\n",
       "  {'weights': 'distance', 'n_neighbors': 133},\n",
       "  {'weights': 'uniform', 'n_neighbors': 140},\n",
       "  {'weights': 'distance', 'n_neighbors': 140},\n",
       "  {'weights': 'uniform', 'n_neighbors': 146},\n",
       "  {'weights': 'distance', 'n_neighbors': 146},\n",
       "  {'weights': 'uniform', 'n_neighbors': 153},\n",
       "  {'weights': 'distance', 'n_neighbors': 153},\n",
       "  {'weights': 'uniform', 'n_neighbors': 160},\n",
       "  {'weights': 'distance', 'n_neighbors': 160},\n",
       "  {'weights': 'uniform', 'n_neighbors': 166},\n",
       "  {'weights': 'distance', 'n_neighbors': 166},\n",
       "  {'weights': 'uniform', 'n_neighbors': 173},\n",
       "  {'weights': 'distance', 'n_neighbors': 173},\n",
       "  {'weights': 'uniform', 'n_neighbors': 180},\n",
       "  {'weights': 'distance', 'n_neighbors': 180},\n",
       "  {'weights': 'uniform', 'n_neighbors': 186},\n",
       "  {'weights': 'distance', 'n_neighbors': 186},\n",
       "  {'weights': 'uniform', 'n_neighbors': 193},\n",
       "  {'weights': 'distance', 'n_neighbors': 193},\n",
       "  {'weights': 'uniform', 'n_neighbors': 200},\n",
       "  {'weights': 'distance', 'n_neighbors': 200},\n",
       "  {'weights': 'uniform', 'n_neighbors': 206},\n",
       "  {'weights': 'distance', 'n_neighbors': 206},\n",
       "  {'weights': 'uniform', 'n_neighbors': 213},\n",
       "  {'weights': 'distance', 'n_neighbors': 213},\n",
       "  {'weights': 'uniform', 'n_neighbors': 220},\n",
       "  {'weights': 'distance', 'n_neighbors': 220},\n",
       "  {'weights': 'uniform', 'n_neighbors': 226},\n",
       "  {'weights': 'distance', 'n_neighbors': 226},\n",
       "  {'weights': 'uniform', 'n_neighbors': 233},\n",
       "  {'weights': 'distance', 'n_neighbors': 233},\n",
       "  {'weights': 'uniform', 'n_neighbors': 240},\n",
       "  {'weights': 'distance', 'n_neighbors': 240},\n",
       "  {'weights': 'uniform', 'n_neighbors': 246},\n",
       "  {'weights': 'distance', 'n_neighbors': 246},\n",
       "  {'weights': 'uniform', 'n_neighbors': 253},\n",
       "  {'weights': 'distance', 'n_neighbors': 253},\n",
       "  {'weights': 'uniform', 'n_neighbors': 260},\n",
       "  {'weights': 'distance', 'n_neighbors': 260},\n",
       "  {'weights': 'uniform', 'n_neighbors': 266},\n",
       "  {'weights': 'distance', 'n_neighbors': 266},\n",
       "  {'weights': 'uniform', 'n_neighbors': 273},\n",
       "  {'weights': 'distance', 'n_neighbors': 273},\n",
       "  {'weights': 'uniform', 'n_neighbors': 280},\n",
       "  {'weights': 'distance', 'n_neighbors': 280},\n",
       "  {'weights': 'uniform', 'n_neighbors': 286},\n",
       "  {'weights': 'distance', 'n_neighbors': 286},\n",
       "  {'weights': 'uniform', 'n_neighbors': 293},\n",
       "  {'weights': 'distance', 'n_neighbors': 293},\n",
       "  {'weights': 'uniform', 'n_neighbors': 300},\n",
       "  {'weights': 'distance', 'n_neighbors': 300}],\n",
       " 'split0_test_score': array([0.89159197, 0.87238436, 0.8921889 , 0.87312304, 0.89183221,\n",
       "        0.87365739, 0.89182117, 0.87419831, 0.89171871, 0.8745828 ,\n",
       "        0.89174506, 0.8749969 , 0.89147886, 0.87531294, 0.89129184,\n",
       "        0.87551018, 0.89088366, 0.87570848, 0.89037603, 0.87587475,\n",
       "        0.88999188, 0.87597798, 0.88950161, 0.8760797 , 0.88908946,\n",
       "        0.87618352, 0.88899368, 0.87630579, 0.88877271, 0.8763948 ,\n",
       "        0.88866958, 0.87649277, 0.88846793, 0.87657658, 0.88790753,\n",
       "        0.87660782, 0.88748872, 0.87665644, 0.88706478, 0.87666924,\n",
       "        0.88666271, 0.87667081, 0.88638834, 0.87669976, 0.88596658,\n",
       "        0.87671432, 0.88552159, 0.87671847, 0.88530686, 0.87675341,\n",
       "        0.88491539, 0.87674491, 0.88447821, 0.8767397 , 0.88398364,\n",
       "        0.87671418, 0.88349739, 0.87667137, 0.88316362, 0.876662  ,\n",
       "        0.88281824, 0.87666036, 0.88246137, 0.87664765, 0.8821343 ,\n",
       "        0.87664632, 0.88176397, 0.87662983, 0.8814216 , 0.87661051,\n",
       "        0.88109552, 0.87659188, 0.88070843, 0.87656273, 0.88043282,\n",
       "        0.87654166, 0.88005949, 0.87652923, 0.87968729, 0.87650783]),\n",
       " 'split1_test_score': array([0.89466363, 0.87574005, 0.89494056, 0.87638562, 0.89475479,\n",
       "        0.8769406 , 0.89391056, 0.87713662, 0.89376389, 0.87740762,\n",
       "        0.89365492, 0.87768503, 0.89369275, 0.87794555, 0.89345865,\n",
       "        0.87810843, 0.89279047, 0.87820198, 0.89238424, 0.87829244,\n",
       "        0.8920235 , 0.87836401, 0.89185752, 0.8784797 , 0.89153671,\n",
       "        0.8785712 , 0.89138664, 0.87862964, 0.89103893, 0.8786902 ,\n",
       "        0.89076561, 0.878747  , 0.89062254, 0.87881024, 0.89023075,\n",
       "        0.87883611, 0.88964369, 0.87878979, 0.88927902, 0.87878372,\n",
       "        0.88881258, 0.87877281, 0.88848145, 0.87879906, 0.88808358,\n",
       "        0.87877679, 0.88776034, 0.87879424, 0.8873393 , 0.87879157,\n",
       "        0.88699647, 0.87875912, 0.88668687, 0.87875723, 0.88628707,\n",
       "        0.87874167, 0.88593344, 0.87870147, 0.88555969, 0.87865764,\n",
       "        0.88530694, 0.87865367, 0.8850058 , 0.87864049, 0.88470416,\n",
       "        0.8786231 , 0.88437949, 0.87859839, 0.88416222, 0.87859111,\n",
       "        0.88396158, 0.87858704, 0.88360115, 0.87856498, 0.88326367,\n",
       "        0.87851781, 0.88287705, 0.87848019, 0.8824454 , 0.87843565]),\n",
       " 'split2_test_score': array([0.88907887, 0.87569559, 0.88943718, 0.87630092, 0.88909995,\n",
       "        0.87660811, 0.88891572, 0.87690269, 0.88888341, 0.87713969,\n",
       "        0.88853051, 0.87727959, 0.88812086, 0.87741618, 0.88795701,\n",
       "        0.87757655, 0.88745938, 0.87767072, 0.88705569, 0.87774761,\n",
       "        0.8871766 , 0.87786946, 0.8869381 , 0.87795816, 0.88688569,\n",
       "        0.87809   , 0.88644117, 0.87812274, 0.88642775, 0.8782325 ,\n",
       "        0.8861563 , 0.87826939, 0.8858983 , 0.87832542, 0.88566151,\n",
       "        0.8783977 , 0.88527081, 0.87841566, 0.88514223, 0.87845677,\n",
       "        0.88476657, 0.87847831, 0.88450793, 0.87853459, 0.88438659,\n",
       "        0.87859861, 0.88398276, 0.87858944, 0.88366664, 0.87860832,\n",
       "        0.88339411, 0.87861845, 0.88307411, 0.87864492, 0.88280982,\n",
       "        0.8786846 , 0.88259938, 0.87872183, 0.88227612, 0.87874136,\n",
       "        0.88195606, 0.87875169, 0.88161297, 0.87875911, 0.88133308,\n",
       "        0.87877188, 0.88097411, 0.87877857, 0.88074855, 0.87877797,\n",
       "        0.88045236, 0.87879593, 0.8802223 , 0.87881485, 0.88005066,\n",
       "        0.87884254, 0.87975899, 0.87885932, 0.87949267, 0.87886321]),\n",
       " 'split3_test_score': array([0.89146537, 0.87595562, 0.89118249, 0.876328  , 0.89095154,\n",
       "        0.87672943, 0.89098297, 0.87712788, 0.89082028, 0.87740715,\n",
       "        0.89096002, 0.87777503, 0.89099885, 0.87809075, 0.8907915 ,\n",
       "        0.87830385, 0.89064411, 0.87850196, 0.89010016, 0.87865227,\n",
       "        0.89001886, 0.87880751, 0.88941254, 0.87887202, 0.88902634,\n",
       "        0.87896717, 0.88879868, 0.87904893, 0.88845637, 0.87911975,\n",
       "        0.88823667, 0.87919122, 0.88797443, 0.87921449, 0.88772793,\n",
       "        0.87925301, 0.88734297, 0.87925593, 0.8871611 , 0.87932022,\n",
       "        0.88673195, 0.87931665, 0.8865028 , 0.87932016, 0.88634816,\n",
       "        0.87933856, 0.88616723, 0.87933315, 0.88602764, 0.87935606,\n",
       "        0.88574841, 0.87935336, 0.88525432, 0.87934927, 0.88497298,\n",
       "        0.87934624, 0.88454577, 0.8793054 , 0.88413106, 0.87927446,\n",
       "        0.88385394, 0.87925601, 0.88365227, 0.8792482 , 0.88342557,\n",
       "        0.87922167, 0.88298473, 0.87918868, 0.88274257, 0.87916805,\n",
       "        0.88235655, 0.87912329, 0.88203636, 0.87909236, 0.88171026,\n",
       "        0.87906508, 0.8813771 , 0.87902552, 0.88099013, 0.87897638]),\n",
       " 'split4_test_score': array([0.89921163, 0.88580751, 0.89967554, 0.88644028, 0.89981141,\n",
       "        0.88699343, 0.90051604, 0.88754783, 0.90051458, 0.88784566,\n",
       "        0.90026391, 0.88815784, 0.90001105, 0.88843756, 0.89977476,\n",
       "        0.88863159, 0.90000561, 0.88894979, 0.8997839 , 0.88915596,\n",
       "        0.89976781, 0.8893414 , 0.89957415, 0.88953966, 0.89934054,\n",
       "        0.88968352, 0.89916463, 0.88979627, 0.89909023, 0.88994202,\n",
       "        0.89877489, 0.89003462, 0.898602  , 0.89009652, 0.89854106,\n",
       "        0.89020946, 0.89811851, 0.89027875, 0.8979684 , 0.8903573 ,\n",
       "        0.89752269, 0.89040807, 0.89720632, 0.89046182, 0.89688425,\n",
       "        0.89048022, 0.89655043, 0.89052144, 0.89612209, 0.89053881,\n",
       "        0.89591227, 0.89058571, 0.89553386, 0.89061438, 0.89513108,\n",
       "        0.89064596, 0.89477701, 0.89067394, 0.89425941, 0.89065268,\n",
       "        0.89406123, 0.89068025, 0.8938542 , 0.89069797, 0.89366626,\n",
       "        0.89071918, 0.89334515, 0.89073   , 0.89301221, 0.89071793,\n",
       "        0.89247998, 0.89068052, 0.89214707, 0.89067482, 0.89184554,\n",
       "        0.89066501, 0.8914987 , 0.89067118, 0.89113289, 0.89066121]),\n",
       " 'mean_test_score': array([0.8932023 , 0.87711663, 0.89348493, 0.87771557, 0.89328998,\n",
       "        0.87818579, 0.89322929, 0.87858267, 0.89314018, 0.87887658,\n",
       "        0.89303088, 0.87917888, 0.89286047, 0.87944059, 0.89265475,\n",
       "        0.87962612, 0.89235665, 0.87980659, 0.89194   , 0.87994461,\n",
       "        0.89179573, 0.88007207, 0.89145678, 0.88018585, 0.89117575,\n",
       "        0.88029908, 0.89095696, 0.88038067, 0.8907572 , 0.88047585,\n",
       "        0.89052061, 0.880547  , 0.89031304, 0.88060465, 0.89001376,\n",
       "        0.88066082, 0.88957294, 0.88067931, 0.88932311, 0.88071745,\n",
       "        0.8888993 , 0.88072933, 0.88861737, 0.88076308, 0.88833383,\n",
       "        0.8807817 , 0.88799647, 0.88079135, 0.88769251, 0.88080963,\n",
       "        0.88739333, 0.88081231, 0.88700548, 0.8808211 , 0.88663692,\n",
       "        0.88082653, 0.8862706 , 0.8808148 , 0.88587798, 0.88079763,\n",
       "        0.88559928, 0.8808004 , 0.88531732, 0.88079868, 0.88505267,\n",
       "        0.88079643, 0.88468949, 0.88078509, 0.88441743, 0.88077312,\n",
       "        0.8840692 , 0.88075573, 0.88374306, 0.88074195, 0.88346059,\n",
       "        0.88072642, 0.88311427, 0.88071309, 0.88274967, 0.88068886]),\n",
       " 'std_test_score': array([0.00348885, 0.00454286, 0.00357233, 0.00453668, 0.00373696,\n",
       "        0.00456599, 0.00397986, 0.00461793, 0.00400733, 0.00460901,\n",
       "        0.00397244, 0.00460262, 0.00399154, 0.00460735, 0.00396834,\n",
       "        0.00461068, 0.00419   , 0.004674  , 0.00427578, 0.00470402,\n",
       "        0.00427442, 0.00473392, 0.00434678, 0.00477397, 0.00433985,\n",
       "        0.00478843, 0.00439216, 0.00479992, 0.00441577, 0.00482335,\n",
       "        0.00437911, 0.00483151, 0.00440831, 0.00483049, 0.00450256,\n",
       "        0.00485874, 0.00449125, 0.00487961, 0.00451657, 0.00490137,\n",
       "        0.00449777, 0.00492017, 0.00447473, 0.00492913, 0.00443396,\n",
       "        0.00492896, 0.00444538, 0.00494421, 0.00437843, 0.00494249,\n",
       "        0.00441746, 0.00496428, 0.00442141, 0.00497449, 0.00439837,\n",
       "        0.00498915, 0.00439582, 0.00500991, 0.00432996, 0.00500706,\n",
       "        0.00437592, 0.00501881, 0.00441874, 0.00502889, 0.00445679,\n",
       "        0.00503957, 0.00447851, 0.00505022, 0.00445367, 0.00505064,\n",
       "        0.00437288, 0.00504079, 0.00436269, 0.00504583, 0.00434062,\n",
       "        0.00504925, 0.00433503, 0.00505843, 0.00432327, 0.005065  ]),\n",
       " 'rank_test_score': array([ 4, 80,  1, 79,  2, 78,  3, 77,  5, 76,  6, 75,  7, 74,  8, 73,  9,\n",
       "        72, 10, 71, 11, 70, 12, 69, 13, 68, 14, 67, 15, 66, 16, 65, 17, 64,\n",
       "        18, 63, 19, 62, 20, 59, 21, 57, 22, 54, 23, 52, 24, 50, 25, 45, 26,\n",
       "        44, 27, 42, 28, 41, 29, 43, 30, 48, 31, 46, 32, 47, 33, 49, 34, 51,\n",
       "        35, 53, 36, 55, 37, 56, 38, 58, 39, 60, 40, 61])}"
      ]
     },
     "execution_count": 389,
     "metadata": {},
     "output_type": "execute_result"
    }
   ],
   "source": [
    "RMSE.cv_results_"
   ]
  },
  {
   "cell_type": "code",
   "execution_count": 390,
   "id": "05be664c",
   "metadata": {},
   "outputs": [
    {
     "data": {
      "text/html": [
       "<div>\n",
       "<style scoped>\n",
       "    .dataframe tbody tr th:only-of-type {\n",
       "        vertical-align: middle;\n",
       "    }\n",
       "\n",
       "    .dataframe tbody tr th {\n",
       "        vertical-align: top;\n",
       "    }\n",
       "\n",
       "    .dataframe thead th {\n",
       "        text-align: right;\n",
       "    }\n",
       "</style>\n",
       "<table border=\"1\" class=\"dataframe\">\n",
       "  <thead>\n",
       "    <tr style=\"text-align: right;\">\n",
       "      <th></th>\n",
       "      <th>mean_fit_time</th>\n",
       "      <th>std_fit_time</th>\n",
       "      <th>mean_score_time</th>\n",
       "      <th>std_score_time</th>\n",
       "      <th>param_weights</th>\n",
       "      <th>param_n_neighbors</th>\n",
       "      <th>params</th>\n",
       "      <th>split0_test_score</th>\n",
       "      <th>split1_test_score</th>\n",
       "      <th>split2_test_score</th>\n",
       "      <th>split3_test_score</th>\n",
       "      <th>split4_test_score</th>\n",
       "      <th>mean_test_score</th>\n",
       "      <th>std_test_score</th>\n",
       "      <th>rank_test_score</th>\n",
       "    </tr>\n",
       "  </thead>\n",
       "  <tbody>\n",
       "    <tr>\n",
       "      <th>0</th>\n",
       "      <td>0.006974</td>\n",
       "      <td>0.001406</td>\n",
       "      <td>0.016976</td>\n",
       "      <td>0.002291</td>\n",
       "      <td>uniform</td>\n",
       "      <td>40</td>\n",
       "      <td>{'weights': 'uniform', 'n_neighbors': 40}</td>\n",
       "      <td>0.891592</td>\n",
       "      <td>0.894664</td>\n",
       "      <td>0.889079</td>\n",
       "      <td>0.891465</td>\n",
       "      <td>0.899212</td>\n",
       "      <td>0.893202</td>\n",
       "      <td>0.003489</td>\n",
       "      <td>4</td>\n",
       "    </tr>\n",
       "    <tr>\n",
       "      <th>1</th>\n",
       "      <td>0.004730</td>\n",
       "      <td>0.005735</td>\n",
       "      <td>0.013198</td>\n",
       "      <td>0.006987</td>\n",
       "      <td>distance</td>\n",
       "      <td>40</td>\n",
       "      <td>{'weights': 'distance', 'n_neighbors': 40}</td>\n",
       "      <td>0.872384</td>\n",
       "      <td>0.875740</td>\n",
       "      <td>0.875696</td>\n",
       "      <td>0.875956</td>\n",
       "      <td>0.885808</td>\n",
       "      <td>0.877117</td>\n",
       "      <td>0.004543</td>\n",
       "      <td>80</td>\n",
       "    </tr>\n",
       "    <tr>\n",
       "      <th>2</th>\n",
       "      <td>0.004142</td>\n",
       "      <td>0.006096</td>\n",
       "      <td>0.015411</td>\n",
       "      <td>0.001311</td>\n",
       "      <td>uniform</td>\n",
       "      <td>46</td>\n",
       "      <td>{'weights': 'uniform', 'n_neighbors': 46}</td>\n",
       "      <td>0.892189</td>\n",
       "      <td>0.894941</td>\n",
       "      <td>0.889437</td>\n",
       "      <td>0.891182</td>\n",
       "      <td>0.899676</td>\n",
       "      <td>0.893485</td>\n",
       "      <td>0.003572</td>\n",
       "      <td>1</td>\n",
       "    </tr>\n",
       "    <tr>\n",
       "      <th>3</th>\n",
       "      <td>0.006233</td>\n",
       "      <td>0.007634</td>\n",
       "      <td>0.012509</td>\n",
       "      <td>0.006255</td>\n",
       "      <td>distance</td>\n",
       "      <td>46</td>\n",
       "      <td>{'weights': 'distance', 'n_neighbors': 46}</td>\n",
       "      <td>0.873123</td>\n",
       "      <td>0.876386</td>\n",
       "      <td>0.876301</td>\n",
       "      <td>0.876328</td>\n",
       "      <td>0.886440</td>\n",
       "      <td>0.877716</td>\n",
       "      <td>0.004537</td>\n",
       "      <td>79</td>\n",
       "    </tr>\n",
       "    <tr>\n",
       "      <th>4</th>\n",
       "      <td>0.003123</td>\n",
       "      <td>0.006246</td>\n",
       "      <td>0.015623</td>\n",
       "      <td>0.000045</td>\n",
       "      <td>uniform</td>\n",
       "      <td>53</td>\n",
       "      <td>{'weights': 'uniform', 'n_neighbors': 53}</td>\n",
       "      <td>0.891832</td>\n",
       "      <td>0.894755</td>\n",
       "      <td>0.889100</td>\n",
       "      <td>0.890952</td>\n",
       "      <td>0.899811</td>\n",
       "      <td>0.893290</td>\n",
       "      <td>0.003737</td>\n",
       "      <td>2</td>\n",
       "    </tr>\n",
       "    <tr>\n",
       "      <th>...</th>\n",
       "      <td>...</td>\n",
       "      <td>...</td>\n",
       "      <td>...</td>\n",
       "      <td>...</td>\n",
       "      <td>...</td>\n",
       "      <td>...</td>\n",
       "      <td>...</td>\n",
       "      <td>...</td>\n",
       "      <td>...</td>\n",
       "      <td>...</td>\n",
       "      <td>...</td>\n",
       "      <td>...</td>\n",
       "      <td>...</td>\n",
       "      <td>...</td>\n",
       "      <td>...</td>\n",
       "    </tr>\n",
       "    <tr>\n",
       "      <th>75</th>\n",
       "      <td>0.005330</td>\n",
       "      <td>0.005914</td>\n",
       "      <td>0.097773</td>\n",
       "      <td>0.009671</td>\n",
       "      <td>distance</td>\n",
       "      <td>286</td>\n",
       "      <td>{'weights': 'distance', 'n_neighbors': 286}</td>\n",
       "      <td>0.876542</td>\n",
       "      <td>0.878518</td>\n",
       "      <td>0.878843</td>\n",
       "      <td>0.879065</td>\n",
       "      <td>0.890665</td>\n",
       "      <td>0.880726</td>\n",
       "      <td>0.005049</td>\n",
       "      <td>58</td>\n",
       "    </tr>\n",
       "    <tr>\n",
       "      <th>76</th>\n",
       "      <td>0.012495</td>\n",
       "      <td>0.006248</td>\n",
       "      <td>0.078116</td>\n",
       "      <td>0.013962</td>\n",
       "      <td>uniform</td>\n",
       "      <td>293</td>\n",
       "      <td>{'weights': 'uniform', 'n_neighbors': 293}</td>\n",
       "      <td>0.880059</td>\n",
       "      <td>0.882877</td>\n",
       "      <td>0.879759</td>\n",
       "      <td>0.881377</td>\n",
       "      <td>0.891499</td>\n",
       "      <td>0.883114</td>\n",
       "      <td>0.004335</td>\n",
       "      <td>39</td>\n",
       "    </tr>\n",
       "    <tr>\n",
       "      <th>77</th>\n",
       "      <td>0.006734</td>\n",
       "      <td>0.005117</td>\n",
       "      <td>0.085893</td>\n",
       "      <td>0.005690</td>\n",
       "      <td>distance</td>\n",
       "      <td>293</td>\n",
       "      <td>{'weights': 'distance', 'n_neighbors': 293}</td>\n",
       "      <td>0.876529</td>\n",
       "      <td>0.878480</td>\n",
       "      <td>0.878859</td>\n",
       "      <td>0.879026</td>\n",
       "      <td>0.890671</td>\n",
       "      <td>0.880713</td>\n",
       "      <td>0.005058</td>\n",
       "      <td>60</td>\n",
       "    </tr>\n",
       "    <tr>\n",
       "      <th>78</th>\n",
       "      <td>0.003125</td>\n",
       "      <td>0.006249</td>\n",
       "      <td>0.078115</td>\n",
       "      <td>0.000034</td>\n",
       "      <td>uniform</td>\n",
       "      <td>300</td>\n",
       "      <td>{'weights': 'uniform', 'n_neighbors': 300}</td>\n",
       "      <td>0.879687</td>\n",
       "      <td>0.882445</td>\n",
       "      <td>0.879493</td>\n",
       "      <td>0.880990</td>\n",
       "      <td>0.891133</td>\n",
       "      <td>0.882750</td>\n",
       "      <td>0.004323</td>\n",
       "      <td>40</td>\n",
       "    </tr>\n",
       "    <tr>\n",
       "      <th>79</th>\n",
       "      <td>0.004727</td>\n",
       "      <td>0.006271</td>\n",
       "      <td>0.089748</td>\n",
       "      <td>0.012043</td>\n",
       "      <td>distance</td>\n",
       "      <td>300</td>\n",
       "      <td>{'weights': 'distance', 'n_neighbors': 300}</td>\n",
       "      <td>0.876508</td>\n",
       "      <td>0.878436</td>\n",
       "      <td>0.878863</td>\n",
       "      <td>0.878976</td>\n",
       "      <td>0.890661</td>\n",
       "      <td>0.880689</td>\n",
       "      <td>0.005065</td>\n",
       "      <td>61</td>\n",
       "    </tr>\n",
       "  </tbody>\n",
       "</table>\n",
       "<p>80 rows × 15 columns</p>\n",
       "</div>"
      ],
      "text/plain": [
       "    mean_fit_time  std_fit_time  mean_score_time  std_score_time  \\\n",
       "0        0.006974      0.001406         0.016976        0.002291   \n",
       "1        0.004730      0.005735         0.013198        0.006987   \n",
       "2        0.004142      0.006096         0.015411        0.001311   \n",
       "3        0.006233      0.007634         0.012509        0.006255   \n",
       "4        0.003123      0.006246         0.015623        0.000045   \n",
       "..            ...           ...              ...             ...   \n",
       "75       0.005330      0.005914         0.097773        0.009671   \n",
       "76       0.012495      0.006248         0.078116        0.013962   \n",
       "77       0.006734      0.005117         0.085893        0.005690   \n",
       "78       0.003125      0.006249         0.078115        0.000034   \n",
       "79       0.004727      0.006271         0.089748        0.012043   \n",
       "\n",
       "   param_weights param_n_neighbors  \\\n",
       "0        uniform                40   \n",
       "1       distance                40   \n",
       "2        uniform                46   \n",
       "3       distance                46   \n",
       "4        uniform                53   \n",
       "..           ...               ...   \n",
       "75      distance               286   \n",
       "76       uniform               293   \n",
       "77      distance               293   \n",
       "78       uniform               300   \n",
       "79      distance               300   \n",
       "\n",
       "                                         params  split0_test_score  \\\n",
       "0     {'weights': 'uniform', 'n_neighbors': 40}           0.891592   \n",
       "1    {'weights': 'distance', 'n_neighbors': 40}           0.872384   \n",
       "2     {'weights': 'uniform', 'n_neighbors': 46}           0.892189   \n",
       "3    {'weights': 'distance', 'n_neighbors': 46}           0.873123   \n",
       "4     {'weights': 'uniform', 'n_neighbors': 53}           0.891832   \n",
       "..                                          ...                ...   \n",
       "75  {'weights': 'distance', 'n_neighbors': 286}           0.876542   \n",
       "76   {'weights': 'uniform', 'n_neighbors': 293}           0.880059   \n",
       "77  {'weights': 'distance', 'n_neighbors': 293}           0.876529   \n",
       "78   {'weights': 'uniform', 'n_neighbors': 300}           0.879687   \n",
       "79  {'weights': 'distance', 'n_neighbors': 300}           0.876508   \n",
       "\n",
       "    split1_test_score  split2_test_score  split3_test_score  \\\n",
       "0            0.894664           0.889079           0.891465   \n",
       "1            0.875740           0.875696           0.875956   \n",
       "2            0.894941           0.889437           0.891182   \n",
       "3            0.876386           0.876301           0.876328   \n",
       "4            0.894755           0.889100           0.890952   \n",
       "..                ...                ...                ...   \n",
       "75           0.878518           0.878843           0.879065   \n",
       "76           0.882877           0.879759           0.881377   \n",
       "77           0.878480           0.878859           0.879026   \n",
       "78           0.882445           0.879493           0.880990   \n",
       "79           0.878436           0.878863           0.878976   \n",
       "\n",
       "    split4_test_score  mean_test_score  std_test_score  rank_test_score  \n",
       "0            0.899212         0.893202        0.003489                4  \n",
       "1            0.885808         0.877117        0.004543               80  \n",
       "2            0.899676         0.893485        0.003572                1  \n",
       "3            0.886440         0.877716        0.004537               79  \n",
       "4            0.899811         0.893290        0.003737                2  \n",
       "..                ...              ...             ...              ...  \n",
       "75           0.890665         0.880726        0.005049               58  \n",
       "76           0.891499         0.883114        0.004335               39  \n",
       "77           0.890671         0.880713        0.005058               60  \n",
       "78           0.891133         0.882750        0.004323               40  \n",
       "79           0.890661         0.880689        0.005065               61  \n",
       "\n",
       "[80 rows x 15 columns]"
      ]
     },
     "execution_count": 390,
     "metadata": {},
     "output_type": "execute_result"
    }
   ],
   "source": [
    "results=pd.DataFrame(RMSE.cv_results_)\n",
    "results"
   ]
  },
  {
   "cell_type": "code",
   "execution_count": 391,
   "id": "f5278c9c",
   "metadata": {},
   "outputs": [
    {
     "data": {
      "text/plain": [
       "{'weights': 'uniform', 'n_neighbors': 46}"
      ]
     },
     "execution_count": 391,
     "metadata": {},
     "output_type": "execute_result"
    }
   ],
   "source": [
    "RMSE.best_params_"
   ]
  },
  {
   "cell_type": "code",
   "execution_count": 392,
   "id": "a0d34c8c",
   "metadata": {},
   "outputs": [
    {
     "data": {
      "text/plain": [
       "0.8934849336756063"
      ]
     },
     "execution_count": 392,
     "metadata": {},
     "output_type": "execute_result"
    }
   ],
   "source": [
    "RMSE.best_score_"
   ]
  },
  {
   "cell_type": "code",
   "execution_count": 393,
   "id": "88a7a02e",
   "metadata": {},
   "outputs": [
    {
     "data": {
      "text/plain": [
       "KNeighborsRegressor(n_neighbors=46)"
      ]
     },
     "execution_count": 393,
     "metadata": {},
     "output_type": "execute_result"
    }
   ],
   "source": [
    "Best=RMSE.best_estimator_\n",
    "Best"
   ]
  },
  {
   "cell_type": "code",
   "execution_count": 394,
   "id": "1c78d11a",
   "metadata": {},
   "outputs": [
    {
     "data": {
      "text/plain": [
       "0.9033570276693765"
      ]
     },
     "execution_count": 394,
     "metadata": {},
     "output_type": "execute_result"
    }
   ],
   "source": [
    "Best.score(xtest,ytest)\n"
   ]
  },
  {
   "cell_type": "markdown",
   "id": "e6bbe5e6",
   "metadata": {},
   "source": [
    "# Comment"
   ]
  },
  {
   "cell_type": "code",
   "execution_count": null,
   "id": "118e834d",
   "metadata": {},
   "outputs": [],
   "source": [
    "#For the given dataset,Applying  Linear Regression Model,I got the following observations:\n",
    "Accurecy- 0.9059112424422664,Mean squared error: 96.84,RMSE:9.84059674909533\n",
    "On the otherhand \n",
    "#Applying KNN Regressor Model,I got\n",
    "Accurecy-0.8821086423439015,Mean squared error:121.34 ,RMSE:11.015229581640359\n",
    "        \n",
    "#After Tuning  KNN Regressor Model,I got \n",
    "Accurecy 0.9035799896305765 when KNeighborsRegressor(n_neighbors=46)\n",
    "# By comparing this two Models ,we see that Linear Regression Model gave me the highest Accurecy for this datasets."
   ]
  },
  {
   "cell_type": "markdown",
   "id": "27d8e635",
   "metadata": {},
   "source": [
    "# KNN Classifier:"
   ]
  },
  {
   "cell_type": "code",
   "execution_count": 395,
   "id": "07b8da61",
   "metadata": {},
   "outputs": [
    {
     "data": {
      "text/html": [
       "<div>\n",
       "<style scoped>\n",
       "    .dataframe tbody tr th:only-of-type {\n",
       "        vertical-align: middle;\n",
       "    }\n",
       "\n",
       "    .dataframe tbody tr th {\n",
       "        vertical-align: top;\n",
       "    }\n",
       "\n",
       "    .dataframe thead th {\n",
       "        text-align: right;\n",
       "    }\n",
       "</style>\n",
       "<table border=\"1\" class=\"dataframe\">\n",
       "  <thead>\n",
       "    <tr style=\"text-align: right;\">\n",
       "      <th></th>\n",
       "      <th>Gender</th>\n",
       "      <th>Height</th>\n",
       "      <th>Weight</th>\n",
       "    </tr>\n",
       "  </thead>\n",
       "  <tbody>\n",
       "    <tr>\n",
       "      <th>0</th>\n",
       "      <td>1</td>\n",
       "      <td>73.847017</td>\n",
       "      <td>241.893563</td>\n",
       "    </tr>\n",
       "    <tr>\n",
       "      <th>1</th>\n",
       "      <td>1</td>\n",
       "      <td>68.781904</td>\n",
       "      <td>162.310473</td>\n",
       "    </tr>\n",
       "    <tr>\n",
       "      <th>2</th>\n",
       "      <td>1</td>\n",
       "      <td>74.110105</td>\n",
       "      <td>212.740856</td>\n",
       "    </tr>\n",
       "    <tr>\n",
       "      <th>3</th>\n",
       "      <td>1</td>\n",
       "      <td>71.730978</td>\n",
       "      <td>220.042470</td>\n",
       "    </tr>\n",
       "    <tr>\n",
       "      <th>4</th>\n",
       "      <td>1</td>\n",
       "      <td>69.881796</td>\n",
       "      <td>206.349801</td>\n",
       "    </tr>\n",
       "    <tr>\n",
       "      <th>...</th>\n",
       "      <td>...</td>\n",
       "      <td>...</td>\n",
       "      <td>...</td>\n",
       "    </tr>\n",
       "    <tr>\n",
       "      <th>8550</th>\n",
       "      <td>0</td>\n",
       "      <td>60.483946</td>\n",
       "      <td>110.565497</td>\n",
       "    </tr>\n",
       "    <tr>\n",
       "      <th>8551</th>\n",
       "      <td>0</td>\n",
       "      <td>63.423372</td>\n",
       "      <td>129.921671</td>\n",
       "    </tr>\n",
       "    <tr>\n",
       "      <th>8552</th>\n",
       "      <td>0</td>\n",
       "      <td>65.584057</td>\n",
       "      <td>155.942671</td>\n",
       "    </tr>\n",
       "    <tr>\n",
       "      <th>8553</th>\n",
       "      <td>0</td>\n",
       "      <td>67.429971</td>\n",
       "      <td>151.678405</td>\n",
       "    </tr>\n",
       "    <tr>\n",
       "      <th>8554</th>\n",
       "      <td>0</td>\n",
       "      <td>60.921791</td>\n",
       "      <td>131.253738</td>\n",
       "    </tr>\n",
       "  </tbody>\n",
       "</table>\n",
       "<p>8555 rows × 3 columns</p>\n",
       "</div>"
      ],
      "text/plain": [
       "      Gender     Height      Weight\n",
       "0          1  73.847017  241.893563\n",
       "1          1  68.781904  162.310473\n",
       "2          1  74.110105  212.740856\n",
       "3          1  71.730978  220.042470\n",
       "4          1  69.881796  206.349801\n",
       "...      ...        ...         ...\n",
       "8550       0  60.483946  110.565497\n",
       "8551       0  63.423372  129.921671\n",
       "8552       0  65.584057  155.942671\n",
       "8553       0  67.429971  151.678405\n",
       "8554       0  60.921791  131.253738\n",
       "\n",
       "[8555 rows x 3 columns]"
      ]
     },
     "execution_count": 395,
     "metadata": {},
     "output_type": "execute_result"
    }
   ],
   "source": [
    "#The given dataset is\n",
    "df\n"
   ]
  },
  {
   "cell_type": "code",
   "execution_count": 396,
   "id": "7fc72a11",
   "metadata": {},
   "outputs": [],
   "source": [
    "x=df.drop('Gender',axis=1).values\n",
    "y=df['Gender'].values\n"
   ]
  },
  {
   "cell_type": "code",
   "execution_count": 397,
   "id": "8b261c0a",
   "metadata": {},
   "outputs": [
    {
     "data": {
      "text/plain": [
       "array([[ 73.84701702, 241.8935632 ],\n",
       "       [ 68.78190405, 162.3104725 ],\n",
       "       [ 74.11010539, 212.7408556 ],\n",
       "       ...,\n",
       "       [ 65.58405676, 155.9426708 ],\n",
       "       [ 67.42997138, 151.6784055 ],\n",
       "       [ 60.92179087, 131.2537378 ]])"
      ]
     },
     "execution_count": 397,
     "metadata": {},
     "output_type": "execute_result"
    }
   ],
   "source": [
    "x"
   ]
  },
  {
   "cell_type": "code",
   "execution_count": 398,
   "id": "e7b32c82",
   "metadata": {},
   "outputs": [
    {
     "data": {
      "text/plain": [
       "array([1, 1, 1, ..., 0, 0, 0])"
      ]
     },
     "execution_count": 398,
     "metadata": {},
     "output_type": "execute_result"
    }
   ],
   "source": [
    "y"
   ]
  },
  {
   "cell_type": "code",
   "execution_count": 399,
   "id": "52da1c0b",
   "metadata": {},
   "outputs": [],
   "source": [
    "from sklearn.model_selection import train_test_split"
   ]
  },
  {
   "cell_type": "code",
   "execution_count": 400,
   "id": "6a817e96",
   "metadata": {},
   "outputs": [],
   "source": [
    "xtrain,xtest,ytrain,ytest=train_test_split(x,y,train_size=0.7,random_state=1)"
   ]
  },
  {
   "cell_type": "code",
   "execution_count": 401,
   "id": "ebc72ca6",
   "metadata": {},
   "outputs": [
    {
     "data": {
      "text/plain": [
       "array([[ 72.38530097, 189.1655919 ],\n",
       "       [ 60.96014679, 124.8767957 ],\n",
       "       [ 69.11929182, 168.8644028 ],\n",
       "       ...,\n",
       "       [ 66.53981222, 175.0932547 ],\n",
       "       [ 66.56377205, 156.832191  ],\n",
       "       [ 70.55524376, 198.4602486 ]])"
      ]
     },
     "execution_count": 401,
     "metadata": {},
     "output_type": "execute_result"
    }
   ],
   "source": [
    "xtrain"
   ]
  },
  {
   "cell_type": "code",
   "execution_count": 402,
   "id": "91022849",
   "metadata": {},
   "outputs": [
    {
     "data": {
      "text/plain": [
       "array([1, 0, 0, ..., 1, 0, 1])"
      ]
     },
     "execution_count": 402,
     "metadata": {},
     "output_type": "execute_result"
    }
   ],
   "source": [
    "ytrain"
   ]
  },
  {
   "cell_type": "markdown",
   "id": "d36d5275",
   "metadata": {},
   "source": [
    "## Applying KNN Classifier"
   ]
  },
  {
   "cell_type": "code",
   "execution_count": 403,
   "id": "5f5abd4b",
   "metadata": {},
   "outputs": [],
   "source": [
    "from sklearn.neighbors import KNeighborsClassifier"
   ]
  },
  {
   "cell_type": "code",
   "execution_count": 404,
   "id": "13f90590",
   "metadata": {},
   "outputs": [],
   "source": [
    "KNN2=KNeighborsClassifier()"
   ]
  },
  {
   "cell_type": "code",
   "execution_count": 405,
   "id": "9f973f6f",
   "metadata": {},
   "outputs": [
    {
     "data": {
      "text/plain": [
       "KNeighborsClassifier()"
      ]
     },
     "execution_count": 405,
     "metadata": {},
     "output_type": "execute_result"
    }
   ],
   "source": [
    "KNN2.fit(xtrain,ytrain)"
   ]
  },
  {
   "cell_type": "markdown",
   "id": "09e94168",
   "metadata": {},
   "source": [
    "## Evalute the model(Accuracy, Confusion Matrix, ROC, AUC, Classification Report)"
   ]
  },
  {
   "cell_type": "code",
   "execution_count": 406,
   "id": "de3ab130",
   "metadata": {},
   "outputs": [
    {
     "data": {
      "text/plain": [
       "0.9146864043630697"
      ]
     },
     "execution_count": 406,
     "metadata": {},
     "output_type": "execute_result"
    }
   ],
   "source": [
    "KNN2.score(xtest,ytest) ## Accurecy score"
   ]
  },
  {
   "cell_type": "code",
   "execution_count": 407,
   "id": "fa2715c7",
   "metadata": {},
   "outputs": [
    {
     "data": {
      "text/plain": [
       "array([1, 1, 1, ..., 0, 1, 1])"
      ]
     },
     "execution_count": 407,
     "metadata": {},
     "output_type": "execute_result"
    }
   ],
   "source": [
    "KNN2predict=KNN2.predict(xtest)\n",
    "KNN2predict"
   ]
  },
  {
   "cell_type": "code",
   "execution_count": 408,
   "id": "cf492cb6",
   "metadata": {},
   "outputs": [
    {
     "data": {
      "text/plain": [
       "0.08531359563693026"
      ]
     },
     "execution_count": 408,
     "metadata": {},
     "output_type": "execute_result"
    }
   ],
   "source": [
    "MSE=mean_squared_error(ytest,KNN2predict)\n",
    "MSE"
   ]
  },
  {
   "cell_type": "code",
   "execution_count": 409,
   "id": "9576692d",
   "metadata": {},
   "outputs": [
    {
     "data": {
      "text/plain": [
       "0.2920849116899575"
      ]
     },
     "execution_count": 409,
     "metadata": {},
     "output_type": "execute_result"
    }
   ],
   "source": [
    "RMSE=mean_squared_error(ytest,KNN2predict, squared=False)\n",
    "RMSE"
   ]
  },
  {
   "cell_type": "code",
   "execution_count": 410,
   "id": "77ac699d",
   "metadata": {},
   "outputs": [],
   "source": [
    "\n",
    "from sklearn.metrics import classification_report,accuracy_score,confusion_matrix,plot_roc_curve"
   ]
  },
  {
   "cell_type": "code",
   "execution_count": 411,
   "id": "3aa8e876",
   "metadata": {},
   "outputs": [
    {
     "data": {
      "text/plain": [
       "'              precision    recall  f1-score   support\\n\\n           0       0.90      0.89      0.90      1055\\n           1       0.92      0.93      0.93      1512\\n\\n    accuracy                           0.91      2567\\n   macro avg       0.91      0.91      0.91      2567\\nweighted avg       0.91      0.91      0.91      2567\\n'"
      ]
     },
     "execution_count": 411,
     "metadata": {},
     "output_type": "execute_result"
    }
   ],
   "source": [
    "classification_report(ytest,KNN2predict) ##Classification Report"
   ]
  },
  {
   "cell_type": "code",
   "execution_count": 412,
   "id": "d3236465",
   "metadata": {},
   "outputs": [
    {
     "name": "stdout",
     "output_type": "stream",
     "text": [
      "              precision    recall  f1-score   support\n",
      "\n",
      "           0       0.90      0.89      0.90      1055\n",
      "           1       0.92      0.93      0.93      1512\n",
      "\n",
      "    accuracy                           0.91      2567\n",
      "   macro avg       0.91      0.91      0.91      2567\n",
      "weighted avg       0.91      0.91      0.91      2567\n",
      "\n"
     ]
    }
   ],
   "source": [
    "print(classification_report(ytest,KNN2predict))"
   ]
  },
  {
   "cell_type": "code",
   "execution_count": 413,
   "id": "29caba9c",
   "metadata": {},
   "outputs": [],
   "source": [
    "test_confusion_matrix=confusion_matrix(ytest,KNN2predict) ## Confution Matrix"
   ]
  },
  {
   "cell_type": "code",
   "execution_count": 414,
   "id": "43ad6a2f",
   "metadata": {},
   "outputs": [
    {
     "data": {
      "text/plain": [
       "array([[ 938,  117],\n",
       "       [ 102, 1410]], dtype=int64)"
      ]
     },
     "execution_count": 414,
     "metadata": {},
     "output_type": "execute_result"
    }
   ],
   "source": [
    "test_confusion_matrix"
   ]
  },
  {
   "cell_type": "code",
   "execution_count": 415,
   "id": "7aaf7d52",
   "metadata": {},
   "outputs": [
    {
     "data": {
      "text/plain": [
       "<AxesSubplot:>"
      ]
     },
     "execution_count": 415,
     "metadata": {},
     "output_type": "execute_result"
    },
    {
     "data": {
      "image/png": "[encoded data removed]",
      "text/plain": [
       "<Figure size 432x288 with 2 Axes>"
      ]
     },
     "metadata": {
      "needs_background": "light"
     },
     "output_type": "display_data"
    }
   ],
   "source": [
    "sns.heatmap(test_confusion_matrix,annot=True)"
   ]
  },
  {
   "cell_type": "code",
   "execution_count": 416,
   "id": "dd81614f",
   "metadata": {},
   "outputs": [
    {
     "data": {
      "text/plain": [
       "(938, 117, 102, 1410)"
      ]
     },
     "execution_count": 416,
     "metadata": {},
     "output_type": "execute_result"
    }
   ],
   "source": [
    "tp,fp,fn,tn=confusion_matrix(ytest,KNN2predict).reshape(-1)\n",
    "tp,fp,fn,tn"
   ]
  },
  {
   "cell_type": "code",
   "execution_count": 417,
   "id": "c580c1e5",
   "metadata": {},
   "outputs": [
    {
     "data": {
      "text/plain": [
       "0.9146864043630697"
      ]
     },
     "execution_count": 417,
     "metadata": {},
     "output_type": "execute_result"
    }
   ],
   "source": [
    "accurecy=(tp+tn)/(tp+tn+fp+fn) ## True Event/Total Event\n",
    "accurecy"
   ]
  },
  {
   "cell_type": "markdown",
   "id": "8b96e5ac",
   "metadata": {},
   "source": [
    "## ROC Curve"
   ]
  },
  {
   "cell_type": "code",
   "execution_count": 418,
   "id": "ff7b7147",
   "metadata": {},
   "outputs": [
    {
     "name": "stderr",
     "output_type": "stream",
     "text": [
      "C:\\Users\\fkari653\\Anaconda3\\envs\\DL\\lib\\site-packages\\sklearn\\utils\\deprecation.py:87: FutureWarning: Function plot_roc_curve is deprecated; Function :func:`plot_roc_curve` is deprecated in 1.0 and will be removed in 1.2. Use one of the class methods: :meth:`sklearn.metric.RocCurveDisplay.from_predictions` or :meth:`sklearn.metric.RocCurveDisplay.from_estimator`.\n",
      "  warnings.warn(msg, category=FutureWarning)\n"
     ]
    },
    {
     "data": {
      "text/plain": [
       "<sklearn.metrics._plot.roc_curve.RocCurveDisplay at 0x2956ef7fe48>"
      ]
     },
     "execution_count": 418,
     "metadata": {},
     "output_type": "execute_result"
    },
    {
     "data": {
      "image/png": "[encoded data removed]",
      "text/plain": [
       "<Figure size 432x288 with 1 Axes>"
      ]
     },
     "metadata": {
      "needs_background": "light"
     },
     "output_type": "display_data"
    }
   ],
   "source": [
    "plot_roc_curve(KNN2,xtest,ytest)"
   ]
  },
  {
   "cell_type": "markdown",
   "id": "c53eb846",
   "metadata": {},
   "source": [
    "## Tuning for KNN Classifier"
   ]
  },
  {
   "cell_type": "code",
   "execution_count": 419,
   "id": "bda960fd",
   "metadata": {},
   "outputs": [],
   "source": [
    "KNN3=KNeighborsClassifier()"
   ]
  },
  {
   "cell_type": "code",
   "execution_count": 420,
   "id": "90a63592",
   "metadata": {},
   "outputs": [
    {
     "data": {
      "text/plain": [
       "KNeighborsClassifier()"
      ]
     },
     "execution_count": 420,
     "metadata": {},
     "output_type": "execute_result"
    }
   ],
   "source": [
    "KNN3.fit(xtrain,ytrain)"
   ]
  },
  {
   "cell_type": "code",
   "execution_count": 421,
   "id": "5bb46049",
   "metadata": {},
   "outputs": [],
   "source": [
    "n_neighbors = [int(x) for x in np.linspace(start=40, stop=300, num=40)]\n"
   ]
  },
  {
   "cell_type": "code",
   "execution_count": 422,
   "id": "c616acb7",
   "metadata": {},
   "outputs": [
    {
     "data": {
      "text/plain": [
       "RandomizedSearchCV(cv=5, estimator=KNeighborsClassifier(), n_iter=250,\n",
       "                   param_distributions={'n_neighbors': [40, 46, 53, 60, 66, 73,\n",
       "                                                        80, 86, 93, 100, 106,\n",
       "                                                        113, 120, 126, 133, 140,\n",
       "                                                        146, 153, 160, 166, 173,\n",
       "                                                        180, 186, 193, 200, 206,\n",
       "                                                        213, 220, 226, 233, ...],\n",
       "                                        'weights': ['uniform', 'distance']})"
      ]
     },
     "execution_count": 422,
     "metadata": {},
     "output_type": "execute_result"
    }
   ],
   "source": [
    "RMSE2=RandomizedSearchCV(KNN3,grids,n_iter=250,cv=5)\n",
    "RMSE2"
   ]
  },
  {
   "cell_type": "code",
   "execution_count": 423,
   "id": "b77ecd30",
   "metadata": {},
   "outputs": [
    {
     "name": "stderr",
     "output_type": "stream",
     "text": [
      "C:\\Users\\fkari653\\Anaconda3\\envs\\DL\\lib\\site-packages\\sklearn\\model_selection\\_search.py:296: UserWarning: The total space of parameters 80 is smaller than n_iter=250. Running 80 iterations. For exhaustive searches, use GridSearchCV.\n",
      "  UserWarning,\n"
     ]
    },
    {
     "data": {
      "text/plain": [
       "RandomizedSearchCV(cv=5, estimator=KNeighborsClassifier(), n_iter=250,\n",
       "                   param_distributions={'n_neighbors': [40, 46, 53, 60, 66, 73,\n",
       "                                                        80, 86, 93, 100, 106,\n",
       "                                                        113, 120, 126, 133, 140,\n",
       "                                                        146, 153, 160, 166, 173,\n",
       "                                                        180, 186, 193, 200, 206,\n",
       "                                                        213, 220, 226, 233, ...],\n",
       "                                        'weights': ['uniform', 'distance']})"
      ]
     },
     "execution_count": 423,
     "metadata": {},
     "output_type": "execute_result"
    }
   ],
   "source": [
    "RMSE2.fit(xtrain,ytrain)"
   ]
  },
  {
   "cell_type": "code",
   "execution_count": 424,
   "id": "accb3a46",
   "metadata": {},
   "outputs": [
    {
     "data": {
      "text/plain": [
       "{'mean_fit_time': array([0.00898433, 0.00418782, 0.00412183, 0.00731292, 0.00711308,\n",
       "        0.00358982, 0.00724454, 0.00571723, 0.00572453, 0.00826578,\n",
       "        0.0092545 , 0.00339255, 0.00767131, 0.        , 0.00804358,\n",
       "        0.00751224, 0.00398917, 0.00722599, 0.00259194, 0.00313077,\n",
       "        0.        , 0.00745873, 0.00472159, 0.00311756, 0.00624094,\n",
       "        0.00624142, 0.00624914, 0.        , 0.00312462, 0.00239367,\n",
       "        0.00411601, 0.0068954 , 0.00825472, 0.00199413, 0.00413704,\n",
       "        0.00432129, 0.00514011, 0.00458689, 0.00711131, 0.00632348,\n",
       "        0.00611548, 0.00511861, 0.0025938 , 0.00502901, 0.0022079 ,\n",
       "        0.01096883, 0.00825   , 0.0033411 , 0.00703812, 0.00527139,\n",
       "        0.00603671, 0.00412836, 0.00704594, 0.00624847, 0.0124908 ,\n",
       "        0.00936451, 0.0124969 , 0.00624862, 0.01560779, 0.00453405,\n",
       "        0.00824399, 0.00201526, 0.00263019, 0.00512638, 0.00632029,\n",
       "        0.00725269, 0.00101147, 0.00220184, 0.00533237, 0.00562911,\n",
       "        0.00571785, 0.00413613, 0.00399642, 0.01226993, 0.00299892,\n",
       "        0.00844269, 0.00752587, 0.00925617, 0.00418563, 0.00864215]),\n",
       " 'std_fit_time': array([3.51300861e-03, 2.12936163e-03, 6.06578939e-03, 6.33092642e-03,\n",
       "        5.06532330e-03, 2.99825487e-03, 7.07585304e-03, 5.81649754e-03,\n",
       "        5.82950498e-03, 6.31949515e-03, 5.23055169e-03, 2.79422490e-03,\n",
       "        6.69649607e-03, 0.00000000e+00, 7.00134807e-03, 4.99892240e-03,\n",
       "        3.33747832e-03, 7.06261135e-03, 3.31276506e-03, 6.26153946e-03,\n",
       "        0.00000000e+00, 7.02214051e-03, 6.26687153e-03, 6.23512268e-03,\n",
       "        7.64357012e-03, 7.64415130e-03, 7.65360424e-03, 0.00000000e+00,\n",
       "        6.24923706e-03, 2.99871150e-03, 6.05267408e-03, 5.20407858e-03,\n",
       "        6.29798883e-03, 2.44230454e-03, 6.08176121e-03, 6.10669624e-03,\n",
       "        5.71663815e-03, 4.87993838e-04, 4.25601058e-03, 5.10118749e-03,\n",
       "        5.12998283e-03, 5.70596801e-03, 3.31522784e-03, 2.44647669e-05,\n",
       "        2.71986575e-03, 6.23223196e-03, 6.30227945e-03, 2.12219001e-03,\n",
       "        7.14222838e-03, 3.87319135e-04, 5.29554108e-03, 6.07809236e-03,\n",
       "        7.15128400e-03, 7.65278669e-03, 6.24546578e-03, 7.64610215e-03,\n",
       "        6.24845031e-03, 7.65296184e-03, 1.78972174e-05, 6.18825594e-03,\n",
       "        6.29446313e-03, 2.46820041e-03, 2.17958049e-03, 5.73948104e-03,\n",
       "        5.08273740e-03, 7.07462399e-03, 2.02293396e-03, 2.71380997e-03,\n",
       "        5.71741573e-03, 7.68872015e-04, 5.74749063e-03, 6.07887731e-03,\n",
       "        3.40484701e-03, 6.13528050e-03, 2.44865450e-03, 6.20210519e-03,\n",
       "        4.11972860e-03, 5.22424846e-03, 3.41755775e-03, 6.13583536e-03]),\n",
       " 'mean_score_time': array([0.10952044, 0.01901913, 0.07355175, 0.03054514, 0.07554183,\n",
       "        0.02134209, 0.05724688, 0.02063308, 0.07300344, 0.0201293 ,\n",
       "        0.06902261, 0.02996998, 0.07700448, 0.03124304, 0.08457675,\n",
       "        0.03512664, 0.08804541, 0.0281601 , 0.08765483, 0.02811279,\n",
       "        0.07943225, 0.03060846, 0.08036742, 0.03750606, 0.07810636,\n",
       "        0.0406239 , 0.07810483, 0.04373989, 0.08123055, 0.04906306,\n",
       "        0.08252044, 0.0487123 , 0.08659987, 0.052948  , 0.08504763,\n",
       "        0.05080738, 0.09658098, 0.05533724, 0.09205337, 0.05614257,\n",
       "        0.08897419, 0.05986872, 0.09817061, 0.05739174, 0.11112313,\n",
       "        0.06553636, 0.09443645, 0.06545939, 0.09936972, 0.06821671,\n",
       "        0.10134292, 0.06627316, 0.10021653, 0.06561718, 0.09998364,\n",
       "        0.0812315 , 0.1218472 , 0.07185836, 0.09686565, 0.078929  ,\n",
       "        0.10420647, 0.08105669, 0.11075931, 0.07737832, 0.11676517,\n",
       "        0.0785409 , 0.12065611, 0.08470864, 0.11572604, 0.08910594,\n",
       "        0.15685658, 0.08615646, 0.13814178, 0.08451943, 0.13348503,\n",
       "        0.10362558, 0.14383702, 0.09066315, 0.16226759, 0.09861975]),\n",
       " 'std_score_time': array([3.14330919e-02, 7.70456996e-03, 2.58581945e-02, 1.25112517e-02,\n",
       "        1.54633239e-02, 5.26497864e-03, 6.57811449e-03, 7.04752370e-03,\n",
       "        1.30347587e-02, 4.41251643e-03, 1.27020951e-02, 3.57645040e-03,\n",
       "        1.63229972e-02, 7.29950321e-06, 8.03051752e-03, 1.98697599e-03,\n",
       "        1.46827634e-02, 6.23244731e-03, 1.19467213e-02, 6.26149234e-03,\n",
       "        2.61452172e-03, 1.30561571e-03, 2.08806426e-02, 7.65643903e-03,\n",
       "        3.86454086e-05, 7.64212302e-03, 2.47025581e-05, 6.24947610e-03,\n",
       "        6.24887957e-03, 7.13916657e-03, 4.86625803e-03, 1.59239817e-02,\n",
       "        9.99095322e-03, 5.53581488e-03, 7.21970104e-03, 6.08192299e-03,\n",
       "        1.39386450e-02, 3.60035924e-03, 1.12301609e-02, 6.95907788e-03,\n",
       "        8.16645600e-03, 8.62767330e-03, 4.83135453e-03, 3.31846307e-03,\n",
       "        1.68825343e-02, 1.15077766e-02, 7.97270494e-03, 5.01470437e-03,\n",
       "        7.14973239e-03, 4.91000051e-03, 6.62006691e-03, 8.64061507e-03,\n",
       "        1.15254234e-02, 6.24259828e-03, 7.64612445e-03, 6.21369388e-03,\n",
       "        6.24980944e-03, 1.24962688e-02, 6.24209762e-03, 6.57536874e-03,\n",
       "        9.99333942e-03, 9.08889787e-03, 8.44001314e-03, 4.11543274e-03,\n",
       "        1.27971799e-02, 7.54041290e-03, 7.93484148e-03, 8.71176438e-03,\n",
       "        1.00265268e-02, 4.70864340e-03, 7.40687753e-02, 6.57913257e-03,\n",
       "        2.13969526e-02, 6.44811658e-03, 1.61738303e-02, 1.23323299e-02,\n",
       "        1.02450728e-02, 9.17720374e-03, 4.06030844e-02, 6.15391830e-03]),\n",
       " 'param_weights': masked_array(data=['uniform', 'distance', 'uniform', 'distance',\n",
       "                    'uniform', 'distance', 'uniform', 'distance',\n",
       "                    'uniform', 'distance', 'uniform', 'distance',\n",
       "                    'uniform', 'distance', 'uniform', 'distance',\n",
       "                    'uniform', 'distance', 'uniform', 'distance',\n",
       "                    'uniform', 'distance', 'uniform', 'distance',\n",
       "                    'uniform', 'distance', 'uniform', 'distance',\n",
       "                    'uniform', 'distance', 'uniform', 'distance',\n",
       "                    'uniform', 'distance', 'uniform', 'distance',\n",
       "                    'uniform', 'distance', 'uniform', 'distance',\n",
       "                    'uniform', 'distance', 'uniform', 'distance',\n",
       "                    'uniform', 'distance', 'uniform', 'distance',\n",
       "                    'uniform', 'distance', 'uniform', 'distance',\n",
       "                    'uniform', 'distance', 'uniform', 'distance',\n",
       "                    'uniform', 'distance', 'uniform', 'distance',\n",
       "                    'uniform', 'distance', 'uniform', 'distance',\n",
       "                    'uniform', 'distance', 'uniform', 'distance',\n",
       "                    'uniform', 'distance', 'uniform', 'distance',\n",
       "                    'uniform', 'distance', 'uniform', 'distance',\n",
       "                    'uniform', 'distance', 'uniform', 'distance'],\n",
       "              mask=[False, False, False, False, False, False, False, False,\n",
       "                    False, False, False, False, False, False, False, False,\n",
       "                    False, False, False, False, False, False, False, False,\n",
       "                    False, False, False, False, False, False, False, False,\n",
       "                    False, False, False, False, False, False, False, False,\n",
       "                    False, False, False, False, False, False, False, False,\n",
       "                    False, False, False, False, False, False, False, False,\n",
       "                    False, False, False, False, False, False, False, False,\n",
       "                    False, False, False, False, False, False, False, False,\n",
       "                    False, False, False, False, False, False, False, False],\n",
       "        fill_value='?',\n",
       "             dtype=object),\n",
       " 'param_n_neighbors': masked_array(data=[40, 40, 46, 46, 53, 53, 60, 60, 66, 66, 73, 73, 80, 80,\n",
       "                    86, 86, 93, 93, 100, 100, 106, 106, 113, 113, 120, 120,\n",
       "                    126, 126, 133, 133, 140, 140, 146, 146, 153, 153, 160,\n",
       "                    160, 166, 166, 173, 173, 180, 180, 186, 186, 193, 193,\n",
       "                    200, 200, 206, 206, 213, 213, 220, 220, 226, 226, 233,\n",
       "                    233, 240, 240, 246, 246, 253, 253, 260, 260, 266, 266,\n",
       "                    273, 273, 280, 280, 286, 286, 293, 293, 300, 300],\n",
       "              mask=[False, False, False, False, False, False, False, False,\n",
       "                    False, False, False, False, False, False, False, False,\n",
       "                    False, False, False, False, False, False, False, False,\n",
       "                    False, False, False, False, False, False, False, False,\n",
       "                    False, False, False, False, False, False, False, False,\n",
       "                    False, False, False, False, False, False, False, False,\n",
       "                    False, False, False, False, False, False, False, False,\n",
       "                    False, False, False, False, False, False, False, False,\n",
       "                    False, False, False, False, False, False, False, False,\n",
       "                    False, False, False, False, False, False, False, False],\n",
       "        fill_value='?',\n",
       "             dtype=object),\n",
       " 'params': [{'weights': 'uniform', 'n_neighbors': 40},\n",
       "  {'weights': 'distance', 'n_neighbors': 40},\n",
       "  {'weights': 'uniform', 'n_neighbors': 46},\n",
       "  {'weights': 'distance', 'n_neighbors': 46},\n",
       "  {'weights': 'uniform', 'n_neighbors': 53},\n",
       "  {'weights': 'distance', 'n_neighbors': 53},\n",
       "  {'weights': 'uniform', 'n_neighbors': 60},\n",
       "  {'weights': 'distance', 'n_neighbors': 60},\n",
       "  {'weights': 'uniform', 'n_neighbors': 66},\n",
       "  {'weights': 'distance', 'n_neighbors': 66},\n",
       "  {'weights': 'uniform', 'n_neighbors': 73},\n",
       "  {'weights': 'distance', 'n_neighbors': 73},\n",
       "  {'weights': 'uniform', 'n_neighbors': 80},\n",
       "  {'weights': 'distance', 'n_neighbors': 80},\n",
       "  {'weights': 'uniform', 'n_neighbors': 86},\n",
       "  {'weights': 'distance', 'n_neighbors': 86},\n",
       "  {'weights': 'uniform', 'n_neighbors': 93},\n",
       "  {'weights': 'distance', 'n_neighbors': 93},\n",
       "  {'weights': 'uniform', 'n_neighbors': 100},\n",
       "  {'weights': 'distance', 'n_neighbors': 100},\n",
       "  {'weights': 'uniform', 'n_neighbors': 106},\n",
       "  {'weights': 'distance', 'n_neighbors': 106},\n",
       "  {'weights': 'uniform', 'n_neighbors': 113},\n",
       "  {'weights': 'distance', 'n_neighbors': 113},\n",
       "  {'weights': 'uniform', 'n_neighbors': 120},\n",
       "  {'weights': 'distance', 'n_neighbors': 120},\n",
       "  {'weights': 'uniform', 'n_neighbors': 126},\n",
       "  {'weights': 'distance', 'n_neighbors': 126},\n",
       "  {'weights': 'uniform', 'n_neighbors': 133},\n",
       "  {'weights': 'distance', 'n_neighbors': 133},\n",
       "  {'weights': 'uniform', 'n_neighbors': 140},\n",
       "  {'weights': 'distance', 'n_neighbors': 140},\n",
       "  {'weights': 'uniform', 'n_neighbors': 146},\n",
       "  {'weights': 'distance', 'n_neighbors': 146},\n",
       "  {'weights': 'uniform', 'n_neighbors': 153},\n",
       "  {'weights': 'distance', 'n_neighbors': 153},\n",
       "  {'weights': 'uniform', 'n_neighbors': 160},\n",
       "  {'weights': 'distance', 'n_neighbors': 160},\n",
       "  {'weights': 'uniform', 'n_neighbors': 166},\n",
       "  {'weights': 'distance', 'n_neighbors': 166},\n",
       "  {'weights': 'uniform', 'n_neighbors': 173},\n",
       "  {'weights': 'distance', 'n_neighbors': 173},\n",
       "  {'weights': 'uniform', 'n_neighbors': 180},\n",
       "  {'weights': 'distance', 'n_neighbors': 180},\n",
       "  {'weights': 'uniform', 'n_neighbors': 186},\n",
       "  {'weights': 'distance', 'n_neighbors': 186},\n",
       "  {'weights': 'uniform', 'n_neighbors': 193},\n",
       "  {'weights': 'distance', 'n_neighbors': 193},\n",
       "  {'weights': 'uniform', 'n_neighbors': 200},\n",
       "  {'weights': 'distance', 'n_neighbors': 200},\n",
       "  {'weights': 'uniform', 'n_neighbors': 206},\n",
       "  {'weights': 'distance', 'n_neighbors': 206},\n",
       "  {'weights': 'uniform', 'n_neighbors': 213},\n",
       "  {'weights': 'distance', 'n_neighbors': 213},\n",
       "  {'weights': 'uniform', 'n_neighbors': 220},\n",
       "  {'weights': 'distance', 'n_neighbors': 220},\n",
       "  {'weights': 'uniform', 'n_neighbors': 226},\n",
       "  {'weights': 'distance', 'n_neighbors': 226},\n",
       "  {'weights': 'uniform', 'n_neighbors': 233},\n",
       "  {'weights': 'distance', 'n_neighbors': 233},\n",
       "  {'weights': 'uniform', 'n_neighbors': 240},\n",
       "  {'weights': 'distance', 'n_neighbors': 240},\n",
       "  {'weights': 'uniform', 'n_neighbors': 246},\n",
       "  {'weights': 'distance', 'n_neighbors': 246},\n",
       "  {'weights': 'uniform', 'n_neighbors': 253},\n",
       "  {'weights': 'distance', 'n_neighbors': 253},\n",
       "  {'weights': 'uniform', 'n_neighbors': 260},\n",
       "  {'weights': 'distance', 'n_neighbors': 260},\n",
       "  {'weights': 'uniform', 'n_neighbors': 266},\n",
       "  {'weights': 'distance', 'n_neighbors': 266},\n",
       "  {'weights': 'uniform', 'n_neighbors': 273},\n",
       "  {'weights': 'distance', 'n_neighbors': 273},\n",
       "  {'weights': 'uniform', 'n_neighbors': 280},\n",
       "  {'weights': 'distance', 'n_neighbors': 280},\n",
       "  {'weights': 'uniform', 'n_neighbors': 286},\n",
       "  {'weights': 'distance', 'n_neighbors': 286},\n",
       "  {'weights': 'uniform', 'n_neighbors': 293},\n",
       "  {'weights': 'distance', 'n_neighbors': 293},\n",
       "  {'weights': 'uniform', 'n_neighbors': 300},\n",
       "  {'weights': 'distance', 'n_neighbors': 300}],\n",
       " 'split0_test_score': array([0.89983306, 0.89899833, 0.90317195, 0.90317195, 0.90233723,\n",
       "        0.9015025 , 0.90066778, 0.90233723, 0.90066778, 0.90317195,\n",
       "        0.89899833, 0.9015025 , 0.89816361, 0.9015025 , 0.89816361,\n",
       "        0.89983306, 0.89732888, 0.89983306, 0.89649416, 0.89983306,\n",
       "        0.89732888, 0.89899833, 0.89649416, 0.9015025 , 0.89732888,\n",
       "        0.90066778, 0.89565943, 0.89983306, 0.89649416, 0.89732888,\n",
       "        0.89649416, 0.89565943, 0.89649416, 0.89649416, 0.89398998,\n",
       "        0.89649416, 0.89315526, 0.89649416, 0.89398998, 0.89565943,\n",
       "        0.89232053, 0.89649416, 0.89148581, 0.89649416, 0.89065109,\n",
       "        0.89565943, 0.89065109, 0.89482471, 0.89065109, 0.89482471,\n",
       "        0.89065109, 0.89482471, 0.88981636, 0.89398998, 0.88981636,\n",
       "        0.89398998, 0.88981636, 0.89398998, 0.88898164, 0.89398998,\n",
       "        0.88898164, 0.89398998, 0.88814691, 0.89398998, 0.88731219,\n",
       "        0.89398998, 0.88731219, 0.89398998, 0.88981636, 0.89482471,\n",
       "        0.88981636, 0.89482471, 0.88814691, 0.89482471, 0.88898164,\n",
       "        0.89482471, 0.88898164, 0.89482471, 0.88731219, 0.89482471]),\n",
       " 'split1_test_score': array([0.9115192 , 0.91318865, 0.91235392, 0.91318865, 0.91318865,\n",
       "        0.91318865, 0.9115192 , 0.91402337, 0.90984975, 0.91318865,\n",
       "        0.9115192 , 0.91402337, 0.91318865, 0.91402337, 0.9148581 ,\n",
       "        0.91402337, 0.91402337, 0.91569282, 0.91318865, 0.9148581 ,\n",
       "        0.91318865, 0.91402337, 0.91235392, 0.91318865, 0.9115192 ,\n",
       "        0.91068447, 0.91068447, 0.91068447, 0.90901503, 0.91068447,\n",
       "        0.90901503, 0.91068447, 0.90901503, 0.91068447, 0.90901503,\n",
       "        0.9115192 , 0.90734558, 0.9115192 , 0.90567613, 0.9115192 ,\n",
       "        0.90567613, 0.91068447, 0.90651085, 0.91068447, 0.90567613,\n",
       "        0.91068447, 0.90567613, 0.91068447, 0.90567613, 0.91068447,\n",
       "        0.90651085, 0.9115192 , 0.90651085, 0.90984975, 0.90734558,\n",
       "        0.9115192 , 0.90734558, 0.91068447, 0.90734558, 0.91068447,\n",
       "        0.90651085, 0.90984975, 0.90651085, 0.90901503, 0.90651085,\n",
       "        0.90984975, 0.90651085, 0.90984975, 0.90651085, 0.90984975,\n",
       "        0.9048414 , 0.90901503, 0.90317195, 0.90984975, 0.90317195,\n",
       "        0.90901503, 0.90400668, 0.90901503, 0.90400668, 0.91068447]),\n",
       " 'split2_test_score': array([0.91402337, 0.91068447, 0.91569282, 0.91235392, 0.91235392,\n",
       "        0.91318865, 0.9148581 , 0.91402337, 0.91402337, 0.91318865,\n",
       "        0.91235392, 0.91318865, 0.91402337, 0.91318865, 0.91235392,\n",
       "        0.91318865, 0.91235392, 0.91235392, 0.91318865, 0.91318865,\n",
       "        0.91235392, 0.91235392, 0.91402337, 0.91235392, 0.91318865,\n",
       "        0.91235392, 0.91318865, 0.9115192 , 0.91235392, 0.9115192 ,\n",
       "        0.91318865, 0.9115192 , 0.9115192 , 0.91068447, 0.91068447,\n",
       "        0.91068447, 0.90984975, 0.91068447, 0.90901503, 0.9115192 ,\n",
       "        0.90901503, 0.91068447, 0.9081803 , 0.91068447, 0.90651085,\n",
       "        0.9115192 , 0.90901503, 0.9115192 , 0.90901503, 0.9115192 ,\n",
       "        0.90901503, 0.9115192 , 0.9081803 , 0.9115192 , 0.90734558,\n",
       "        0.9115192 , 0.9081803 , 0.9115192 , 0.9081803 , 0.9115192 ,\n",
       "        0.90567613, 0.9115192 , 0.90734558, 0.9115192 , 0.90734558,\n",
       "        0.90984975, 0.90651085, 0.91068447, 0.90567613, 0.9115192 ,\n",
       "        0.9048414 , 0.91068447, 0.90400668, 0.91068447, 0.9048414 ,\n",
       "        0.90984975, 0.9048414 , 0.90901503, 0.9048414 , 0.90734558]),\n",
       " 'split3_test_score': array([0.90893901, 0.91311612, 0.90643275, 0.9122807 , 0.90810359,\n",
       "        0.9122807 , 0.90559733, 0.90977444, 0.9047619 , 0.90893901,\n",
       "        0.9047619 , 0.90893901, 0.90392648, 0.90810359, 0.90559733,\n",
       "        0.90810359, 0.9047619 , 0.90810359, 0.90559733, 0.90726817,\n",
       "        0.9047619 , 0.90810359, 0.90392648, 0.90726817, 0.90559733,\n",
       "        0.90643275, 0.90559733, 0.90726817, 0.90643275, 0.90726817,\n",
       "        0.9047619 , 0.90810359, 0.90559733, 0.90726817, 0.90643275,\n",
       "        0.90810359, 0.90643275, 0.90726817, 0.9047619 , 0.90726817,\n",
       "        0.90726817, 0.90643275, 0.90726817, 0.90643275, 0.90643275,\n",
       "        0.90559733, 0.90392648, 0.90643275, 0.90392648, 0.90559733,\n",
       "        0.90643275, 0.90559733, 0.90392648, 0.90559733, 0.90643275,\n",
       "        0.90559733, 0.9047619 , 0.90559733, 0.90643275, 0.90559733,\n",
       "        0.90559733, 0.90559733, 0.90559733, 0.90559733, 0.90559733,\n",
       "        0.90559733, 0.90559733, 0.90559733, 0.90643275, 0.90559733,\n",
       "        0.90559733, 0.90559733, 0.90559733, 0.90559733, 0.90392648,\n",
       "        0.90559733, 0.90392648, 0.90559733, 0.90559733, 0.90559733]),\n",
       " 'split4_test_score': array([0.9273183 , 0.92898914, 0.92648287, 0.92982456, 0.92982456,\n",
       "        0.92898914, 0.93149541, 0.92982456, 0.93149541, 0.92982456,\n",
       "        0.93233083, 0.92982456, 0.93149541, 0.92982456, 0.93149541,\n",
       "        0.93065998, 0.93233083, 0.93065998, 0.93233083, 0.93065998,\n",
       "        0.93233083, 0.92982456, 0.93233083, 0.93065998, 0.93233083,\n",
       "        0.93065998, 0.93316625, 0.93065998, 0.93400167, 0.93149541,\n",
       "        0.93400167, 0.93065998, 0.93149541, 0.93065998, 0.93316625,\n",
       "        0.93065998, 0.93065998, 0.93065998, 0.93065998, 0.93065998,\n",
       "        0.93233083, 0.93233083, 0.93065998, 0.93233083, 0.93065998,\n",
       "        0.93149541, 0.93065998, 0.93149541, 0.92982456, 0.93233083,\n",
       "        0.92982456, 0.93149541, 0.92898914, 0.93233083, 0.92898914,\n",
       "        0.93400167, 0.92898914, 0.93483709, 0.92898914, 0.93483709,\n",
       "        0.92982456, 0.93400167, 0.92982456, 0.93400167, 0.92898914,\n",
       "        0.93400167, 0.92898914, 0.93400167, 0.92982456, 0.93316625,\n",
       "        0.92982456, 0.93400167, 0.92898914, 0.93400167, 0.92898914,\n",
       "        0.93400167, 0.92898914, 0.93316625, 0.92898914, 0.93400167]),\n",
       " 'mean_test_score': array([0.91232659, 0.91299534, 0.91282686, 0.91416396, 0.91316159,\n",
       "        0.91382993, 0.91282756, 0.91399659, 0.91215964, 0.91366256,\n",
       "        0.91199284, 0.91349562, 0.9121595 , 0.91332854, 0.91249367,\n",
       "        0.91316173, 0.91215978, 0.91332868, 0.91215992, 0.91316159,\n",
       "        0.91199284, 0.91266076, 0.91182575, 0.91299465, 0.91199298,\n",
       "        0.91215978, 0.91165923, 0.91199298, 0.9116595 , 0.91165923,\n",
       "        0.91149228, 0.91132534, 0.91082422, 0.91115825, 0.9106577 ,\n",
       "        0.91149228, 0.90948866, 0.9113252 , 0.9088206 , 0.9113252 ,\n",
       "        0.90932214, 0.91132534, 0.90882102, 0.91132534, 0.90798616,\n",
       "        0.91099117, 0.90798574, 0.91099131, 0.90781866, 0.91099131,\n",
       "        0.90848685, 0.91099117, 0.90748463, 0.91065742, 0.90798588,\n",
       "        0.91132548, 0.90781866, 0.91132562, 0.90798588, 0.91132562,\n",
       "        0.9073181 , 0.91099159, 0.90748505, 0.91082464, 0.90715102,\n",
       "        0.9106577 , 0.90698407, 0.91082464, 0.90765213, 0.91099145,\n",
       "        0.90698421, 0.91082464, 0.9059824 , 0.91099159, 0.90598212,\n",
       "        0.9106577 , 0.90614907, 0.91032367, 0.90614935, 0.91049075]),\n",
       " 'std_test_score': array([0.00889771, 0.00956148, 0.00811204, 0.008647  , 0.00917669,\n",
       "        0.00877485, 0.01053053, 0.00899215, 0.01067212, 0.00887721,\n",
       "        0.0112706 , 0.0092909 , 0.01133206, 0.00937845, 0.01113181,\n",
       "        0.01010119, 0.01170526, 0.01016215, 0.01181072, 0.0102123 ,\n",
       "        0.01168343, 0.01003969, 0.01202516, 0.00977112, 0.01158639,\n",
       "        0.01009294, 0.01231732, 0.01020374, 0.01236086, 0.0111273 ,\n",
       "        0.01253737, 0.01122566, 0.0115215 , 0.01105382, 0.01268855,\n",
       "        0.01099528, 0.01207532, 0.01105171, 0.0120275 , 0.01127639,\n",
       "        0.01293105, 0.01171284, 0.01253482, 0.01171284, 0.0128416 ,\n",
       "        0.01170429, 0.01294205, 0.0118569 , 0.01265034, 0.0122164 ,\n",
       "        0.01250452, 0.01192836, 0.01255949, 0.0124462 , 0.01244589,\n",
       "        0.01302011, 0.01250576, 0.01331597, 0.01268982, 0.01331597,\n",
       "        0.01303131, 0.01303226, 0.01324801, 0.01305115, 0.01321624,\n",
       "        0.01303585, 0.013218  , 0.01302978, 0.0127783 , 0.01252009,\n",
       "        0.01286486, 0.01283582, 0.01311003, 0.01281661, 0.01289778,\n",
       "        0.01284199, 0.01286569, 0.01255201, 0.01328985, 0.0129001 ]),\n",
       " 'rank_test_score': array([17, 11, 14,  1,  9,  3, 13,  2, 21,  4, 25,  5, 22,  7, 16,  8, 19,\n",
       "         6, 18, 10, 25, 15, 27, 12, 23, 19, 29, 23, 28, 29, 31, 38, 52, 41,\n",
       "        53, 31, 59, 39, 62, 39, 60, 36, 61, 36, 64, 47, 67, 45, 68, 46, 63,\n",
       "        47, 72, 56, 65, 35, 69, 33, 65, 33, 73, 42, 71, 51, 74, 53, 76, 49,\n",
       "        70, 44, 75, 49, 79, 42, 80, 53, 78, 58, 77, 57])}"
      ]
     },
     "execution_count": 424,
     "metadata": {},
     "output_type": "execute_result"
    }
   ],
   "source": [
    "RMSE2.cv_results_"
   ]
  },
  {
   "cell_type": "code",
   "execution_count": 425,
   "id": "1682f5b6",
   "metadata": {},
   "outputs": [
    {
     "data": {
      "text/html": [
       "<div>\n",
       "<style scoped>\n",
       "    .dataframe tbody tr th:only-of-type {\n",
       "        vertical-align: middle;\n",
       "    }\n",
       "\n",
       "    .dataframe tbody tr th {\n",
       "        vertical-align: top;\n",
       "    }\n",
       "\n",
       "    .dataframe thead th {\n",
       "        text-align: right;\n",
       "    }\n",
       "</style>\n",
       "<table border=\"1\" class=\"dataframe\">\n",
       "  <thead>\n",
       "    <tr style=\"text-align: right;\">\n",
       "      <th></th>\n",
       "      <th>mean_fit_time</th>\n",
       "      <th>std_fit_time</th>\n",
       "      <th>mean_score_time</th>\n",
       "      <th>std_score_time</th>\n",
       "      <th>param_weights</th>\n",
       "      <th>param_n_neighbors</th>\n",
       "      <th>params</th>\n",
       "      <th>split0_test_score</th>\n",
       "      <th>split1_test_score</th>\n",
       "      <th>split2_test_score</th>\n",
       "      <th>split3_test_score</th>\n",
       "      <th>split4_test_score</th>\n",
       "      <th>mean_test_score</th>\n",
       "      <th>std_test_score</th>\n",
       "      <th>rank_test_score</th>\n",
       "    </tr>\n",
       "  </thead>\n",
       "  <tbody>\n",
       "    <tr>\n",
       "      <th>0</th>\n",
       "      <td>0.008984</td>\n",
       "      <td>0.003513</td>\n",
       "      <td>0.109520</td>\n",
       "      <td>0.031433</td>\n",
       "      <td>uniform</td>\n",
       "      <td>40</td>\n",
       "      <td>{'weights': 'uniform', 'n_neighbors': 40}</td>\n",
       "      <td>0.899833</td>\n",
       "      <td>0.911519</td>\n",
       "      <td>0.914023</td>\n",
       "      <td>0.908939</td>\n",
       "      <td>0.927318</td>\n",
       "      <td>0.912327</td>\n",
       "      <td>0.008898</td>\n",
       "      <td>17</td>\n",
       "    </tr>\n",
       "    <tr>\n",
       "      <th>1</th>\n",
       "      <td>0.004188</td>\n",
       "      <td>0.002129</td>\n",
       "      <td>0.019019</td>\n",
       "      <td>0.007705</td>\n",
       "      <td>distance</td>\n",
       "      <td>40</td>\n",
       "      <td>{'weights': 'distance', 'n_neighbors': 40}</td>\n",
       "      <td>0.898998</td>\n",
       "      <td>0.913189</td>\n",
       "      <td>0.910684</td>\n",
       "      <td>0.913116</td>\n",
       "      <td>0.928989</td>\n",
       "      <td>0.912995</td>\n",
       "      <td>0.009561</td>\n",
       "      <td>11</td>\n",
       "    </tr>\n",
       "    <tr>\n",
       "      <th>2</th>\n",
       "      <td>0.004122</td>\n",
       "      <td>0.006066</td>\n",
       "      <td>0.073552</td>\n",
       "      <td>0.025858</td>\n",
       "      <td>uniform</td>\n",
       "      <td>46</td>\n",
       "      <td>{'weights': 'uniform', 'n_neighbors': 46}</td>\n",
       "      <td>0.903172</td>\n",
       "      <td>0.912354</td>\n",
       "      <td>0.915693</td>\n",
       "      <td>0.906433</td>\n",
       "      <td>0.926483</td>\n",
       "      <td>0.912827</td>\n",
       "      <td>0.008112</td>\n",
       "      <td>14</td>\n",
       "    </tr>\n",
       "    <tr>\n",
       "      <th>3</th>\n",
       "      <td>0.007313</td>\n",
       "      <td>0.006331</td>\n",
       "      <td>0.030545</td>\n",
       "      <td>0.012511</td>\n",
       "      <td>distance</td>\n",
       "      <td>46</td>\n",
       "      <td>{'weights': 'distance', 'n_neighbors': 46}</td>\n",
       "      <td>0.903172</td>\n",
       "      <td>0.913189</td>\n",
       "      <td>0.912354</td>\n",
       "      <td>0.912281</td>\n",
       "      <td>0.929825</td>\n",
       "      <td>0.914164</td>\n",
       "      <td>0.008647</td>\n",
       "      <td>1</td>\n",
       "    </tr>\n",
       "    <tr>\n",
       "      <th>4</th>\n",
       "      <td>0.007113</td>\n",
       "      <td>0.005065</td>\n",
       "      <td>0.075542</td>\n",
       "      <td>0.015463</td>\n",
       "      <td>uniform</td>\n",
       "      <td>53</td>\n",
       "      <td>{'weights': 'uniform', 'n_neighbors': 53}</td>\n",
       "      <td>0.902337</td>\n",
       "      <td>0.913189</td>\n",
       "      <td>0.912354</td>\n",
       "      <td>0.908104</td>\n",
       "      <td>0.929825</td>\n",
       "      <td>0.913162</td>\n",
       "      <td>0.009177</td>\n",
       "      <td>9</td>\n",
       "    </tr>\n",
       "    <tr>\n",
       "      <th>...</th>\n",
       "      <td>...</td>\n",
       "      <td>...</td>\n",
       "      <td>...</td>\n",
       "      <td>...</td>\n",
       "      <td>...</td>\n",
       "      <td>...</td>\n",
       "      <td>...</td>\n",
       "      <td>...</td>\n",
       "      <td>...</td>\n",
       "      <td>...</td>\n",
       "      <td>...</td>\n",
       "      <td>...</td>\n",
       "      <td>...</td>\n",
       "      <td>...</td>\n",
       "      <td>...</td>\n",
       "    </tr>\n",
       "    <tr>\n",
       "      <th>75</th>\n",
       "      <td>0.008443</td>\n",
       "      <td>0.006202</td>\n",
       "      <td>0.103626</td>\n",
       "      <td>0.012332</td>\n",
       "      <td>distance</td>\n",
       "      <td>286</td>\n",
       "      <td>{'weights': 'distance', 'n_neighbors': 286}</td>\n",
       "      <td>0.894825</td>\n",
       "      <td>0.909015</td>\n",
       "      <td>0.909850</td>\n",
       "      <td>0.905597</td>\n",
       "      <td>0.934002</td>\n",
       "      <td>0.910658</td>\n",
       "      <td>0.012842</td>\n",
       "      <td>53</td>\n",
       "    </tr>\n",
       "    <tr>\n",
       "      <th>76</th>\n",
       "      <td>0.007526</td>\n",
       "      <td>0.004120</td>\n",
       "      <td>0.143837</td>\n",
       "      <td>0.010245</td>\n",
       "      <td>uniform</td>\n",
       "      <td>293</td>\n",
       "      <td>{'weights': 'uniform', 'n_neighbors': 293}</td>\n",
       "      <td>0.888982</td>\n",
       "      <td>0.904007</td>\n",
       "      <td>0.904841</td>\n",
       "      <td>0.903926</td>\n",
       "      <td>0.928989</td>\n",
       "      <td>0.906149</td>\n",
       "      <td>0.012866</td>\n",
       "      <td>78</td>\n",
       "    </tr>\n",
       "    <tr>\n",
       "      <th>77</th>\n",
       "      <td>0.009256</td>\n",
       "      <td>0.005224</td>\n",
       "      <td>0.090663</td>\n",
       "      <td>0.009177</td>\n",
       "      <td>distance</td>\n",
       "      <td>293</td>\n",
       "      <td>{'weights': 'distance', 'n_neighbors': 293}</td>\n",
       "      <td>0.894825</td>\n",
       "      <td>0.909015</td>\n",
       "      <td>0.909015</td>\n",
       "      <td>0.905597</td>\n",
       "      <td>0.933166</td>\n",
       "      <td>0.910324</td>\n",
       "      <td>0.012552</td>\n",
       "      <td>58</td>\n",
       "    </tr>\n",
       "    <tr>\n",
       "      <th>78</th>\n",
       "      <td>0.004186</td>\n",
       "      <td>0.003418</td>\n",
       "      <td>0.162268</td>\n",
       "      <td>0.040603</td>\n",
       "      <td>uniform</td>\n",
       "      <td>300</td>\n",
       "      <td>{'weights': 'uniform', 'n_neighbors': 300}</td>\n",
       "      <td>0.887312</td>\n",
       "      <td>0.904007</td>\n",
       "      <td>0.904841</td>\n",
       "      <td>0.905597</td>\n",
       "      <td>0.928989</td>\n",
       "      <td>0.906149</td>\n",
       "      <td>0.013290</td>\n",
       "      <td>77</td>\n",
       "    </tr>\n",
       "    <tr>\n",
       "      <th>79</th>\n",
       "      <td>0.008642</td>\n",
       "      <td>0.006136</td>\n",
       "      <td>0.098620</td>\n",
       "      <td>0.006154</td>\n",
       "      <td>distance</td>\n",
       "      <td>300</td>\n",
       "      <td>{'weights': 'distance', 'n_neighbors': 300}</td>\n",
       "      <td>0.894825</td>\n",
       "      <td>0.910684</td>\n",
       "      <td>0.907346</td>\n",
       "      <td>0.905597</td>\n",
       "      <td>0.934002</td>\n",
       "      <td>0.910491</td>\n",
       "      <td>0.012900</td>\n",
       "      <td>57</td>\n",
       "    </tr>\n",
       "  </tbody>\n",
       "</table>\n",
       "<p>80 rows × 15 columns</p>\n",
       "</div>"
      ],
      "text/plain": [
       "    mean_fit_time  std_fit_time  mean_score_time  std_score_time  \\\n",
       "0        0.008984      0.003513         0.109520        0.031433   \n",
       "1        0.004188      0.002129         0.019019        0.007705   \n",
       "2        0.004122      0.006066         0.073552        0.025858   \n",
       "3        0.007313      0.006331         0.030545        0.012511   \n",
       "4        0.007113      0.005065         0.075542        0.015463   \n",
       "..            ...           ...              ...             ...   \n",
       "75       0.008443      0.006202         0.103626        0.012332   \n",
       "76       0.007526      0.004120         0.143837        0.010245   \n",
       "77       0.009256      0.005224         0.090663        0.009177   \n",
       "78       0.004186      0.003418         0.162268        0.040603   \n",
       "79       0.008642      0.006136         0.098620        0.006154   \n",
       "\n",
       "   param_weights param_n_neighbors  \\\n",
       "0        uniform                40   \n",
       "1       distance                40   \n",
       "2        uniform                46   \n",
       "3       distance                46   \n",
       "4        uniform                53   \n",
       "..           ...               ...   \n",
       "75      distance               286   \n",
       "76       uniform               293   \n",
       "77      distance               293   \n",
       "78       uniform               300   \n",
       "79      distance               300   \n",
       "\n",
       "                                         params  split0_test_score  \\\n",
       "0     {'weights': 'uniform', 'n_neighbors': 40}           0.899833   \n",
       "1    {'weights': 'distance', 'n_neighbors': 40}           0.898998   \n",
       "2     {'weights': 'uniform', 'n_neighbors': 46}           0.903172   \n",
       "3    {'weights': 'distance', 'n_neighbors': 46}           0.903172   \n",
       "4     {'weights': 'uniform', 'n_neighbors': 53}           0.902337   \n",
       "..                                          ...                ...   \n",
       "75  {'weights': 'distance', 'n_neighbors': 286}           0.894825   \n",
       "76   {'weights': 'uniform', 'n_neighbors': 293}           0.888982   \n",
       "77  {'weights': 'distance', 'n_neighbors': 293}           0.894825   \n",
       "78   {'weights': 'uniform', 'n_neighbors': 300}           0.887312   \n",
       "79  {'weights': 'distance', 'n_neighbors': 300}           0.894825   \n",
       "\n",
       "    split1_test_score  split2_test_score  split3_test_score  \\\n",
       "0            0.911519           0.914023           0.908939   \n",
       "1            0.913189           0.910684           0.913116   \n",
       "2            0.912354           0.915693           0.906433   \n",
       "3            0.913189           0.912354           0.912281   \n",
       "4            0.913189           0.912354           0.908104   \n",
       "..                ...                ...                ...   \n",
       "75           0.909015           0.909850           0.905597   \n",
       "76           0.904007           0.904841           0.903926   \n",
       "77           0.909015           0.909015           0.905597   \n",
       "78           0.904007           0.904841           0.905597   \n",
       "79           0.910684           0.907346           0.905597   \n",
       "\n",
       "    split4_test_score  mean_test_score  std_test_score  rank_test_score  \n",
       "0            0.927318         0.912327        0.008898               17  \n",
       "1            0.928989         0.912995        0.009561               11  \n",
       "2            0.926483         0.912827        0.008112               14  \n",
       "3            0.929825         0.914164        0.008647                1  \n",
       "4            0.929825         0.913162        0.009177                9  \n",
       "..                ...              ...             ...              ...  \n",
       "75           0.934002         0.910658        0.012842               53  \n",
       "76           0.928989         0.906149        0.012866               78  \n",
       "77           0.933166         0.910324        0.012552               58  \n",
       "78           0.928989         0.906149        0.013290               77  \n",
       "79           0.934002         0.910491        0.012900               57  \n",
       "\n",
       "[80 rows x 15 columns]"
      ]
     },
     "execution_count": 425,
     "metadata": {},
     "output_type": "execute_result"
    }
   ],
   "source": [
    "results=pd.DataFrame(RMSE2.cv_results_)\n",
    "results"
   ]
  },
  {
   "cell_type": "code",
   "execution_count": 426,
   "id": "e4b3a870",
   "metadata": {},
   "outputs": [
    {
     "data": {
      "text/plain": [
       "0.9141639574729812"
      ]
     },
     "execution_count": 426,
     "metadata": {},
     "output_type": "execute_result"
    }
   ],
   "source": [
    "RMSE2.best_score_"
   ]
  },
  {
   "cell_type": "code",
   "execution_count": 427,
   "id": "976a1760",
   "metadata": {},
   "outputs": [
    {
     "data": {
      "text/plain": [
       "{'weights': 'distance', 'n_neighbors': 46}"
      ]
     },
     "execution_count": 427,
     "metadata": {},
     "output_type": "execute_result"
    }
   ],
   "source": [
    "RMSE2.best_params_"
   ]
  },
  {
   "cell_type": "code",
   "execution_count": 428,
   "id": "db2b02b1",
   "metadata": {},
   "outputs": [
    {
     "data": {
      "text/plain": [
       "KNeighborsClassifier(n_neighbors=46, weights='distance')"
      ]
     },
     "execution_count": 428,
     "metadata": {},
     "output_type": "execute_result"
    }
   ],
   "source": [
    "Best=RMSE2.best_estimator_\n",
    "Best"
   ]
  },
  {
   "cell_type": "code",
   "execution_count": 429,
   "id": "55be749b",
   "metadata": {},
   "outputs": [
    {
     "data": {
      "text/plain": [
       "0.9213089209193611"
      ]
     },
     "execution_count": 429,
     "metadata": {},
     "output_type": "execute_result"
    }
   ],
   "source": [
    "Best.score(xtest,ytest)"
   ]
  },
  {
   "cell_type": "code",
   "execution_count": 430,
   "id": "96198c12",
   "metadata": {},
   "outputs": [],
   "source": [
    "from sklearn.neighbors import NearestNeighbors\n",
    " "
   ]
  },
  {
   "cell_type": "code",
   "execution_count": 431,
   "id": "c1364ea3",
   "metadata": {},
   "outputs": [],
   "source": [
    "neigh = NearestNeighbors(n_neighbors=46)\n"
   ]
  },
  {
   "cell_type": "code",
   "execution_count": 432,
   "id": "543463aa",
   "metadata": {},
   "outputs": [
    {
     "data": {
      "text/plain": [
       "NearestNeighbors(n_neighbors=46)"
      ]
     },
     "execution_count": 432,
     "metadata": {},
     "output_type": "execute_result"
    }
   ],
   "source": [
    " neigh.fit(x,y)\n",
    "NearestNeighbors(n_neighbors=46)"
   ]
  },
  {
   "cell_type": "code",
   "execution_count": 433,
   "id": "cf41e20f",
   "metadata": {},
   "outputs": [
    {
     "data": {
      "text/plain": [
       "array([[1., 0., 0., ..., 0., 0., 0.],\n",
       "       [0., 1., 0., ..., 0., 0., 0.],\n",
       "       [0., 0., 1., ..., 0., 0., 0.],\n",
       "       ...,\n",
       "       [0., 0., 0., ..., 1., 0., 0.],\n",
       "       [0., 0., 0., ..., 0., 1., 0.],\n",
       "       [0., 0., 0., ..., 0., 0., 1.]])"
      ]
     },
     "execution_count": 433,
     "metadata": {},
     "output_type": "execute_result"
    }
   ],
   "source": [
    " A = neigh.kneighbors_graph(x)\n",
    "A.toarray()"
   ]
  },
  {
   "cell_type": "code",
   "execution_count": 434,
   "id": "f35aa79d",
   "metadata": {},
   "outputs": [
    {
     "name": "stderr",
     "output_type": "stream",
     "text": [
      "C:\\Users\\fkari653\\Anaconda3\\envs\\DL\\lib\\site-packages\\sklearn\\utils\\deprecation.py:87: FutureWarning: Function plot_roc_curve is deprecated; Function :func:`plot_roc_curve` is deprecated in 1.0 and will be removed in 1.2. Use one of the class methods: :meth:`sklearn.metric.RocCurveDisplay.from_predictions` or :meth:`sklearn.metric.RocCurveDisplay.from_estimator`.\n",
      "  warnings.warn(msg, category=FutureWarning)\n"
     ]
    },
    {
     "data": {
      "text/plain": [
       "<sklearn.metrics._plot.roc_curve.RocCurveDisplay at 0x2956ee89048>"
      ]
     },
     "execution_count": 434,
     "metadata": {},
     "output_type": "execute_result"
    },
    {
     "data": {
      "image/png": "[encoded data removed]",
      "text/plain": [
       "<Figure size 432x288 with 1 Axes>"
      ]
     },
     "metadata": {
      "needs_background": "light"
     },
     "output_type": "display_data"
    }
   ],
   "source": [
    "plot_roc_curve(KNN3,xtest,ytest) ## ROC CURVE"
   ]
  },
  {
   "cell_type": "code",
   "execution_count": 435,
   "id": "400785fd",
   "metadata": {},
   "outputs": [
    {
     "data": {
      "text/plain": [
       "array([1, 1, 1, ..., 0, 1, 1])"
      ]
     },
     "execution_count": 435,
     "metadata": {},
     "output_type": "execute_result"
    }
   ],
   "source": [
    "\n",
    "KNN3predict=KNN3.predict(xtest)\n",
    "KNN3predict\n"
   ]
  },
  {
   "cell_type": "code",
   "execution_count": 436,
   "id": "af51a748",
   "metadata": {},
   "outputs": [],
   "source": [
    "test_confusion_matrix=confusion_matrix(ytest,KNN3predict)   ## Confusion Matrix "
   ]
  },
  {
   "cell_type": "code",
   "execution_count": 437,
   "id": "a4d705b2",
   "metadata": {},
   "outputs": [
    {
     "data": {
      "text/plain": [
       "array([[ 938,  117],\n",
       "       [ 102, 1410]], dtype=int64)"
      ]
     },
     "execution_count": 437,
     "metadata": {},
     "output_type": "execute_result"
    }
   ],
   "source": [
    "test_confusion_matrix"
   ]
  },
  {
   "cell_type": "code",
   "execution_count": 438,
   "id": "259496b2",
   "metadata": {},
   "outputs": [
    {
     "data": {
      "text/plain": [
       "0.9146864043630697"
      ]
     },
     "execution_count": 438,
     "metadata": {},
     "output_type": "execute_result"
    }
   ],
   "source": [
    "accurecy=(tp+tn)/(tp+tn+fp+fn) ## True Event/Total Event\n",
    "accurecy"
   ]
  },
  {
   "cell_type": "code",
   "execution_count": 439,
   "id": "a4ecf5f9",
   "metadata": {},
   "outputs": [
    {
     "data": {
      "text/plain": [
       "<AxesSubplot:>"
      ]
     },
     "execution_count": 439,
     "metadata": {},
     "output_type": "execute_result"
    },
    {
     "data": {
      "image/png": "[encoded data removed]",
      "text/plain": [
       "<Figure size 432x288 with 2 Axes>"
      ]
     },
     "metadata": {
      "needs_background": "light"
     },
     "output_type": "display_data"
    }
   ],
   "source": [
    "sns.heatmap(test_confusion_matrix,annot=True)"
   ]
  },
  {
   "cell_type": "markdown",
   "id": "25a05d9c",
   "metadata": {},
   "source": [
    "## Comment"
   ]
  },
  {
   "cell_type": "code",
   "execution_count": null,
   "id": "1458c9ee",
   "metadata": {},
   "outputs": [],
   "source": [
    "#For the given dataset,Applying KNN Classifier Model,I got the following observations:\n",
    "Accurecy-0.9146864043630697, Mean squared error: 0.08531359563693026,RMSE:0.2920849116899575\n",
    "    \n",
    "#After Tuning  KNN Classifier Model,I got \n",
    "Accurecy 0.9213089209193611 when KNeighborsRegressor(n_neighbors=46) and the Best parameters {'weights': 'distance', 'n_neighbors': 46}\n"
   ]
  },
  {
   "cell_type": "code",
   "execution_count": null,
   "id": "85e1938d",
   "metadata": {},
   "outputs": [],
   "source": []
  },
  {
   "cell_type": "code",
   "execution_count": 440,
   "id": "191b6705",
   "metadata": {},
   "outputs": [
    {
     "ename": "ValueError",
     "evalue": "x and y must be the same size",
     "output_type": "error",
     "traceback": [
      "\u001b[1;31m---------------------------------------------------------------------------\u001b[0m",
      "\u001b[1;31mValueError\u001b[0m                                Traceback (most recent call last)",
      "\u001b[1;32m~\\AppData\\Local\\Temp/ipykernel_18824/382229771.py\u001b[0m in \u001b[0;36m<module>\u001b[1;34m\u001b[0m\n\u001b[1;32m----> 1\u001b[1;33m \u001b[0mplt\u001b[0m\u001b[1;33m.\u001b[0m\u001b[0mscatter\u001b[0m\u001b[1;33m(\u001b[0m\u001b[0mxtest\u001b[0m\u001b[1;33m,\u001b[0m\u001b[0mytest\u001b[0m\u001b[1;33m,\u001b[0m \u001b[0mcolor\u001b[0m\u001b[1;33m=\u001b[0m\u001b[1;34m\"black\"\u001b[0m\u001b[1;33m)\u001b[0m\u001b[1;33m\u001b[0m\u001b[1;33m\u001b[0m\u001b[0m\n\u001b[0m\u001b[0;32m      2\u001b[0m \u001b[0mplt\u001b[0m\u001b[1;33m.\u001b[0m\u001b[0mplot\u001b[0m\u001b[1;33m(\u001b[0m\u001b[0mxtest\u001b[0m\u001b[1;33m,\u001b[0m\u001b[0my_pred\u001b[0m\u001b[1;33m,\u001b[0m \u001b[0mcolor\u001b[0m\u001b[1;33m=\u001b[0m\u001b[1;34m\"blue\"\u001b[0m\u001b[1;33m,\u001b[0m \u001b[0mlinewidth\u001b[0m\u001b[1;33m=\u001b[0m\u001b[1;36m2\u001b[0m\u001b[1;33m)\u001b[0m\u001b[1;33m\u001b[0m\u001b[1;33m\u001b[0m\u001b[0m\n\u001b[0;32m      3\u001b[0m \u001b[0mplt\u001b[0m\u001b[1;33m.\u001b[0m\u001b[0mxticks\u001b[0m\u001b[1;33m(\u001b[0m\u001b[1;33m(\u001b[0m\u001b[1;33m)\u001b[0m\u001b[1;33m)\u001b[0m\u001b[1;33m\u001b[0m\u001b[1;33m\u001b[0m\u001b[0m\n\u001b[0;32m      4\u001b[0m \u001b[0mplt\u001b[0m\u001b[1;33m.\u001b[0m\u001b[0myticks\u001b[0m\u001b[1;33m(\u001b[0m\u001b[1;33m(\u001b[0m\u001b[1;33m)\u001b[0m\u001b[1;33m)\u001b[0m\u001b[1;33m\u001b[0m\u001b[1;33m\u001b[0m\u001b[0m\n\u001b[0;32m      5\u001b[0m \u001b[1;33m\u001b[0m\u001b[0m\n",
      "\u001b[1;32m~\\Anaconda3\\envs\\DL\\lib\\site-packages\\matplotlib\\pyplot.py\u001b[0m in \u001b[0;36mscatter\u001b[1;34m(x, y, s, c, marker, cmap, norm, vmin, vmax, alpha, linewidths, edgecolors, plotnonfinite, data, **kwargs)\u001b[0m\n\u001b[0;32m   2809\u001b[0m         \u001b[0mvmin\u001b[0m\u001b[1;33m=\u001b[0m\u001b[0mvmin\u001b[0m\u001b[1;33m,\u001b[0m \u001b[0mvmax\u001b[0m\u001b[1;33m=\u001b[0m\u001b[0mvmax\u001b[0m\u001b[1;33m,\u001b[0m \u001b[0malpha\u001b[0m\u001b[1;33m=\u001b[0m\u001b[0malpha\u001b[0m\u001b[1;33m,\u001b[0m \u001b[0mlinewidths\u001b[0m\u001b[1;33m=\u001b[0m\u001b[0mlinewidths\u001b[0m\u001b[1;33m,\u001b[0m\u001b[1;33m\u001b[0m\u001b[1;33m\u001b[0m\u001b[0m\n\u001b[0;32m   2810\u001b[0m         \u001b[0medgecolors\u001b[0m\u001b[1;33m=\u001b[0m\u001b[0medgecolors\u001b[0m\u001b[1;33m,\u001b[0m \u001b[0mplotnonfinite\u001b[0m\u001b[1;33m=\u001b[0m\u001b[0mplotnonfinite\u001b[0m\u001b[1;33m,\u001b[0m\u001b[1;33m\u001b[0m\u001b[1;33m\u001b[0m\u001b[0m\n\u001b[1;32m-> 2811\u001b[1;33m         **({\"data\": data} if data is not None else {}), **kwargs)\n\u001b[0m\u001b[0;32m   2812\u001b[0m     \u001b[0msci\u001b[0m\u001b[1;33m(\u001b[0m\u001b[0m__ret\u001b[0m\u001b[1;33m)\u001b[0m\u001b[1;33m\u001b[0m\u001b[1;33m\u001b[0m\u001b[0m\n\u001b[0;32m   2813\u001b[0m     \u001b[1;32mreturn\u001b[0m \u001b[0m__ret\u001b[0m\u001b[1;33m\u001b[0m\u001b[1;33m\u001b[0m\u001b[0m\n",
      "\u001b[1;32m~\\Anaconda3\\envs\\DL\\lib\\site-packages\\matplotlib\\__init__.py\u001b[0m in \u001b[0;36minner\u001b[1;34m(ax, data, *args, **kwargs)\u001b[0m\n\u001b[0;32m   1410\u001b[0m     \u001b[1;32mdef\u001b[0m \u001b[0minner\u001b[0m\u001b[1;33m(\u001b[0m\u001b[0max\u001b[0m\u001b[1;33m,\u001b[0m \u001b[1;33m*\u001b[0m\u001b[0margs\u001b[0m\u001b[1;33m,\u001b[0m \u001b[0mdata\u001b[0m\u001b[1;33m=\u001b[0m\u001b[1;32mNone\u001b[0m\u001b[1;33m,\u001b[0m \u001b[1;33m**\u001b[0m\u001b[0mkwargs\u001b[0m\u001b[1;33m)\u001b[0m\u001b[1;33m:\u001b[0m\u001b[1;33m\u001b[0m\u001b[1;33m\u001b[0m\u001b[0m\n\u001b[0;32m   1411\u001b[0m         \u001b[1;32mif\u001b[0m \u001b[0mdata\u001b[0m \u001b[1;32mis\u001b[0m \u001b[1;32mNone\u001b[0m\u001b[1;33m:\u001b[0m\u001b[1;33m\u001b[0m\u001b[1;33m\u001b[0m\u001b[0m\n\u001b[1;32m-> 1412\u001b[1;33m             \u001b[1;32mreturn\u001b[0m \u001b[0mfunc\u001b[0m\u001b[1;33m(\u001b[0m\u001b[0max\u001b[0m\u001b[1;33m,\u001b[0m \u001b[1;33m*\u001b[0m\u001b[0mmap\u001b[0m\u001b[1;33m(\u001b[0m\u001b[0msanitize_sequence\u001b[0m\u001b[1;33m,\u001b[0m \u001b[0margs\u001b[0m\u001b[1;33m)\u001b[0m\u001b[1;33m,\u001b[0m \u001b[1;33m**\u001b[0m\u001b[0mkwargs\u001b[0m\u001b[1;33m)\u001b[0m\u001b[1;33m\u001b[0m\u001b[1;33m\u001b[0m\u001b[0m\n\u001b[0m\u001b[0;32m   1413\u001b[0m \u001b[1;33m\u001b[0m\u001b[0m\n\u001b[0;32m   1414\u001b[0m         \u001b[0mbound\u001b[0m \u001b[1;33m=\u001b[0m \u001b[0mnew_sig\u001b[0m\u001b[1;33m.\u001b[0m\u001b[0mbind\u001b[0m\u001b[1;33m(\u001b[0m\u001b[0max\u001b[0m\u001b[1;33m,\u001b[0m \u001b[1;33m*\u001b[0m\u001b[0margs\u001b[0m\u001b[1;33m,\u001b[0m \u001b[1;33m**\u001b[0m\u001b[0mkwargs\u001b[0m\u001b[1;33m)\u001b[0m\u001b[1;33m\u001b[0m\u001b[1;33m\u001b[0m\u001b[0m\n",
      "\u001b[1;32m~\\Anaconda3\\envs\\DL\\lib\\site-packages\\matplotlib\\axes\\_axes.py\u001b[0m in \u001b[0;36mscatter\u001b[1;34m(self, x, y, s, c, marker, cmap, norm, vmin, vmax, alpha, linewidths, edgecolors, plotnonfinite, **kwargs)\u001b[0m\n\u001b[0;32m   4321\u001b[0m         \u001b[0my\u001b[0m \u001b[1;33m=\u001b[0m \u001b[0mnp\u001b[0m\u001b[1;33m.\u001b[0m\u001b[0mma\u001b[0m\u001b[1;33m.\u001b[0m\u001b[0mravel\u001b[0m\u001b[1;33m(\u001b[0m\u001b[0my\u001b[0m\u001b[1;33m)\u001b[0m\u001b[1;33m\u001b[0m\u001b[1;33m\u001b[0m\u001b[0m\n\u001b[0;32m   4322\u001b[0m         \u001b[1;32mif\u001b[0m \u001b[0mx\u001b[0m\u001b[1;33m.\u001b[0m\u001b[0msize\u001b[0m \u001b[1;33m!=\u001b[0m \u001b[0my\u001b[0m\u001b[1;33m.\u001b[0m\u001b[0msize\u001b[0m\u001b[1;33m:\u001b[0m\u001b[1;33m\u001b[0m\u001b[1;33m\u001b[0m\u001b[0m\n\u001b[1;32m-> 4323\u001b[1;33m             \u001b[1;32mraise\u001b[0m \u001b[0mValueError\u001b[0m\u001b[1;33m(\u001b[0m\u001b[1;34m\"x and y must be the same size\"\u001b[0m\u001b[1;33m)\u001b[0m\u001b[1;33m\u001b[0m\u001b[1;33m\u001b[0m\u001b[0m\n\u001b[0m\u001b[0;32m   4324\u001b[0m \u001b[1;33m\u001b[0m\u001b[0m\n\u001b[0;32m   4325\u001b[0m         \u001b[1;32mif\u001b[0m \u001b[0ms\u001b[0m \u001b[1;32mis\u001b[0m \u001b[1;32mNone\u001b[0m\u001b[1;33m:\u001b[0m\u001b[1;33m\u001b[0m\u001b[1;33m\u001b[0m\u001b[0m\n",
      "\u001b[1;31mValueError\u001b[0m: x and y must be the same size"
     ]
    },
    {
     "data": {
      "image/png": "[encoded data removed]",
      "text/plain": [
       "<Figure size 432x288 with 1 Axes>"
      ]
     },
     "metadata": {
      "needs_background": "light"
     },
     "output_type": "display_data"
    }
   ],
   "source": [
    "plt.scatter(xtest,ytest, color=\"black\")\n",
    "plt.plot(xtest,y_pred, color=\"blue\", linewidth=2)\n",
    "plt.xticks(())\n",
    "plt.yticks(())\n",
    "\n",
    "plt.show()"
   ]
  },
  {
   "cell_type": "code",
   "execution_count": null,
   "id": "0ba954eb",
   "metadata": {},
   "outputs": [],
   "source": [
    "import matplotlib.pyplot as plt\n",
    "\n",
    "plt.plot(df['Height'],reg.predict(df[['Height']]))\n",
    "plt.scatter(df['Height'],df['Weight'],color='yellow')\n",
    "plt.xlabel('Height')\n",
    "plt.ylabel('Weight')\n"
   ]
  },
  {
   "cell_type": "code",
   "execution_count": null,
   "id": "ca40aa3c",
   "metadata": {},
   "outputs": [],
   "source": []
  }
 ],
 "metadata": {
  "kernelspec": {
   "display_name": "Python 3 (ipykernel)",
   "language": "python",
   "name": "python3"
  },
  "language_info": {
   "codemirror_mode": {
    "name": "ipython",
    "version": 3
   },
   "file_extension": ".py",
   "mimetype": "text/x-python",
   "name": "python",
   "nbconvert_exporter": "python",
   "pygments_lexer": "ipython3",
   "version": "3.7.11"
  }
 },
 "nbformat": 4,
 "nbformat_minor": 5
}
