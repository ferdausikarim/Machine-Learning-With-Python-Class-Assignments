{
 "cells": [
  {
   "cell_type": "code",
   "execution_count": 24,
   "id": "f79c0905",
   "metadata": {},
   "outputs": [],
   "source": [
    "import pandas as pd # data frame library\n",
    "import seaborn as sns # data visialization library\n",
    "import matplotlib.pyplot as plt\n",
    "import numpy as np\n",
    "import os"
   ]
  },
  {
   "cell_type": "code",
   "execution_count": 25,
   "id": "ac1bb5db",
   "metadata": {},
   "outputs": [
    {
     "data": {
      "text/plain": [
       "'C:\\\\Users\\\\fkari653'"
      ]
     },
     "execution_count": 25,
     "metadata": {},
     "output_type": "execute_result"
    }
   ],
   "source": [
    "os.getcwd()"
   ]
  },
  {
   "cell_type": "code",
   "execution_count": 26,
   "id": "b08f195d",
   "metadata": {},
   "outputs": [],
   "source": [
    "df=pd.read_csv('weight-height.csv')"
   ]
  },
  {
   "cell_type": "code",
   "execution_count": 27,
   "id": "c0f423bc",
   "metadata": {},
   "outputs": [
    {
     "data": {
      "text/html": [
       "<div>\n",
       "<style scoped>\n",
       "    .dataframe tbody tr th:only-of-type {\n",
       "        vertical-align: middle;\n",
       "    }\n",
       "\n",
       "    .dataframe tbody tr th {\n",
       "        vertical-align: top;\n",
       "    }\n",
       "\n",
       "    .dataframe thead th {\n",
       "        text-align: right;\n",
       "    }\n",
       "</style>\n",
       "<table border=\"1\" class=\"dataframe\">\n",
       "  <thead>\n",
       "    <tr style=\"text-align: right;\">\n",
       "      <th></th>\n",
       "      <th>Gender</th>\n",
       "      <th>Height</th>\n",
       "      <th>Weight</th>\n",
       "    </tr>\n",
       "  </thead>\n",
       "  <tbody>\n",
       "    <tr>\n",
       "      <th>0</th>\n",
       "      <td>Male</td>\n",
       "      <td>73.847017</td>\n",
       "      <td>241.893563</td>\n",
       "    </tr>\n",
       "    <tr>\n",
       "      <th>1</th>\n",
       "      <td>Male</td>\n",
       "      <td>68.781904</td>\n",
       "      <td>162.310473</td>\n",
       "    </tr>\n",
       "    <tr>\n",
       "      <th>2</th>\n",
       "      <td>Male</td>\n",
       "      <td>74.110105</td>\n",
       "      <td>212.740856</td>\n",
       "    </tr>\n",
       "    <tr>\n",
       "      <th>3</th>\n",
       "      <td>Male</td>\n",
       "      <td>71.730978</td>\n",
       "      <td>220.042470</td>\n",
       "    </tr>\n",
       "    <tr>\n",
       "      <th>4</th>\n",
       "      <td>Male</td>\n",
       "      <td>69.881796</td>\n",
       "      <td>206.349801</td>\n",
       "    </tr>\n",
       "    <tr>\n",
       "      <th>...</th>\n",
       "      <td>...</td>\n",
       "      <td>...</td>\n",
       "      <td>...</td>\n",
       "    </tr>\n",
       "    <tr>\n",
       "      <th>8550</th>\n",
       "      <td>Female</td>\n",
       "      <td>60.483946</td>\n",
       "      <td>110.565497</td>\n",
       "    </tr>\n",
       "    <tr>\n",
       "      <th>8551</th>\n",
       "      <td>Female</td>\n",
       "      <td>63.423372</td>\n",
       "      <td>129.921671</td>\n",
       "    </tr>\n",
       "    <tr>\n",
       "      <th>8552</th>\n",
       "      <td>Female</td>\n",
       "      <td>65.584057</td>\n",
       "      <td>155.942671</td>\n",
       "    </tr>\n",
       "    <tr>\n",
       "      <th>8553</th>\n",
       "      <td>Female</td>\n",
       "      <td>67.429971</td>\n",
       "      <td>151.678405</td>\n",
       "    </tr>\n",
       "    <tr>\n",
       "      <th>8554</th>\n",
       "      <td>Female</td>\n",
       "      <td>60.921791</td>\n",
       "      <td>131.253738</td>\n",
       "    </tr>\n",
       "  </tbody>\n",
       "</table>\n",
       "<p>8555 rows × 3 columns</p>\n",
       "</div>"
      ],
      "text/plain": [
       "      Gender     Height      Weight\n",
       "0       Male  73.847017  241.893563\n",
       "1       Male  68.781904  162.310473\n",
       "2       Male  74.110105  212.740856\n",
       "3       Male  71.730978  220.042470\n",
       "4       Male  69.881796  206.349801\n",
       "...      ...        ...         ...\n",
       "8550  Female  60.483946  110.565497\n",
       "8551  Female  63.423372  129.921671\n",
       "8552  Female  65.584057  155.942671\n",
       "8553  Female  67.429971  151.678405\n",
       "8554  Female  60.921791  131.253738\n",
       "\n",
       "[8555 rows x 3 columns]"
      ]
     },
     "execution_count": 27,
     "metadata": {},
     "output_type": "execute_result"
    }
   ],
   "source": [
    "df"
   ]
  },
  {
   "cell_type": "code",
   "execution_count": 28,
   "id": "6b9ecc06",
   "metadata": {},
   "outputs": [
    {
     "name": "stdout",
     "output_type": "stream",
     "text": [
      "<class 'pandas.core.frame.DataFrame'>\n",
      "RangeIndex: 8555 entries, 0 to 8554\n",
      "Data columns (total 3 columns):\n",
      " #   Column  Non-Null Count  Dtype  \n",
      "---  ------  --------------  -----  \n",
      " 0   Gender  8555 non-null   object \n",
      " 1   Height  8555 non-null   float64\n",
      " 2   Weight  8555 non-null   float64\n",
      "dtypes: float64(2), object(1)\n",
      "memory usage: 200.6+ KB\n"
     ]
    }
   ],
   "source": [
    "df.info()"
   ]
  },
  {
   "cell_type": "code",
   "execution_count": 29,
   "id": "67a80164",
   "metadata": {},
   "outputs": [
    {
     "data": {
      "text/html": [
       "<div>\n",
       "<style scoped>\n",
       "    .dataframe tbody tr th:only-of-type {\n",
       "        vertical-align: middle;\n",
       "    }\n",
       "\n",
       "    .dataframe tbody tr th {\n",
       "        vertical-align: top;\n",
       "    }\n",
       "\n",
       "    .dataframe thead th {\n",
       "        text-align: right;\n",
       "    }\n",
       "</style>\n",
       "<table border=\"1\" class=\"dataframe\">\n",
       "  <thead>\n",
       "    <tr style=\"text-align: right;\">\n",
       "      <th></th>\n",
       "      <th>Height</th>\n",
       "      <th>Weight</th>\n",
       "    </tr>\n",
       "  </thead>\n",
       "  <tbody>\n",
       "    <tr>\n",
       "      <th>count</th>\n",
       "      <td>8555.000000</td>\n",
       "      <td>8555.000000</td>\n",
       "    </tr>\n",
       "    <tr>\n",
       "      <th>mean</th>\n",
       "      <td>66.809925</td>\n",
       "      <td>165.632735</td>\n",
       "    </tr>\n",
       "    <tr>\n",
       "      <th>std</th>\n",
       "      <td>3.851454</td>\n",
       "      <td>32.043922</td>\n",
       "    </tr>\n",
       "    <tr>\n",
       "      <th>min</th>\n",
       "      <td>54.616858</td>\n",
       "      <td>65.780000</td>\n",
       "    </tr>\n",
       "    <tr>\n",
       "      <th>25%</th>\n",
       "      <td>63.957684</td>\n",
       "      <td>139.876803</td>\n",
       "    </tr>\n",
       "    <tr>\n",
       "      <th>50%</th>\n",
       "      <td>66.985923</td>\n",
       "      <td>168.521567</td>\n",
       "    </tr>\n",
       "    <tr>\n",
       "      <th>75%</th>\n",
       "      <td>69.604427</td>\n",
       "      <td>190.666305</td>\n",
       "    </tr>\n",
       "    <tr>\n",
       "      <th>max</th>\n",
       "      <td>80.450000</td>\n",
       "      <td>269.989698</td>\n",
       "    </tr>\n",
       "  </tbody>\n",
       "</table>\n",
       "</div>"
      ],
      "text/plain": [
       "            Height       Weight\n",
       "count  8555.000000  8555.000000\n",
       "mean     66.809925   165.632735\n",
       "std       3.851454    32.043922\n",
       "min      54.616858    65.780000\n",
       "25%      63.957684   139.876803\n",
       "50%      66.985923   168.521567\n",
       "75%      69.604427   190.666305\n",
       "max      80.450000   269.989698"
      ]
     },
     "execution_count": 29,
     "metadata": {},
     "output_type": "execute_result"
    }
   ],
   "source": [
    "df.describe()"
   ]
  },
  {
   "cell_type": "code",
   "execution_count": 30,
   "id": "844340c3",
   "metadata": {},
   "outputs": [
    {
     "data": {
      "text/plain": [
       "Gender    False\n",
       "Height    False\n",
       "Weight    False\n",
       "dtype: bool"
      ]
     },
     "execution_count": 30,
     "metadata": {},
     "output_type": "execute_result"
    }
   ],
   "source": [
    "#missing valu  Detection\n",
    "df.isnull().any()"
   ]
  },
  {
   "cell_type": "code",
   "execution_count": 31,
   "id": "09ab0596",
   "metadata": {},
   "outputs": [
    {
     "data": {
      "text/plain": [
       "Text(0, 0.5, 'Weight')"
      ]
     },
     "execution_count": 31,
     "metadata": {},
     "output_type": "execute_result"
    },
    {
     "data": {
      "image/png": "[encoded data removed]",
      "text/plain": [
       "<Figure size 432x288 with 1 Axes>"
      ]
     },
     "metadata": {
      "needs_background": "light"
     },
     "output_type": "display_data"
    }
   ],
   "source": [
    "#Data Visualization\n",
    "import matplotlib.pyplot as plt\n",
    "plt.scatter(df['Height'],df['Weight'],color='yellow')\n",
    "plt.xlabel('Hight')\n",
    "plt.ylabel('Weight')"
   ]
  },
  {
   "cell_type": "code",
   "execution_count": 32,
   "id": "596545ad",
   "metadata": {},
   "outputs": [
    {
     "data": {
      "text/plain": [
       "0       False\n",
       "1       False\n",
       "2       False\n",
       "3       False\n",
       "4       False\n",
       "        ...  \n",
       "8550    False\n",
       "8551    False\n",
       "8552    False\n",
       "8553    False\n",
       "8554    False\n",
       "Length: 8555, dtype: bool"
      ]
     },
     "execution_count": 32,
     "metadata": {},
     "output_type": "execute_result"
    }
   ],
   "source": [
    "df.duplicated() # To Find out the Duplicates"
   ]
  },
  {
   "cell_type": "code",
   "execution_count": 33,
   "id": "624d50cf",
   "metadata": {},
   "outputs": [],
   "source": [
    "#Encoding\n",
    "\n",
    "from sklearn.preprocessing import LabelEncoder"
   ]
  },
  {
   "cell_type": "code",
   "execution_count": 34,
   "id": "d9388af2",
   "metadata": {},
   "outputs": [],
   "source": [
    "le=LabelEncoder()"
   ]
  },
  {
   "cell_type": "code",
   "execution_count": 35,
   "id": "db10c748",
   "metadata": {},
   "outputs": [],
   "source": [
    "df.Gender = le.fit_transform(df['Gender'])"
   ]
  },
  {
   "cell_type": "code",
   "execution_count": 36,
   "id": "27891453",
   "metadata": {},
   "outputs": [
    {
     "data": {
      "text/html": [
       "<div>\n",
       "<style scoped>\n",
       "    .dataframe tbody tr th:only-of-type {\n",
       "        vertical-align: middle;\n",
       "    }\n",
       "\n",
       "    .dataframe tbody tr th {\n",
       "        vertical-align: top;\n",
       "    }\n",
       "\n",
       "    .dataframe thead th {\n",
       "        text-align: right;\n",
       "    }\n",
       "</style>\n",
       "<table border=\"1\" class=\"dataframe\">\n",
       "  <thead>\n",
       "    <tr style=\"text-align: right;\">\n",
       "      <th></th>\n",
       "      <th>Gender</th>\n",
       "      <th>Height</th>\n",
       "      <th>Weight</th>\n",
       "    </tr>\n",
       "  </thead>\n",
       "  <tbody>\n",
       "    <tr>\n",
       "      <th>0</th>\n",
       "      <td>1</td>\n",
       "      <td>73.847017</td>\n",
       "      <td>241.893563</td>\n",
       "    </tr>\n",
       "    <tr>\n",
       "      <th>1</th>\n",
       "      <td>1</td>\n",
       "      <td>68.781904</td>\n",
       "      <td>162.310473</td>\n",
       "    </tr>\n",
       "    <tr>\n",
       "      <th>2</th>\n",
       "      <td>1</td>\n",
       "      <td>74.110105</td>\n",
       "      <td>212.740856</td>\n",
       "    </tr>\n",
       "    <tr>\n",
       "      <th>3</th>\n",
       "      <td>1</td>\n",
       "      <td>71.730978</td>\n",
       "      <td>220.042470</td>\n",
       "    </tr>\n",
       "    <tr>\n",
       "      <th>4</th>\n",
       "      <td>1</td>\n",
       "      <td>69.881796</td>\n",
       "      <td>206.349801</td>\n",
       "    </tr>\n",
       "    <tr>\n",
       "      <th>...</th>\n",
       "      <td>...</td>\n",
       "      <td>...</td>\n",
       "      <td>...</td>\n",
       "    </tr>\n",
       "    <tr>\n",
       "      <th>8550</th>\n",
       "      <td>0</td>\n",
       "      <td>60.483946</td>\n",
       "      <td>110.565497</td>\n",
       "    </tr>\n",
       "    <tr>\n",
       "      <th>8551</th>\n",
       "      <td>0</td>\n",
       "      <td>63.423372</td>\n",
       "      <td>129.921671</td>\n",
       "    </tr>\n",
       "    <tr>\n",
       "      <th>8552</th>\n",
       "      <td>0</td>\n",
       "      <td>65.584057</td>\n",
       "      <td>155.942671</td>\n",
       "    </tr>\n",
       "    <tr>\n",
       "      <th>8553</th>\n",
       "      <td>0</td>\n",
       "      <td>67.429971</td>\n",
       "      <td>151.678405</td>\n",
       "    </tr>\n",
       "    <tr>\n",
       "      <th>8554</th>\n",
       "      <td>0</td>\n",
       "      <td>60.921791</td>\n",
       "      <td>131.253738</td>\n",
       "    </tr>\n",
       "  </tbody>\n",
       "</table>\n",
       "<p>8555 rows × 3 columns</p>\n",
       "</div>"
      ],
      "text/plain": [
       "      Gender     Height      Weight\n",
       "0          1  73.847017  241.893563\n",
       "1          1  68.781904  162.310473\n",
       "2          1  74.110105  212.740856\n",
       "3          1  71.730978  220.042470\n",
       "4          1  69.881796  206.349801\n",
       "...      ...        ...         ...\n",
       "8550       0  60.483946  110.565497\n",
       "8551       0  63.423372  129.921671\n",
       "8552       0  65.584057  155.942671\n",
       "8553       0  67.429971  151.678405\n",
       "8554       0  60.921791  131.253738\n",
       "\n",
       "[8555 rows x 3 columns]"
      ]
     },
     "execution_count": 36,
     "metadata": {},
     "output_type": "execute_result"
    }
   ],
   "source": [
    "df"
   ]
  },
  {
   "cell_type": "code",
   "execution_count": 147,
   "id": "e03f140e",
   "metadata": {},
   "outputs": [],
   "source": [
    "x=df.drop('Weight',axis=1).values\n",
    "y=df['Weight'].values\n"
   ]
  },
  {
   "cell_type": "code",
   "execution_count": 148,
   "id": "876c9a70",
   "metadata": {},
   "outputs": [
    {
     "data": {
      "text/html": [
       "<div>\n",
       "<style scoped>\n",
       "    .dataframe tbody tr th:only-of-type {\n",
       "        vertical-align: middle;\n",
       "    }\n",
       "\n",
       "    .dataframe tbody tr th {\n",
       "        vertical-align: top;\n",
       "    }\n",
       "\n",
       "    .dataframe thead th {\n",
       "        text-align: right;\n",
       "    }\n",
       "</style>\n",
       "<table border=\"1\" class=\"dataframe\">\n",
       "  <thead>\n",
       "    <tr style=\"text-align: right;\">\n",
       "      <th></th>\n",
       "      <th>Gender</th>\n",
       "      <th>Height</th>\n",
       "      <th>Weight</th>\n",
       "    </tr>\n",
       "  </thead>\n",
       "  <tbody>\n",
       "    <tr>\n",
       "      <th>0</th>\n",
       "      <td>1</td>\n",
       "      <td>73.847017</td>\n",
       "      <td>241.893563</td>\n",
       "    </tr>\n",
       "    <tr>\n",
       "      <th>1</th>\n",
       "      <td>1</td>\n",
       "      <td>68.781904</td>\n",
       "      <td>162.310473</td>\n",
       "    </tr>\n",
       "    <tr>\n",
       "      <th>2</th>\n",
       "      <td>1</td>\n",
       "      <td>74.110105</td>\n",
       "      <td>212.740856</td>\n",
       "    </tr>\n",
       "    <tr>\n",
       "      <th>3</th>\n",
       "      <td>1</td>\n",
       "      <td>71.730978</td>\n",
       "      <td>220.042470</td>\n",
       "    </tr>\n",
       "    <tr>\n",
       "      <th>4</th>\n",
       "      <td>1</td>\n",
       "      <td>69.881796</td>\n",
       "      <td>206.349801</td>\n",
       "    </tr>\n",
       "    <tr>\n",
       "      <th>...</th>\n",
       "      <td>...</td>\n",
       "      <td>...</td>\n",
       "      <td>...</td>\n",
       "    </tr>\n",
       "    <tr>\n",
       "      <th>8550</th>\n",
       "      <td>0</td>\n",
       "      <td>60.483946</td>\n",
       "      <td>110.565497</td>\n",
       "    </tr>\n",
       "    <tr>\n",
       "      <th>8551</th>\n",
       "      <td>0</td>\n",
       "      <td>63.423372</td>\n",
       "      <td>129.921671</td>\n",
       "    </tr>\n",
       "    <tr>\n",
       "      <th>8552</th>\n",
       "      <td>0</td>\n",
       "      <td>65.584057</td>\n",
       "      <td>155.942671</td>\n",
       "    </tr>\n",
       "    <tr>\n",
       "      <th>8553</th>\n",
       "      <td>0</td>\n",
       "      <td>67.429971</td>\n",
       "      <td>151.678405</td>\n",
       "    </tr>\n",
       "    <tr>\n",
       "      <th>8554</th>\n",
       "      <td>0</td>\n",
       "      <td>60.921791</td>\n",
       "      <td>131.253738</td>\n",
       "    </tr>\n",
       "  </tbody>\n",
       "</table>\n",
       "<p>8555 rows × 3 columns</p>\n",
       "</div>"
      ],
      "text/plain": [
       "      Gender     Height      Weight\n",
       "0          1  73.847017  241.893563\n",
       "1          1  68.781904  162.310473\n",
       "2          1  74.110105  212.740856\n",
       "3          1  71.730978  220.042470\n",
       "4          1  69.881796  206.349801\n",
       "...      ...        ...         ...\n",
       "8550       0  60.483946  110.565497\n",
       "8551       0  63.423372  129.921671\n",
       "8552       0  65.584057  155.942671\n",
       "8553       0  67.429971  151.678405\n",
       "8554       0  60.921791  131.253738\n",
       "\n",
       "[8555 rows x 3 columns]"
      ]
     },
     "execution_count": 148,
     "metadata": {},
     "output_type": "execute_result"
    }
   ],
   "source": [
    "\n",
    "df"
   ]
  },
  {
   "cell_type": "code",
   "execution_count": 149,
   "id": "fc4f30c4",
   "metadata": {},
   "outputs": [
    {
     "name": "stdout",
     "output_type": "stream",
     "text": [
      "[[ 1.         73.84701702]\n",
      " [ 1.         68.78190405]\n",
      " [ 1.         74.11010539]\n",
      " ...\n",
      " [ 0.         65.58405676]\n",
      " [ 0.         67.42997138]\n",
      " [ 0.         60.92179087]]\n"
     ]
    },
    {
     "data": {
      "text/plain": [
       "(8555, 2)"
      ]
     },
     "execution_count": 149,
     "metadata": {},
     "output_type": "execute_result"
    }
   ],
   "source": [
    "print(x)\n",
    "x.shape"
   ]
  },
  {
   "cell_type": "code",
   "execution_count": 150,
   "id": "9989197e",
   "metadata": {},
   "outputs": [
    {
     "name": "stdout",
     "output_type": "stream",
     "text": [
      "[241.8935632 162.3104725 212.7408556 ... 155.9426708 151.6784055\n",
      " 131.2537378]\n"
     ]
    },
    {
     "data": {
      "text/plain": [
       "(8555,)"
      ]
     },
     "execution_count": 150,
     "metadata": {},
     "output_type": "execute_result"
    }
   ],
   "source": [
    "print(y)\n",
    "y.shape"
   ]
  },
  {
   "cell_type": "markdown",
   "id": "7ee32888",
   "metadata": {},
   "source": [
    "# separate Training and Testing Data"
   ]
  },
  {
   "cell_type": "code",
   "execution_count": 151,
   "id": "b8eaf939",
   "metadata": {},
   "outputs": [],
   "source": [
    "from sklearn.model_selection import train_test_split"
   ]
  },
  {
   "cell_type": "code",
   "execution_count": 152,
   "id": "bd8a61a7",
   "metadata": {},
   "outputs": [],
   "source": [
    "xtrain,xtest,ytrain,ytest=train_test_split(x,y,train_size=0.7,random_state=1)"
   ]
  },
  {
   "cell_type": "code",
   "execution_count": 153,
   "id": "633738cf",
   "metadata": {},
   "outputs": [
    {
     "name": "stdout",
     "output_type": "stream",
     "text": [
      "[[ 0.         65.06803769]\n",
      " [ 1.         70.82464272]\n",
      " [ 1.         68.66359393]\n",
      " ...\n",
      " [ 0.         67.89565929]\n",
      " [ 1.         69.03106285]\n",
      " [ 1.         71.47610128]]\n"
     ]
    },
    {
     "data": {
      "text/plain": [
       "(2567, 2)"
      ]
     },
     "execution_count": 153,
     "metadata": {},
     "output_type": "execute_result"
    }
   ],
   "source": [
    "print(xtest)\n",
    "xtest.shape"
   ]
  },
  {
   "cell_type": "code",
   "execution_count": 154,
   "id": "22f3056a",
   "metadata": {},
   "outputs": [
    {
     "data": {
      "text/plain": [
       "(2567, 2)"
      ]
     },
     "execution_count": 154,
     "metadata": {},
     "output_type": "execute_result"
    }
   ],
   "source": [
    "xtest.shape"
   ]
  },
  {
   "cell_type": "code",
   "execution_count": 155,
   "id": "228dfabd",
   "metadata": {},
   "outputs": [
    {
     "data": {
      "text/plain": [
       "(2567,)"
      ]
     },
     "execution_count": 155,
     "metadata": {},
     "output_type": "execute_result"
    }
   ],
   "source": [
    "ytest.shape"
   ]
  },
  {
   "cell_type": "code",
   "execution_count": 156,
   "id": "2174b3fa",
   "metadata": {},
   "outputs": [
    {
     "ename": "ValueError",
     "evalue": "x and y must be the same size",
     "output_type": "error",
     "traceback": [
      "\u001b[1;31m---------------------------------------------------------------------------\u001b[0m",
      "\u001b[1;31mValueError\u001b[0m                                Traceback (most recent call last)",
      "\u001b[1;32m~\\AppData\\Local\\Temp/ipykernel_23732/382229771.py\u001b[0m in \u001b[0;36m<module>\u001b[1;34m\u001b[0m\n\u001b[1;32m----> 1\u001b[1;33m \u001b[0mplt\u001b[0m\u001b[1;33m.\u001b[0m\u001b[0mscatter\u001b[0m\u001b[1;33m(\u001b[0m\u001b[0mxtest\u001b[0m\u001b[1;33m,\u001b[0m\u001b[0mytest\u001b[0m\u001b[1;33m,\u001b[0m \u001b[0mcolor\u001b[0m\u001b[1;33m=\u001b[0m\u001b[1;34m\"black\"\u001b[0m\u001b[1;33m)\u001b[0m\u001b[1;33m\u001b[0m\u001b[1;33m\u001b[0m\u001b[0m\n\u001b[0m\u001b[0;32m      2\u001b[0m \u001b[0mplt\u001b[0m\u001b[1;33m.\u001b[0m\u001b[0mplot\u001b[0m\u001b[1;33m(\u001b[0m\u001b[0mxtest\u001b[0m\u001b[1;33m,\u001b[0m\u001b[0my_pred\u001b[0m\u001b[1;33m,\u001b[0m \u001b[0mcolor\u001b[0m\u001b[1;33m=\u001b[0m\u001b[1;34m\"blue\"\u001b[0m\u001b[1;33m,\u001b[0m \u001b[0mlinewidth\u001b[0m\u001b[1;33m=\u001b[0m\u001b[1;36m2\u001b[0m\u001b[1;33m)\u001b[0m\u001b[1;33m\u001b[0m\u001b[1;33m\u001b[0m\u001b[0m\n\u001b[0;32m      3\u001b[0m \u001b[0mplt\u001b[0m\u001b[1;33m.\u001b[0m\u001b[0mxticks\u001b[0m\u001b[1;33m(\u001b[0m\u001b[1;33m(\u001b[0m\u001b[1;33m)\u001b[0m\u001b[1;33m)\u001b[0m\u001b[1;33m\u001b[0m\u001b[1;33m\u001b[0m\u001b[0m\n\u001b[0;32m      4\u001b[0m \u001b[0mplt\u001b[0m\u001b[1;33m.\u001b[0m\u001b[0myticks\u001b[0m\u001b[1;33m(\u001b[0m\u001b[1;33m(\u001b[0m\u001b[1;33m)\u001b[0m\u001b[1;33m)\u001b[0m\u001b[1;33m\u001b[0m\u001b[1;33m\u001b[0m\u001b[0m\n\u001b[0;32m      5\u001b[0m \u001b[1;33m\u001b[0m\u001b[0m\n",
      "\u001b[1;32m~\\Anaconda3\\envs\\DL\\lib\\site-packages\\matplotlib\\pyplot.py\u001b[0m in \u001b[0;36mscatter\u001b[1;34m(x, y, s, c, marker, cmap, norm, vmin, vmax, alpha, linewidths, edgecolors, plotnonfinite, data, **kwargs)\u001b[0m\n\u001b[0;32m   2809\u001b[0m         \u001b[0mvmin\u001b[0m\u001b[1;33m=\u001b[0m\u001b[0mvmin\u001b[0m\u001b[1;33m,\u001b[0m \u001b[0mvmax\u001b[0m\u001b[1;33m=\u001b[0m\u001b[0mvmax\u001b[0m\u001b[1;33m,\u001b[0m \u001b[0malpha\u001b[0m\u001b[1;33m=\u001b[0m\u001b[0malpha\u001b[0m\u001b[1;33m,\u001b[0m \u001b[0mlinewidths\u001b[0m\u001b[1;33m=\u001b[0m\u001b[0mlinewidths\u001b[0m\u001b[1;33m,\u001b[0m\u001b[1;33m\u001b[0m\u001b[1;33m\u001b[0m\u001b[0m\n\u001b[0;32m   2810\u001b[0m         \u001b[0medgecolors\u001b[0m\u001b[1;33m=\u001b[0m\u001b[0medgecolors\u001b[0m\u001b[1;33m,\u001b[0m \u001b[0mplotnonfinite\u001b[0m\u001b[1;33m=\u001b[0m\u001b[0mplotnonfinite\u001b[0m\u001b[1;33m,\u001b[0m\u001b[1;33m\u001b[0m\u001b[1;33m\u001b[0m\u001b[0m\n\u001b[1;32m-> 2811\u001b[1;33m         **({\"data\": data} if data is not None else {}), **kwargs)\n\u001b[0m\u001b[0;32m   2812\u001b[0m     \u001b[0msci\u001b[0m\u001b[1;33m(\u001b[0m\u001b[0m__ret\u001b[0m\u001b[1;33m)\u001b[0m\u001b[1;33m\u001b[0m\u001b[1;33m\u001b[0m\u001b[0m\n\u001b[0;32m   2813\u001b[0m     \u001b[1;32mreturn\u001b[0m \u001b[0m__ret\u001b[0m\u001b[1;33m\u001b[0m\u001b[1;33m\u001b[0m\u001b[0m\n",
      "\u001b[1;32m~\\Anaconda3\\envs\\DL\\lib\\site-packages\\matplotlib\\__init__.py\u001b[0m in \u001b[0;36minner\u001b[1;34m(ax, data, *args, **kwargs)\u001b[0m\n\u001b[0;32m   1410\u001b[0m     \u001b[1;32mdef\u001b[0m \u001b[0minner\u001b[0m\u001b[1;33m(\u001b[0m\u001b[0max\u001b[0m\u001b[1;33m,\u001b[0m \u001b[1;33m*\u001b[0m\u001b[0margs\u001b[0m\u001b[1;33m,\u001b[0m \u001b[0mdata\u001b[0m\u001b[1;33m=\u001b[0m\u001b[1;32mNone\u001b[0m\u001b[1;33m,\u001b[0m \u001b[1;33m**\u001b[0m\u001b[0mkwargs\u001b[0m\u001b[1;33m)\u001b[0m\u001b[1;33m:\u001b[0m\u001b[1;33m\u001b[0m\u001b[1;33m\u001b[0m\u001b[0m\n\u001b[0;32m   1411\u001b[0m         \u001b[1;32mif\u001b[0m \u001b[0mdata\u001b[0m \u001b[1;32mis\u001b[0m \u001b[1;32mNone\u001b[0m\u001b[1;33m:\u001b[0m\u001b[1;33m\u001b[0m\u001b[1;33m\u001b[0m\u001b[0m\n\u001b[1;32m-> 1412\u001b[1;33m             \u001b[1;32mreturn\u001b[0m \u001b[0mfunc\u001b[0m\u001b[1;33m(\u001b[0m\u001b[0max\u001b[0m\u001b[1;33m,\u001b[0m \u001b[1;33m*\u001b[0m\u001b[0mmap\u001b[0m\u001b[1;33m(\u001b[0m\u001b[0msanitize_sequence\u001b[0m\u001b[1;33m,\u001b[0m \u001b[0margs\u001b[0m\u001b[1;33m)\u001b[0m\u001b[1;33m,\u001b[0m \u001b[1;33m**\u001b[0m\u001b[0mkwargs\u001b[0m\u001b[1;33m)\u001b[0m\u001b[1;33m\u001b[0m\u001b[1;33m\u001b[0m\u001b[0m\n\u001b[0m\u001b[0;32m   1413\u001b[0m \u001b[1;33m\u001b[0m\u001b[0m\n\u001b[0;32m   1414\u001b[0m         \u001b[0mbound\u001b[0m \u001b[1;33m=\u001b[0m \u001b[0mnew_sig\u001b[0m\u001b[1;33m.\u001b[0m\u001b[0mbind\u001b[0m\u001b[1;33m(\u001b[0m\u001b[0max\u001b[0m\u001b[1;33m,\u001b[0m \u001b[1;33m*\u001b[0m\u001b[0margs\u001b[0m\u001b[1;33m,\u001b[0m \u001b[1;33m**\u001b[0m\u001b[0mkwargs\u001b[0m\u001b[1;33m)\u001b[0m\u001b[1;33m\u001b[0m\u001b[1;33m\u001b[0m\u001b[0m\n",
      "\u001b[1;32m~\\Anaconda3\\envs\\DL\\lib\\site-packages\\matplotlib\\axes\\_axes.py\u001b[0m in \u001b[0;36mscatter\u001b[1;34m(self, x, y, s, c, marker, cmap, norm, vmin, vmax, alpha, linewidths, edgecolors, plotnonfinite, **kwargs)\u001b[0m\n\u001b[0;32m   4321\u001b[0m         \u001b[0my\u001b[0m \u001b[1;33m=\u001b[0m \u001b[0mnp\u001b[0m\u001b[1;33m.\u001b[0m\u001b[0mma\u001b[0m\u001b[1;33m.\u001b[0m\u001b[0mravel\u001b[0m\u001b[1;33m(\u001b[0m\u001b[0my\u001b[0m\u001b[1;33m)\u001b[0m\u001b[1;33m\u001b[0m\u001b[1;33m\u001b[0m\u001b[0m\n\u001b[0;32m   4322\u001b[0m         \u001b[1;32mif\u001b[0m \u001b[0mx\u001b[0m\u001b[1;33m.\u001b[0m\u001b[0msize\u001b[0m \u001b[1;33m!=\u001b[0m \u001b[0my\u001b[0m\u001b[1;33m.\u001b[0m\u001b[0msize\u001b[0m\u001b[1;33m:\u001b[0m\u001b[1;33m\u001b[0m\u001b[1;33m\u001b[0m\u001b[0m\n\u001b[1;32m-> 4323\u001b[1;33m             \u001b[1;32mraise\u001b[0m \u001b[0mValueError\u001b[0m\u001b[1;33m(\u001b[0m\u001b[1;34m\"x and y must be the same size\"\u001b[0m\u001b[1;33m)\u001b[0m\u001b[1;33m\u001b[0m\u001b[1;33m\u001b[0m\u001b[0m\n\u001b[0m\u001b[0;32m   4324\u001b[0m \u001b[1;33m\u001b[0m\u001b[0m\n\u001b[0;32m   4325\u001b[0m         \u001b[1;32mif\u001b[0m \u001b[0ms\u001b[0m \u001b[1;32mis\u001b[0m \u001b[1;32mNone\u001b[0m\u001b[1;33m:\u001b[0m\u001b[1;33m\u001b[0m\u001b[1;33m\u001b[0m\u001b[0m\n",
      "\u001b[1;31mValueError\u001b[0m: x and y must be the same size"
     ]
    },
    {
     "data": {
      "image/png": "[encoded data removed]",
      "text/plain": [
       "<Figure size 432x288 with 1 Axes>"
      ]
     },
     "metadata": {
      "needs_background": "light"
     },
     "output_type": "display_data"
    }
   ],
   "source": [
    "plt.scatter(xtest,ytest, color=\"black\")\n",
    "plt.plot(xtest,y_pred, color=\"blue\", linewidth=2)\n",
    "plt.xticks(())\n",
    "plt.yticks(())\n",
    "\n",
    "plt.show()"
   ]
  },
  {
   "cell_type": "markdown",
   "id": "8aeca3ad",
   "metadata": {},
   "source": [
    "# Linear Regression"
   ]
  },
  {
   "cell_type": "code",
   "execution_count": 157,
   "id": "a6ebb1c4",
   "metadata": {},
   "outputs": [],
   "source": [
    "from sklearn.linear_model import LinearRegression"
   ]
  },
  {
   "cell_type": "code",
   "execution_count": 158,
   "id": "285b67f8",
   "metadata": {},
   "outputs": [],
   "source": [
    "reg=LinearRegression()"
   ]
  },
  {
   "cell_type": "code",
   "execution_count": 159,
   "id": "893a2623",
   "metadata": {},
   "outputs": [
    {
     "data": {
      "text/plain": [
       "LinearRegression()"
      ]
     },
     "execution_count": 159,
     "metadata": {},
     "output_type": "execute_result"
    }
   ],
   "source": [
    "reg.fit(xtrain,ytrain)  ##To Fit the Model"
   ]
  },
  {
   "cell_type": "markdown",
   "id": "977d5dac",
   "metadata": {},
   "source": [
    "# Evaluate the ML model"
   ]
  },
  {
   "cell_type": "code",
   "execution_count": 160,
   "id": "739ec542",
   "metadata": {},
   "outputs": [
    {
     "name": "stdout",
     "output_type": "stream",
     "text": [
      "Coefficients is 2\n"
     ]
    }
   ],
   "source": [
    "# The coefficients\n",
    "print('Coefficients is %d' %len(reg.coef_))"
   ]
  },
  {
   "cell_type": "code",
   "execution_count": 161,
   "id": "2f0c46b2",
   "metadata": {},
   "outputs": [
    {
     "name": "stdout",
     "output_type": "stream",
     "text": [
      "the estimated intercept is -244.55\n"
     ]
    }
   ],
   "source": [
    "print('the estimated intercept is %.2f' %reg.intercept_)"
   ]
  },
  {
   "cell_type": "code",
   "execution_count": 162,
   "id": "05da47cd",
   "metadata": {},
   "outputs": [
    {
     "name": "stdout",
     "output_type": "stream",
     "text": [
      "[143.83013436 197.53417989 184.63515112 ... 160.7078525  186.82852694\n",
      " 201.4226542 ]\n"
     ]
    },
    {
     "data": {
      "text/plain": [
       "(2567,)"
      ]
     },
     "execution_count": 162,
     "metadata": {},
     "output_type": "execute_result"
    }
   ],
   "source": [
    "y_pred=reg.predict(xtest)\n",
    "print(y_pred)\n",
    "y_pred.shape"
   ]
  },
  {
   "cell_type": "code",
   "execution_count": 232,
   "id": "418158a1",
   "metadata": {},
   "outputs": [
    {
     "data": {
      "text/plain": [
       "-17459412.351250734"
      ]
     },
     "execution_count": 232,
     "metadata": {},
     "output_type": "execute_result"
    }
   ],
   "source": [
    "reg.score(xtest,ytest) ## Model Accurecy"
   ]
  },
  {
   "cell_type": "code",
   "execution_count": 233,
   "id": "8fe0bac0",
   "metadata": {},
   "outputs": [
    {
     "data": {
      "text/html": [
       "<div>\n",
       "<style scoped>\n",
       "    .dataframe tbody tr th:only-of-type {\n",
       "        vertical-align: middle;\n",
       "    }\n",
       "\n",
       "    .dataframe tbody tr th {\n",
       "        vertical-align: top;\n",
       "    }\n",
       "\n",
       "    .dataframe thead th {\n",
       "        text-align: right;\n",
       "    }\n",
       "</style>\n",
       "<table border=\"1\" class=\"dataframe\">\n",
       "  <thead>\n",
       "    <tr style=\"text-align: right;\">\n",
       "      <th></th>\n",
       "      <th>Actual Value</th>\n",
       "      <th>Predicted value</th>\n",
       "      <th>Diference</th>\n",
       "    </tr>\n",
       "  </thead>\n",
       "  <tbody>\n",
       "    <tr>\n",
       "      <th>0</th>\n",
       "      <td>0</td>\n",
       "      <td>143.830134</td>\n",
       "      <td>-143.830134</td>\n",
       "    </tr>\n",
       "    <tr>\n",
       "      <th>1</th>\n",
       "      <td>1</td>\n",
       "      <td>197.534180</td>\n",
       "      <td>-196.534180</td>\n",
       "    </tr>\n",
       "    <tr>\n",
       "      <th>2</th>\n",
       "      <td>1</td>\n",
       "      <td>184.635151</td>\n",
       "      <td>-183.635151</td>\n",
       "    </tr>\n",
       "    <tr>\n",
       "      <th>3</th>\n",
       "      <td>0</td>\n",
       "      <td>149.318948</td>\n",
       "      <td>-149.318948</td>\n",
       "    </tr>\n",
       "    <tr>\n",
       "      <th>4</th>\n",
       "      <td>1</td>\n",
       "      <td>197.992697</td>\n",
       "      <td>-196.992697</td>\n",
       "    </tr>\n",
       "    <tr>\n",
       "      <th>5</th>\n",
       "      <td>0</td>\n",
       "      <td>136.189139</td>\n",
       "      <td>-136.189139</td>\n",
       "    </tr>\n",
       "    <tr>\n",
       "      <th>6</th>\n",
       "      <td>1</td>\n",
       "      <td>184.452279</td>\n",
       "      <td>-183.452279</td>\n",
       "    </tr>\n",
       "    <tr>\n",
       "      <th>7</th>\n",
       "      <td>1</td>\n",
       "      <td>160.304003</td>\n",
       "      <td>-159.304003</td>\n",
       "    </tr>\n",
       "    <tr>\n",
       "      <th>8</th>\n",
       "      <td>0</td>\n",
       "      <td>122.688290</td>\n",
       "      <td>-122.688290</td>\n",
       "    </tr>\n",
       "    <tr>\n",
       "      <th>9</th>\n",
       "      <td>0</td>\n",
       "      <td>116.697920</td>\n",
       "      <td>-116.697920</td>\n",
       "    </tr>\n",
       "  </tbody>\n",
       "</table>\n",
       "</div>"
      ],
      "text/plain": [
       "   Actual Value  Predicted value   Diference\n",
       "0             0       143.830134 -143.830134\n",
       "1             1       197.534180 -196.534180\n",
       "2             1       184.635151 -183.635151\n",
       "3             0       149.318948 -149.318948\n",
       "4             1       197.992697 -196.992697\n",
       "5             0       136.189139 -136.189139\n",
       "6             1       184.452279 -183.452279\n",
       "7             1       160.304003 -159.304003\n",
       "8             0       122.688290 -122.688290\n",
       "9             0       116.697920 -116.697920"
      ]
     },
     "execution_count": 233,
     "metadata": {},
     "output_type": "execute_result"
    }
   ],
   "source": [
    "pred_y_df=pd.DataFrame({'Actual Value':ytest,'Predicted value':y_pred,'Diference':ytest-y_pred})\n",
    "pred_y_df[0:10]"
   ]
  },
  {
   "cell_type": "code",
   "execution_count": 166,
   "id": "e54a934f",
   "metadata": {},
   "outputs": [
    {
     "data": {
      "text/plain": [
       "Text(0.5, 1.0, 'Actual vs. Predicted')"
      ]
     },
     "execution_count": 166,
     "metadata": {},
     "output_type": "execute_result"
    },
    {
     "data": {
      "image/png": "[encoded data removed]",
      "text/plain": [
       "<Figure size 432x288 with 1 Axes>"
      ]
     },
     "metadata": {
      "needs_background": "light"
     },
     "output_type": "display_data"
    }
   ],
   "source": [
    "import matplotlib.pyplot as plt\n",
    "plt.scatter (ytest,y_pred,color='red')\n",
    "plt.xlabel(\"Actual\")\n",
    "plt.ylabel('Predicted')\n",
    "plt.title('Actual vs. Predicted')"
   ]
  },
  {
   "cell_type": "code",
   "execution_count": 167,
   "id": "bf26fc75",
   "metadata": {},
   "outputs": [],
   "source": [
    "## MSE(mean_squared_error)\n",
    "from sklearn.metrics import mean_squared_error,r2_score"
   ]
  },
  {
   "cell_type": "code",
   "execution_count": 168,
   "id": "89b37f0a",
   "metadata": {},
   "outputs": [],
   "source": [
    "MSE=mean_squared_error"
   ]
  },
  {
   "cell_type": "code",
   "execution_count": 169,
   "id": "9378acdd",
   "metadata": {},
   "outputs": [
    {
     "name": "stdout",
     "output_type": "stream",
     "text": [
      "Mean squared error: 99.67\n"
     ]
    }
   ],
   "source": [
    "print(\"Mean squared error: %.2f\" % MSE(ytest,y_pred))"
   ]
  },
  {
   "cell_type": "code",
   "execution_count": 172,
   "id": "e33f59a7",
   "metadata": {},
   "outputs": [
    {
     "data": {
      "text/plain": [
       "9.983612070823842"
      ]
     },
     "execution_count": 172,
     "metadata": {},
     "output_type": "execute_result"
    }
   ],
   "source": [
    "mean_squared_error(ytest, y_pred, squared=False)"
   ]
  },
  {
   "cell_type": "code",
   "execution_count": 173,
   "id": "268992f4",
   "metadata": {},
   "outputs": [
    {
     "name": "stdout",
     "output_type": "stream",
     "text": [
      "Coefficient of determination: 0.91\n"
     ]
    }
   ],
   "source": [
    "print(\"Coefficient of determination: %.2f\" % r2_score(ytest,y_pred))"
   ]
  },
  {
   "cell_type": "markdown",
   "id": "cc315d92",
   "metadata": {},
   "source": [
    "# Apply KNN REGRESSOR"
   ]
  },
  {
   "cell_type": "code",
   "execution_count": 174,
   "id": "56d9daf3",
   "metadata": {},
   "outputs": [],
   "source": [
    "from sklearn.neighbors import KNeighborsRegressor\n",
    " "
   ]
  },
  {
   "cell_type": "code",
   "execution_count": 175,
   "id": "6deff311",
   "metadata": {},
   "outputs": [],
   "source": [
    "KNN_reg=KNeighborsRegressor()"
   ]
  },
  {
   "cell_type": "code",
   "execution_count": 176,
   "id": "ccb58ae0",
   "metadata": {},
   "outputs": [
    {
     "data": {
      "text/plain": [
       "KNeighborsRegressor()"
      ]
     },
     "execution_count": 176,
     "metadata": {},
     "output_type": "execute_result"
    }
   ],
   "source": [
    "KNN_reg.fit(xtrain,ytrain)"
   ]
  },
  {
   "cell_type": "code",
   "execution_count": 177,
   "id": "3fc5e207",
   "metadata": {},
   "outputs": [
    {
     "data": {
      "text/plain": [
       "0.8838502073708883"
      ]
     },
     "execution_count": 177,
     "metadata": {},
     "output_type": "execute_result"
    }
   ],
   "source": [
    "KNN_reg.score(xtest,ytest)"
   ]
  },
  {
   "cell_type": "code",
   "execution_count": 178,
   "id": "254d110f",
   "metadata": {},
   "outputs": [
    {
     "data": {
      "text/plain": [
       "array([150.1761117 , 197.46276978, 179.03501546, ..., 160.26227546,\n",
       "       180.65461322, 200.56451578])"
      ]
     },
     "execution_count": 178,
     "metadata": {},
     "output_type": "execute_result"
    }
   ],
   "source": [
    "KNNpredict=KNN_reg.predict(xtest)\n",
    "KNNpredict"
   ]
  },
  {
   "cell_type": "code",
   "execution_count": 179,
   "id": "dc55c171",
   "metadata": {},
   "outputs": [
    {
     "name": "stdout",
     "output_type": "stream",
     "text": [
      "Mean squared error: 123.15\n"
     ]
    }
   ],
   "source": [
    "print(\"Mean squared error: %.2f\" % mean_squared_error(ytest,KNNpredict))"
   ]
  },
  {
   "cell_type": "code",
   "execution_count": 180,
   "id": "818ffe6f",
   "metadata": {},
   "outputs": [
    {
     "data": {
      "text/plain": [
       "11.097461810448813"
      ]
     },
     "execution_count": 180,
     "metadata": {},
     "output_type": "execute_result"
    }
   ],
   "source": [
    "RMSE=mean_squared_error(ytest,KNNpredict, squared=False)\n",
    "RMSE"
   ]
  },
  {
   "cell_type": "markdown",
   "id": "ccc93b6b",
   "metadata": {},
   "source": [
    "# #  FOR TUNING"
   ]
  },
  {
   "cell_type": "markdown",
   "id": "12aa5e99",
   "metadata": {},
   "source": [
    "# HYPER PARAMETER OPTIMIZATION"
   ]
  },
  {
   "cell_type": "markdown",
   "id": "9c14f409",
   "metadata": {},
   "source": [
    "## RANDOMIZED SEARCH CV"
   ]
  },
  {
   "cell_type": "code",
   "execution_count": 181,
   "id": "8da4ba4b",
   "metadata": {},
   "outputs": [],
   "source": [
    "from sklearn.model_selection import RandomizedSearchCV"
   ]
  },
  {
   "cell_type": "code",
   "execution_count": 182,
   "id": "99a78afc",
   "metadata": {},
   "outputs": [],
   "source": [
    "n_neighbors = [int(x) for x in np.linspace(start=40, stop=300, num=40)]"
   ]
  },
  {
   "cell_type": "code",
   "execution_count": 183,
   "id": "e2e8a797",
   "metadata": {},
   "outputs": [],
   "source": [
    "weights=['uniform','distance']"
   ]
  },
  {
   "cell_type": "code",
   "execution_count": 184,
   "id": "199f47be",
   "metadata": {},
   "outputs": [],
   "source": [
    "## Creat ids\n",
    "\n",
    "grids={'n_neighbors':n_neighbors,\n",
    "      'weights':weights\n",
    "      }"
   ]
  },
  {
   "cell_type": "code",
   "execution_count": 185,
   "id": "ad6b8853",
   "metadata": {},
   "outputs": [],
   "source": [
    "KNN_reg2=KNeighborsRegressor()"
   ]
  },
  {
   "cell_type": "code",
   "execution_count": 186,
   "id": "db5bb278",
   "metadata": {},
   "outputs": [],
   "source": [
    "RMSE=RandomizedSearchCV(KNN_reg2,grids,n_iter=300,cv=5)"
   ]
  },
  {
   "cell_type": "code",
   "execution_count": 187,
   "id": "c2cd8f27",
   "metadata": {},
   "outputs": [
    {
     "name": "stderr",
     "output_type": "stream",
     "text": [
      "C:\\Users\\fkari653\\Anaconda3\\envs\\DL\\lib\\site-packages\\sklearn\\model_selection\\_search.py:296: UserWarning: The total space of parameters 80 is smaller than n_iter=300. Running 80 iterations. For exhaustive searches, use GridSearchCV.\n",
      "  UserWarning,\n"
     ]
    },
    {
     "data": {
      "text/plain": [
       "RandomizedSearchCV(cv=5, estimator=KNeighborsRegressor(), n_iter=300,\n",
       "                   param_distributions={'n_neighbors': [40, 46, 53, 60, 66, 73,\n",
       "                                                        80, 86, 93, 100, 106,\n",
       "                                                        113, 120, 126, 133, 140,\n",
       "                                                        146, 153, 160, 166, 173,\n",
       "                                                        180, 186, 193, 200, 206,\n",
       "                                                        213, 220, 226, 233, ...],\n",
       "                                        'weights': ['uniform', 'distance']})"
      ]
     },
     "execution_count": 187,
     "metadata": {},
     "output_type": "execute_result"
    }
   ],
   "source": [
    "RMSE.fit(xtrain,ytrain)"
   ]
  },
  {
   "cell_type": "code",
   "execution_count": 188,
   "id": "e31074d3",
   "metadata": {},
   "outputs": [
    {
     "data": {
      "text/plain": [
       "{'mean_fit_time': array([0.00678215, 0.00471587, 0.0065805 , 0.00160522, 0.00537739,\n",
       "        0.00624819, 0.00312328, 0.00312381, 0.        , 0.00099659,\n",
       "        0.00531754, 0.00514207, 0.00577765, 0.00724511, 0.00312471,\n",
       "        0.00624895, 0.01231413, 0.00724607, 0.00611591, 0.00339103,\n",
       "        0.00240765, 0.00378971, 0.00710745, 0.00844851, 0.00624943,\n",
       "        0.00312462, 0.00312471, 0.00624909, 0.00312462, 0.00312471,\n",
       "        0.0074729 , 0.00665002, 0.00199456, 0.00571733, 0.00648923,\n",
       "        0.00259314, 0.0093739 , 0.00312462, 0.00624924, 0.003125  ,\n",
       "        0.00791216, 0.00312486, 0.00312476, 0.        , 0.00624938,\n",
       "        0.00624919, 0.00624933, 0.00624905, 0.00312371, 0.00625567,\n",
       "        0.00624743, 0.00725207, 0.00312901, 0.01249723, 0.00624957,\n",
       "        0.0079699 , 0.01388187, 0.00624876, 0.00624847, 0.        ,\n",
       "        0.00312419, 0.00624881, 0.00652003, 0.00512457, 0.00280561,\n",
       "        0.00533233, 0.00874629, 0.00724301, 0.00321774, 0.00542626,\n",
       "        0.00724611, 0.00220056, 0.00624905, 0.00624671, 0.01249857,\n",
       "        0.0093636 , 0.00312424, 0.00312424, 0.00623255, 0.00312338]),\n",
       " 'std_fit_time': array([0.00171591, 0.00684431, 0.00162004, 0.00232684, 0.00049342,\n",
       "        0.00765244, 0.00624657, 0.00624762, 0.        , 0.00199318,\n",
       "        0.0057144 , 0.00573534, 0.00655502, 0.00707674, 0.00624943,\n",
       "        0.00765337, 0.0061697 , 0.00707744, 0.00513058, 0.00306422,\n",
       "        0.00302037, 0.00317896, 0.00506855, 0.00654262, 0.00765395,\n",
       "        0.00624924, 0.00624943, 0.00765355, 0.00624924, 0.00624943,\n",
       "        0.00685574, 0.00622767, 0.00244283, 0.00581603, 0.00523348,\n",
       "        0.00319148, 0.00765376, 0.00624924, 0.00765372, 0.00625   ,\n",
       "        0.00760533, 0.00624971, 0.00624952, 0.        , 0.0076539 ,\n",
       "        0.00765366, 0.00765384, 0.00765349, 0.00624743, 0.00766161,\n",
       "        0.0076515 , 0.00708435, 0.00625801, 0.00624862, 0.00765413,\n",
       "        0.00699379, 0.00345167, 0.00765314, 0.00765279, 0.        ,\n",
       "        0.00624838, 0.0076532 , 0.00507638, 0.00570531, 0.00349003,\n",
       "        0.00571629, 0.00723211, 0.00707792, 0.00265179, 0.00077778,\n",
       "        0.0070775 , 0.0027124 , 0.00765349, 0.00765063, 0.00624928,\n",
       "        0.00764536, 0.00624847, 0.00624847, 0.00763328, 0.00624676]),\n",
       " 'mean_score_time': array([0.01635532, 0.01555586, 0.01516123, 0.01845789, 0.0145925 ,\n",
       "        0.01563745, 0.01560755, 0.01561313, 0.0218708 , 0.02522845,\n",
       "        0.02000327, 0.01883044, 0.02467742, 0.0171968 , 0.02499328,\n",
       "        0.02187338, 0.01766481, 0.01984043, 0.02919383, 0.03142304,\n",
       "        0.02964683, 0.03313079, 0.03290448, 0.03442383, 0.03124032,\n",
       "        0.03749199, 0.03436604, 0.03749127, 0.03749123, 0.04061513,\n",
       "        0.03552003, 0.04298558, 0.04361043, 0.04830618, 0.04496922,\n",
       "        0.0463737 , 0.03749022, 0.04373984, 0.04373879, 0.0512332 ,\n",
       "        0.05352879, 0.04686341, 0.04686327, 0.05311236, 0.04686365,\n",
       "        0.05311112, 0.0468637 , 0.04998813, 0.05393114, 0.0499826 ,\n",
       "        0.05311451, 0.05344372, 0.05310545, 0.05311399, 0.05000072,\n",
       "        0.05806351, 0.05149584, 0.06247663, 0.06248622, 0.07793536,\n",
       "        0.07498245, 0.06560988, 0.06851611, 0.06722393, 0.06841435,\n",
       "        0.07179093, 0.06574688, 0.06720662, 0.07447443, 0.07468357,\n",
       "        0.06711473, 0.07511444, 0.07185116, 0.07498455, 0.06248312,\n",
       "        0.07695532, 0.07498193, 0.08123937, 0.07631965, 0.08123193]),\n",
       " 'std_score_time': array([2.57026404e-03, 2.21185812e-03, 1.16398118e-03, 4.65856773e-03,\n",
       "        5.06207596e-03, 3.26086198e-05, 3.08002848e-05, 1.51146097e-05,\n",
       "        7.65048963e-03, 6.98777177e-03, 7.81689745e-03, 7.79092198e-03,\n",
       "        4.28604110e-03, 7.62245308e-03, 7.65705116e-03, 7.65744206e-03,\n",
       "        4.13461006e-03, 6.08623492e-03, 8.93725810e-03, 5.09546755e-03,\n",
       "        2.19785773e-03, 6.18808530e-03, 7.09554123e-03, 3.65391910e-03,\n",
       "        2.00951648e-06, 7.65555134e-03, 6.25031027e-03, 7.65146311e-03,\n",
       "        7.65578455e-03, 7.65486964e-03, 4.17717449e-03, 9.19093494e-03,\n",
       "        7.80455711e-03, 5.67730355e-03, 1.25541162e-02, 1.53382903e-03,\n",
       "        7.65358478e-03, 6.24945228e-03, 6.24922172e-03, 5.09216315e-03,\n",
       "        1.91381605e-02, 5.70931608e-06, 3.74977174e-06, 7.65504499e-03,\n",
       "        2.57050170e-06, 7.65099694e-03, 1.55685689e-06, 6.24806969e-03,\n",
       "        7.13961742e-03, 6.25680907e-03, 7.65264314e-03, 9.76817840e-03,\n",
       "        7.65875087e-03, 7.65303974e-03, 6.23981770e-03, 6.12781408e-03,\n",
       "        6.94043371e-03, 2.31391342e-05, 2.85465804e-06, 3.40540948e-04,\n",
       "        6.24849880e-03, 6.24912599e-03, 4.66293123e-03, 6.63728745e-03,\n",
       "        9.09686459e-03, 6.51001198e-03, 6.52109000e-03, 6.26288677e-03,\n",
       "        3.74721122e-03, 7.21006459e-04, 6.22139670e-03, 1.25662686e-02,\n",
       "        7.66186647e-03, 6.26732844e-03, 9.34406182e-07, 1.51599874e-03,\n",
       "        6.24871265e-03, 6.24139050e-03, 7.36338349e-03, 6.24818872e-03]),\n",
       " 'param_weights': masked_array(data=['uniform', 'distance', 'uniform', 'distance',\n",
       "                    'uniform', 'distance', 'uniform', 'distance',\n",
       "                    'uniform', 'distance', 'uniform', 'distance',\n",
       "                    'uniform', 'distance', 'uniform', 'distance',\n",
       "                    'uniform', 'distance', 'uniform', 'distance',\n",
       "                    'uniform', 'distance', 'uniform', 'distance',\n",
       "                    'uniform', 'distance', 'uniform', 'distance',\n",
       "                    'uniform', 'distance', 'uniform', 'distance',\n",
       "                    'uniform', 'distance', 'uniform', 'distance',\n",
       "                    'uniform', 'distance', 'uniform', 'distance',\n",
       "                    'uniform', 'distance', 'uniform', 'distance',\n",
       "                    'uniform', 'distance', 'uniform', 'distance',\n",
       "                    'uniform', 'distance', 'uniform', 'distance',\n",
       "                    'uniform', 'distance', 'uniform', 'distance',\n",
       "                    'uniform', 'distance', 'uniform', 'distance',\n",
       "                    'uniform', 'distance', 'uniform', 'distance',\n",
       "                    'uniform', 'distance', 'uniform', 'distance',\n",
       "                    'uniform', 'distance', 'uniform', 'distance',\n",
       "                    'uniform', 'distance', 'uniform', 'distance',\n",
       "                    'uniform', 'distance', 'uniform', 'distance'],\n",
       "              mask=[False, False, False, False, False, False, False, False,\n",
       "                    False, False, False, False, False, False, False, False,\n",
       "                    False, False, False, False, False, False, False, False,\n",
       "                    False, False, False, False, False, False, False, False,\n",
       "                    False, False, False, False, False, False, False, False,\n",
       "                    False, False, False, False, False, False, False, False,\n",
       "                    False, False, False, False, False, False, False, False,\n",
       "                    False, False, False, False, False, False, False, False,\n",
       "                    False, False, False, False, False, False, False, False,\n",
       "                    False, False, False, False, False, False, False, False],\n",
       "        fill_value='?',\n",
       "             dtype=object),\n",
       " 'param_n_neighbors': masked_array(data=[40, 40, 46, 46, 53, 53, 60, 60, 66, 66, 73, 73, 80, 80,\n",
       "                    86, 86, 93, 93, 100, 100, 106, 106, 113, 113, 120, 120,\n",
       "                    126, 126, 133, 133, 140, 140, 146, 146, 153, 153, 160,\n",
       "                    160, 166, 166, 173, 173, 180, 180, 186, 186, 193, 193,\n",
       "                    200, 200, 206, 206, 213, 213, 220, 220, 226, 226, 233,\n",
       "                    233, 240, 240, 246, 246, 253, 253, 260, 260, 266, 266,\n",
       "                    273, 273, 280, 280, 286, 286, 293, 293, 300, 300],\n",
       "              mask=[False, False, False, False, False, False, False, False,\n",
       "                    False, False, False, False, False, False, False, False,\n",
       "                    False, False, False, False, False, False, False, False,\n",
       "                    False, False, False, False, False, False, False, False,\n",
       "                    False, False, False, False, False, False, False, False,\n",
       "                    False, False, False, False, False, False, False, False,\n",
       "                    False, False, False, False, False, False, False, False,\n",
       "                    False, False, False, False, False, False, False, False,\n",
       "                    False, False, False, False, False, False, False, False,\n",
       "                    False, False, False, False, False, False, False, False],\n",
       "        fill_value='?',\n",
       "             dtype=object),\n",
       " 'params': [{'weights': 'uniform', 'n_neighbors': 40},\n",
       "  {'weights': 'distance', 'n_neighbors': 40},\n",
       "  {'weights': 'uniform', 'n_neighbors': 46},\n",
       "  {'weights': 'distance', 'n_neighbors': 46},\n",
       "  {'weights': 'uniform', 'n_neighbors': 53},\n",
       "  {'weights': 'distance', 'n_neighbors': 53},\n",
       "  {'weights': 'uniform', 'n_neighbors': 60},\n",
       "  {'weights': 'distance', 'n_neighbors': 60},\n",
       "  {'weights': 'uniform', 'n_neighbors': 66},\n",
       "  {'weights': 'distance', 'n_neighbors': 66},\n",
       "  {'weights': 'uniform', 'n_neighbors': 73},\n",
       "  {'weights': 'distance', 'n_neighbors': 73},\n",
       "  {'weights': 'uniform', 'n_neighbors': 80},\n",
       "  {'weights': 'distance', 'n_neighbors': 80},\n",
       "  {'weights': 'uniform', 'n_neighbors': 86},\n",
       "  {'weights': 'distance', 'n_neighbors': 86},\n",
       "  {'weights': 'uniform', 'n_neighbors': 93},\n",
       "  {'weights': 'distance', 'n_neighbors': 93},\n",
       "  {'weights': 'uniform', 'n_neighbors': 100},\n",
       "  {'weights': 'distance', 'n_neighbors': 100},\n",
       "  {'weights': 'uniform', 'n_neighbors': 106},\n",
       "  {'weights': 'distance', 'n_neighbors': 106},\n",
       "  {'weights': 'uniform', 'n_neighbors': 113},\n",
       "  {'weights': 'distance', 'n_neighbors': 113},\n",
       "  {'weights': 'uniform', 'n_neighbors': 120},\n",
       "  {'weights': 'distance', 'n_neighbors': 120},\n",
       "  {'weights': 'uniform', 'n_neighbors': 126},\n",
       "  {'weights': 'distance', 'n_neighbors': 126},\n",
       "  {'weights': 'uniform', 'n_neighbors': 133},\n",
       "  {'weights': 'distance', 'n_neighbors': 133},\n",
       "  {'weights': 'uniform', 'n_neighbors': 140},\n",
       "  {'weights': 'distance', 'n_neighbors': 140},\n",
       "  {'weights': 'uniform', 'n_neighbors': 146},\n",
       "  {'weights': 'distance', 'n_neighbors': 146},\n",
       "  {'weights': 'uniform', 'n_neighbors': 153},\n",
       "  {'weights': 'distance', 'n_neighbors': 153},\n",
       "  {'weights': 'uniform', 'n_neighbors': 160},\n",
       "  {'weights': 'distance', 'n_neighbors': 160},\n",
       "  {'weights': 'uniform', 'n_neighbors': 166},\n",
       "  {'weights': 'distance', 'n_neighbors': 166},\n",
       "  {'weights': 'uniform', 'n_neighbors': 173},\n",
       "  {'weights': 'distance', 'n_neighbors': 173},\n",
       "  {'weights': 'uniform', 'n_neighbors': 180},\n",
       "  {'weights': 'distance', 'n_neighbors': 180},\n",
       "  {'weights': 'uniform', 'n_neighbors': 186},\n",
       "  {'weights': 'distance', 'n_neighbors': 186},\n",
       "  {'weights': 'uniform', 'n_neighbors': 193},\n",
       "  {'weights': 'distance', 'n_neighbors': 193},\n",
       "  {'weights': 'uniform', 'n_neighbors': 200},\n",
       "  {'weights': 'distance', 'n_neighbors': 200},\n",
       "  {'weights': 'uniform', 'n_neighbors': 206},\n",
       "  {'weights': 'distance', 'n_neighbors': 206},\n",
       "  {'weights': 'uniform', 'n_neighbors': 213},\n",
       "  {'weights': 'distance', 'n_neighbors': 213},\n",
       "  {'weights': 'uniform', 'n_neighbors': 220},\n",
       "  {'weights': 'distance', 'n_neighbors': 220},\n",
       "  {'weights': 'uniform', 'n_neighbors': 226},\n",
       "  {'weights': 'distance', 'n_neighbors': 226},\n",
       "  {'weights': 'uniform', 'n_neighbors': 233},\n",
       "  {'weights': 'distance', 'n_neighbors': 233},\n",
       "  {'weights': 'uniform', 'n_neighbors': 240},\n",
       "  {'weights': 'distance', 'n_neighbors': 240},\n",
       "  {'weights': 'uniform', 'n_neighbors': 246},\n",
       "  {'weights': 'distance', 'n_neighbors': 246},\n",
       "  {'weights': 'uniform', 'n_neighbors': 253},\n",
       "  {'weights': 'distance', 'n_neighbors': 253},\n",
       "  {'weights': 'uniform', 'n_neighbors': 260},\n",
       "  {'weights': 'distance', 'n_neighbors': 260},\n",
       "  {'weights': 'uniform', 'n_neighbors': 266},\n",
       "  {'weights': 'distance', 'n_neighbors': 266},\n",
       "  {'weights': 'uniform', 'n_neighbors': 273},\n",
       "  {'weights': 'distance', 'n_neighbors': 273},\n",
       "  {'weights': 'uniform', 'n_neighbors': 280},\n",
       "  {'weights': 'distance', 'n_neighbors': 280},\n",
       "  {'weights': 'uniform', 'n_neighbors': 286},\n",
       "  {'weights': 'distance', 'n_neighbors': 286},\n",
       "  {'weights': 'uniform', 'n_neighbors': 293},\n",
       "  {'weights': 'distance', 'n_neighbors': 293},\n",
       "  {'weights': 'uniform', 'n_neighbors': 300},\n",
       "  {'weights': 'distance', 'n_neighbors': 300}],\n",
       " 'split0_test_score': array([0.89159197, 0.87238436, 0.8921889 , 0.87312304, 0.89183221,\n",
       "        0.87365739, 0.89182117, 0.87419831, 0.89171871, 0.8745828 ,\n",
       "        0.89174506, 0.8749969 , 0.89147886, 0.87531294, 0.89129184,\n",
       "        0.87551018, 0.89088366, 0.87570848, 0.89037603, 0.87587475,\n",
       "        0.88999188, 0.87597798, 0.88950161, 0.8760797 , 0.88908946,\n",
       "        0.87618352, 0.88899368, 0.87630579, 0.88877271, 0.8763948 ,\n",
       "        0.88866958, 0.87649277, 0.88846793, 0.87657658, 0.88790753,\n",
       "        0.87660782, 0.88748872, 0.87665644, 0.88706478, 0.87666924,\n",
       "        0.88666271, 0.87667081, 0.88638834, 0.87669976, 0.88596658,\n",
       "        0.87671432, 0.88552159, 0.87671847, 0.88530686, 0.87675341,\n",
       "        0.88491539, 0.87674491, 0.88447821, 0.8767397 , 0.88398364,\n",
       "        0.87671418, 0.88349739, 0.87667137, 0.88316362, 0.876662  ,\n",
       "        0.88281824, 0.87666036, 0.88246137, 0.87664765, 0.8821343 ,\n",
       "        0.87664632, 0.88176397, 0.87662983, 0.8814216 , 0.87661051,\n",
       "        0.88109552, 0.87659188, 0.88070843, 0.87656273, 0.88043282,\n",
       "        0.87654166, 0.88005949, 0.87652923, 0.87968729, 0.87650783]),\n",
       " 'split1_test_score': array([0.89466363, 0.87574005, 0.89494056, 0.87638562, 0.89475479,\n",
       "        0.8769406 , 0.89391056, 0.87713662, 0.89376389, 0.87740762,\n",
       "        0.89365492, 0.87768503, 0.89369275, 0.87794555, 0.89345865,\n",
       "        0.87810843, 0.89279047, 0.87820198, 0.89238424, 0.87829244,\n",
       "        0.8920235 , 0.87836401, 0.89185752, 0.8784797 , 0.89153671,\n",
       "        0.8785712 , 0.89138664, 0.87862964, 0.89103893, 0.8786902 ,\n",
       "        0.89076561, 0.878747  , 0.89062254, 0.87881024, 0.89023075,\n",
       "        0.87883611, 0.88964369, 0.87878979, 0.88927902, 0.87878372,\n",
       "        0.88881258, 0.87877281, 0.88848145, 0.87879906, 0.88808358,\n",
       "        0.87877679, 0.88776034, 0.87879424, 0.8873393 , 0.87879157,\n",
       "        0.88699647, 0.87875912, 0.88668687, 0.87875723, 0.88628707,\n",
       "        0.87874167, 0.88593344, 0.87870147, 0.88555969, 0.87865764,\n",
       "        0.88530694, 0.87865367, 0.8850058 , 0.87864049, 0.88470416,\n",
       "        0.8786231 , 0.88437949, 0.87859839, 0.88416222, 0.87859111,\n",
       "        0.88396158, 0.87858704, 0.88360115, 0.87856498, 0.88326367,\n",
       "        0.87851781, 0.88287705, 0.87848019, 0.8824454 , 0.87843565]),\n",
       " 'split2_test_score': array([0.88907887, 0.87569559, 0.88943718, 0.87630092, 0.88909995,\n",
       "        0.87660811, 0.88891572, 0.87690269, 0.88888341, 0.87713969,\n",
       "        0.88853051, 0.87727959, 0.88812086, 0.87741618, 0.88795701,\n",
       "        0.87757655, 0.88745938, 0.87767072, 0.88705569, 0.87774761,\n",
       "        0.8871766 , 0.87786946, 0.8869381 , 0.87795816, 0.88688569,\n",
       "        0.87809   , 0.88644117, 0.87812274, 0.88642775, 0.8782325 ,\n",
       "        0.8861563 , 0.87826939, 0.8858983 , 0.87832542, 0.88566151,\n",
       "        0.8783977 , 0.88527081, 0.87841566, 0.88514223, 0.87845677,\n",
       "        0.88476657, 0.87847831, 0.88450793, 0.87853459, 0.88438659,\n",
       "        0.87859861, 0.88398276, 0.87858944, 0.88366664, 0.87860832,\n",
       "        0.88339411, 0.87861845, 0.88307411, 0.87864492, 0.88280982,\n",
       "        0.8786846 , 0.88259938, 0.87872183, 0.88227612, 0.87874136,\n",
       "        0.88195606, 0.87875169, 0.88161297, 0.87875911, 0.88133308,\n",
       "        0.87877188, 0.88097411, 0.87877857, 0.88074855, 0.87877797,\n",
       "        0.88045236, 0.87879593, 0.8802223 , 0.87881485, 0.88005066,\n",
       "        0.87884254, 0.87975899, 0.87885932, 0.87949267, 0.87886321]),\n",
       " 'split3_test_score': array([0.89146537, 0.87595562, 0.89118249, 0.876328  , 0.89095154,\n",
       "        0.87672943, 0.89098297, 0.87712788, 0.89082028, 0.87740715,\n",
       "        0.89096002, 0.87777503, 0.89099885, 0.87809075, 0.8907915 ,\n",
       "        0.87830385, 0.89064411, 0.87850196, 0.89010016, 0.87865227,\n",
       "        0.89001886, 0.87880751, 0.88941254, 0.87887202, 0.88902634,\n",
       "        0.87896717, 0.88879868, 0.87904893, 0.88845637, 0.87911975,\n",
       "        0.88823667, 0.87919122, 0.88797443, 0.87921449, 0.88772793,\n",
       "        0.87925301, 0.88734297, 0.87925593, 0.8871611 , 0.87932022,\n",
       "        0.88673195, 0.87931665, 0.8865028 , 0.87932016, 0.88634816,\n",
       "        0.87933856, 0.88616723, 0.87933315, 0.88602764, 0.87935606,\n",
       "        0.88574841, 0.87935336, 0.88525432, 0.87934927, 0.88497298,\n",
       "        0.87934624, 0.88454577, 0.8793054 , 0.88413106, 0.87927446,\n",
       "        0.88385394, 0.87925601, 0.88365227, 0.8792482 , 0.88342557,\n",
       "        0.87922167, 0.88298473, 0.87918868, 0.88274257, 0.87916805,\n",
       "        0.88235655, 0.87912329, 0.88203636, 0.87909236, 0.88171026,\n",
       "        0.87906508, 0.8813771 , 0.87902552, 0.88099013, 0.87897638]),\n",
       " 'split4_test_score': array([0.89921163, 0.88580751, 0.89967554, 0.88644028, 0.89981141,\n",
       "        0.88699343, 0.90051604, 0.88754783, 0.90051458, 0.88784566,\n",
       "        0.90026391, 0.88815784, 0.90001105, 0.88843756, 0.89977476,\n",
       "        0.88863159, 0.90000561, 0.88894979, 0.8997839 , 0.88915596,\n",
       "        0.89976781, 0.8893414 , 0.89957415, 0.88953966, 0.89934054,\n",
       "        0.88968352, 0.89916463, 0.88979627, 0.89909023, 0.88994202,\n",
       "        0.89877489, 0.89003462, 0.898602  , 0.89009652, 0.89854106,\n",
       "        0.89020946, 0.89811851, 0.89027875, 0.8979684 , 0.8903573 ,\n",
       "        0.89752269, 0.89040807, 0.89720632, 0.89046182, 0.89688425,\n",
       "        0.89048022, 0.89655043, 0.89052144, 0.89612209, 0.89053881,\n",
       "        0.89591227, 0.89058571, 0.89553386, 0.89061438, 0.89513108,\n",
       "        0.89064596, 0.89477701, 0.89067394, 0.89425941, 0.89065268,\n",
       "        0.89406123, 0.89068025, 0.8938542 , 0.89069797, 0.89366626,\n",
       "        0.89071918, 0.89334515, 0.89073   , 0.89301221, 0.89071793,\n",
       "        0.89247998, 0.89068052, 0.89214707, 0.89067482, 0.89184554,\n",
       "        0.89066501, 0.8914987 , 0.89067118, 0.89113289, 0.89066121]),\n",
       " 'mean_test_score': array([0.8932023 , 0.87711663, 0.89348493, 0.87771557, 0.89328998,\n",
       "        0.87818579, 0.89322929, 0.87858267, 0.89314018, 0.87887658,\n",
       "        0.89303088, 0.87917888, 0.89286047, 0.87944059, 0.89265475,\n",
       "        0.87962612, 0.89235665, 0.87980659, 0.89194   , 0.87994461,\n",
       "        0.89179573, 0.88007207, 0.89145678, 0.88018585, 0.89117575,\n",
       "        0.88029908, 0.89095696, 0.88038067, 0.8907572 , 0.88047585,\n",
       "        0.89052061, 0.880547  , 0.89031304, 0.88060465, 0.89001376,\n",
       "        0.88066082, 0.88957294, 0.88067931, 0.88932311, 0.88071745,\n",
       "        0.8888993 , 0.88072933, 0.88861737, 0.88076308, 0.88833383,\n",
       "        0.8807817 , 0.88799647, 0.88079135, 0.88769251, 0.88080963,\n",
       "        0.88739333, 0.88081231, 0.88700548, 0.8808211 , 0.88663692,\n",
       "        0.88082653, 0.8862706 , 0.8808148 , 0.88587798, 0.88079763,\n",
       "        0.88559928, 0.8808004 , 0.88531732, 0.88079868, 0.88505267,\n",
       "        0.88079643, 0.88468949, 0.88078509, 0.88441743, 0.88077312,\n",
       "        0.8840692 , 0.88075573, 0.88374306, 0.88074195, 0.88346059,\n",
       "        0.88072642, 0.88311427, 0.88071309, 0.88274967, 0.88068886]),\n",
       " 'std_test_score': array([0.00348885, 0.00454286, 0.00357233, 0.00453668, 0.00373696,\n",
       "        0.00456599, 0.00397986, 0.00461793, 0.00400733, 0.00460901,\n",
       "        0.00397244, 0.00460262, 0.00399154, 0.00460735, 0.00396834,\n",
       "        0.00461068, 0.00419   , 0.004674  , 0.00427578, 0.00470402,\n",
       "        0.00427442, 0.00473392, 0.00434678, 0.00477397, 0.00433985,\n",
       "        0.00478843, 0.00439216, 0.00479992, 0.00441577, 0.00482335,\n",
       "        0.00437911, 0.00483151, 0.00440831, 0.00483049, 0.00450256,\n",
       "        0.00485874, 0.00449125, 0.00487961, 0.00451657, 0.00490137,\n",
       "        0.00449777, 0.00492017, 0.00447473, 0.00492913, 0.00443396,\n",
       "        0.00492896, 0.00444538, 0.00494421, 0.00437843, 0.00494249,\n",
       "        0.00441746, 0.00496428, 0.00442141, 0.00497449, 0.00439837,\n",
       "        0.00498915, 0.00439582, 0.00500991, 0.00432996, 0.00500706,\n",
       "        0.00437592, 0.00501881, 0.00441874, 0.00502889, 0.00445679,\n",
       "        0.00503957, 0.00447851, 0.00505022, 0.00445367, 0.00505064,\n",
       "        0.00437288, 0.00504079, 0.00436269, 0.00504583, 0.00434062,\n",
       "        0.00504925, 0.00433503, 0.00505843, 0.00432327, 0.005065  ]),\n",
       " 'rank_test_score': array([ 4, 80,  1, 79,  2, 78,  3, 77,  5, 76,  6, 75,  7, 74,  8, 73,  9,\n",
       "        72, 10, 71, 11, 70, 12, 69, 13, 68, 14, 67, 15, 66, 16, 65, 17, 64,\n",
       "        18, 63, 19, 62, 20, 59, 21, 57, 22, 54, 23, 52, 24, 50, 25, 45, 26,\n",
       "        44, 27, 42, 28, 41, 29, 43, 30, 48, 31, 46, 32, 47, 33, 49, 34, 51,\n",
       "        35, 53, 36, 55, 37, 56, 38, 58, 39, 60, 40, 61])}"
      ]
     },
     "execution_count": 188,
     "metadata": {},
     "output_type": "execute_result"
    }
   ],
   "source": [
    "RMSE.cv_results_"
   ]
  },
  {
   "cell_type": "code",
   "execution_count": 189,
   "id": "05be664c",
   "metadata": {},
   "outputs": [
    {
     "data": {
      "text/html": [
       "<div>\n",
       "<style scoped>\n",
       "    .dataframe tbody tr th:only-of-type {\n",
       "        vertical-align: middle;\n",
       "    }\n",
       "\n",
       "    .dataframe tbody tr th {\n",
       "        vertical-align: top;\n",
       "    }\n",
       "\n",
       "    .dataframe thead th {\n",
       "        text-align: right;\n",
       "    }\n",
       "</style>\n",
       "<table border=\"1\" class=\"dataframe\">\n",
       "  <thead>\n",
       "    <tr style=\"text-align: right;\">\n",
       "      <th></th>\n",
       "      <th>mean_fit_time</th>\n",
       "      <th>std_fit_time</th>\n",
       "      <th>mean_score_time</th>\n",
       "      <th>std_score_time</th>\n",
       "      <th>param_weights</th>\n",
       "      <th>param_n_neighbors</th>\n",
       "      <th>params</th>\n",
       "      <th>split0_test_score</th>\n",
       "      <th>split1_test_score</th>\n",
       "      <th>split2_test_score</th>\n",
       "      <th>split3_test_score</th>\n",
       "      <th>split4_test_score</th>\n",
       "      <th>mean_test_score</th>\n",
       "      <th>std_test_score</th>\n",
       "      <th>rank_test_score</th>\n",
       "    </tr>\n",
       "  </thead>\n",
       "  <tbody>\n",
       "    <tr>\n",
       "      <th>0</th>\n",
       "      <td>0.006782</td>\n",
       "      <td>0.001716</td>\n",
       "      <td>0.016355</td>\n",
       "      <td>0.002570</td>\n",
       "      <td>uniform</td>\n",
       "      <td>40</td>\n",
       "      <td>{'weights': 'uniform', 'n_neighbors': 40}</td>\n",
       "      <td>0.891592</td>\n",
       "      <td>0.894664</td>\n",
       "      <td>0.889079</td>\n",
       "      <td>0.891465</td>\n",
       "      <td>0.899212</td>\n",
       "      <td>0.893202</td>\n",
       "      <td>0.003489</td>\n",
       "      <td>4</td>\n",
       "    </tr>\n",
       "    <tr>\n",
       "      <th>1</th>\n",
       "      <td>0.004716</td>\n",
       "      <td>0.006844</td>\n",
       "      <td>0.015556</td>\n",
       "      <td>0.002212</td>\n",
       "      <td>distance</td>\n",
       "      <td>40</td>\n",
       "      <td>{'weights': 'distance', 'n_neighbors': 40}</td>\n",
       "      <td>0.872384</td>\n",
       "      <td>0.875740</td>\n",
       "      <td>0.875696</td>\n",
       "      <td>0.875956</td>\n",
       "      <td>0.885808</td>\n",
       "      <td>0.877117</td>\n",
       "      <td>0.004543</td>\n",
       "      <td>80</td>\n",
       "    </tr>\n",
       "    <tr>\n",
       "      <th>2</th>\n",
       "      <td>0.006580</td>\n",
       "      <td>0.001620</td>\n",
       "      <td>0.015161</td>\n",
       "      <td>0.001164</td>\n",
       "      <td>uniform</td>\n",
       "      <td>46</td>\n",
       "      <td>{'weights': 'uniform', 'n_neighbors': 46}</td>\n",
       "      <td>0.892189</td>\n",
       "      <td>0.894941</td>\n",
       "      <td>0.889437</td>\n",
       "      <td>0.891182</td>\n",
       "      <td>0.899676</td>\n",
       "      <td>0.893485</td>\n",
       "      <td>0.003572</td>\n",
       "      <td>1</td>\n",
       "    </tr>\n",
       "    <tr>\n",
       "      <th>3</th>\n",
       "      <td>0.001605</td>\n",
       "      <td>0.002327</td>\n",
       "      <td>0.018458</td>\n",
       "      <td>0.004659</td>\n",
       "      <td>distance</td>\n",
       "      <td>46</td>\n",
       "      <td>{'weights': 'distance', 'n_neighbors': 46}</td>\n",
       "      <td>0.873123</td>\n",
       "      <td>0.876386</td>\n",
       "      <td>0.876301</td>\n",
       "      <td>0.876328</td>\n",
       "      <td>0.886440</td>\n",
       "      <td>0.877716</td>\n",
       "      <td>0.004537</td>\n",
       "      <td>79</td>\n",
       "    </tr>\n",
       "    <tr>\n",
       "      <th>4</th>\n",
       "      <td>0.005377</td>\n",
       "      <td>0.000493</td>\n",
       "      <td>0.014593</td>\n",
       "      <td>0.005062</td>\n",
       "      <td>uniform</td>\n",
       "      <td>53</td>\n",
       "      <td>{'weights': 'uniform', 'n_neighbors': 53}</td>\n",
       "      <td>0.891832</td>\n",
       "      <td>0.894755</td>\n",
       "      <td>0.889100</td>\n",
       "      <td>0.890952</td>\n",
       "      <td>0.899811</td>\n",
       "      <td>0.893290</td>\n",
       "      <td>0.003737</td>\n",
       "      <td>2</td>\n",
       "    </tr>\n",
       "    <tr>\n",
       "      <th>...</th>\n",
       "      <td>...</td>\n",
       "      <td>...</td>\n",
       "      <td>...</td>\n",
       "      <td>...</td>\n",
       "      <td>...</td>\n",
       "      <td>...</td>\n",
       "      <td>...</td>\n",
       "      <td>...</td>\n",
       "      <td>...</td>\n",
       "      <td>...</td>\n",
       "      <td>...</td>\n",
       "      <td>...</td>\n",
       "      <td>...</td>\n",
       "      <td>...</td>\n",
       "      <td>...</td>\n",
       "    </tr>\n",
       "    <tr>\n",
       "      <th>75</th>\n",
       "      <td>0.009364</td>\n",
       "      <td>0.007645</td>\n",
       "      <td>0.076955</td>\n",
       "      <td>0.001516</td>\n",
       "      <td>distance</td>\n",
       "      <td>286</td>\n",
       "      <td>{'weights': 'distance', 'n_neighbors': 286}</td>\n",
       "      <td>0.876542</td>\n",
       "      <td>0.878518</td>\n",
       "      <td>0.878843</td>\n",
       "      <td>0.879065</td>\n",
       "      <td>0.890665</td>\n",
       "      <td>0.880726</td>\n",
       "      <td>0.005049</td>\n",
       "      <td>58</td>\n",
       "    </tr>\n",
       "    <tr>\n",
       "      <th>76</th>\n",
       "      <td>0.003124</td>\n",
       "      <td>0.006248</td>\n",
       "      <td>0.074982</td>\n",
       "      <td>0.006249</td>\n",
       "      <td>uniform</td>\n",
       "      <td>293</td>\n",
       "      <td>{'weights': 'uniform', 'n_neighbors': 293}</td>\n",
       "      <td>0.880059</td>\n",
       "      <td>0.882877</td>\n",
       "      <td>0.879759</td>\n",
       "      <td>0.881377</td>\n",
       "      <td>0.891499</td>\n",
       "      <td>0.883114</td>\n",
       "      <td>0.004335</td>\n",
       "      <td>39</td>\n",
       "    </tr>\n",
       "    <tr>\n",
       "      <th>77</th>\n",
       "      <td>0.003124</td>\n",
       "      <td>0.006248</td>\n",
       "      <td>0.081239</td>\n",
       "      <td>0.006241</td>\n",
       "      <td>distance</td>\n",
       "      <td>293</td>\n",
       "      <td>{'weights': 'distance', 'n_neighbors': 293}</td>\n",
       "      <td>0.876529</td>\n",
       "      <td>0.878480</td>\n",
       "      <td>0.878859</td>\n",
       "      <td>0.879026</td>\n",
       "      <td>0.890671</td>\n",
       "      <td>0.880713</td>\n",
       "      <td>0.005058</td>\n",
       "      <td>60</td>\n",
       "    </tr>\n",
       "    <tr>\n",
       "      <th>78</th>\n",
       "      <td>0.006233</td>\n",
       "      <td>0.007633</td>\n",
       "      <td>0.076320</td>\n",
       "      <td>0.007363</td>\n",
       "      <td>uniform</td>\n",
       "      <td>300</td>\n",
       "      <td>{'weights': 'uniform', 'n_neighbors': 300}</td>\n",
       "      <td>0.879687</td>\n",
       "      <td>0.882445</td>\n",
       "      <td>0.879493</td>\n",
       "      <td>0.880990</td>\n",
       "      <td>0.891133</td>\n",
       "      <td>0.882750</td>\n",
       "      <td>0.004323</td>\n",
       "      <td>40</td>\n",
       "    </tr>\n",
       "    <tr>\n",
       "      <th>79</th>\n",
       "      <td>0.003123</td>\n",
       "      <td>0.006247</td>\n",
       "      <td>0.081232</td>\n",
       "      <td>0.006248</td>\n",
       "      <td>distance</td>\n",
       "      <td>300</td>\n",
       "      <td>{'weights': 'distance', 'n_neighbors': 300}</td>\n",
       "      <td>0.876508</td>\n",
       "      <td>0.878436</td>\n",
       "      <td>0.878863</td>\n",
       "      <td>0.878976</td>\n",
       "      <td>0.890661</td>\n",
       "      <td>0.880689</td>\n",
       "      <td>0.005065</td>\n",
       "      <td>61</td>\n",
       "    </tr>\n",
       "  </tbody>\n",
       "</table>\n",
       "<p>80 rows × 15 columns</p>\n",
       "</div>"
      ],
      "text/plain": [
       "    mean_fit_time  std_fit_time  mean_score_time  std_score_time  \\\n",
       "0        0.006782      0.001716         0.016355        0.002570   \n",
       "1        0.004716      0.006844         0.015556        0.002212   \n",
       "2        0.006580      0.001620         0.015161        0.001164   \n",
       "3        0.001605      0.002327         0.018458        0.004659   \n",
       "4        0.005377      0.000493         0.014593        0.005062   \n",
       "..            ...           ...              ...             ...   \n",
       "75       0.009364      0.007645         0.076955        0.001516   \n",
       "76       0.003124      0.006248         0.074982        0.006249   \n",
       "77       0.003124      0.006248         0.081239        0.006241   \n",
       "78       0.006233      0.007633         0.076320        0.007363   \n",
       "79       0.003123      0.006247         0.081232        0.006248   \n",
       "\n",
       "   param_weights param_n_neighbors  \\\n",
       "0        uniform                40   \n",
       "1       distance                40   \n",
       "2        uniform                46   \n",
       "3       distance                46   \n",
       "4        uniform                53   \n",
       "..           ...               ...   \n",
       "75      distance               286   \n",
       "76       uniform               293   \n",
       "77      distance               293   \n",
       "78       uniform               300   \n",
       "79      distance               300   \n",
       "\n",
       "                                         params  split0_test_score  \\\n",
       "0     {'weights': 'uniform', 'n_neighbors': 40}           0.891592   \n",
       "1    {'weights': 'distance', 'n_neighbors': 40}           0.872384   \n",
       "2     {'weights': 'uniform', 'n_neighbors': 46}           0.892189   \n",
       "3    {'weights': 'distance', 'n_neighbors': 46}           0.873123   \n",
       "4     {'weights': 'uniform', 'n_neighbors': 53}           0.891832   \n",
       "..                                          ...                ...   \n",
       "75  {'weights': 'distance', 'n_neighbors': 286}           0.876542   \n",
       "76   {'weights': 'uniform', 'n_neighbors': 293}           0.880059   \n",
       "77  {'weights': 'distance', 'n_neighbors': 293}           0.876529   \n",
       "78   {'weights': 'uniform', 'n_neighbors': 300}           0.879687   \n",
       "79  {'weights': 'distance', 'n_neighbors': 300}           0.876508   \n",
       "\n",
       "    split1_test_score  split2_test_score  split3_test_score  \\\n",
       "0            0.894664           0.889079           0.891465   \n",
       "1            0.875740           0.875696           0.875956   \n",
       "2            0.894941           0.889437           0.891182   \n",
       "3            0.876386           0.876301           0.876328   \n",
       "4            0.894755           0.889100           0.890952   \n",
       "..                ...                ...                ...   \n",
       "75           0.878518           0.878843           0.879065   \n",
       "76           0.882877           0.879759           0.881377   \n",
       "77           0.878480           0.878859           0.879026   \n",
       "78           0.882445           0.879493           0.880990   \n",
       "79           0.878436           0.878863           0.878976   \n",
       "\n",
       "    split4_test_score  mean_test_score  std_test_score  rank_test_score  \n",
       "0            0.899212         0.893202        0.003489                4  \n",
       "1            0.885808         0.877117        0.004543               80  \n",
       "2            0.899676         0.893485        0.003572                1  \n",
       "3            0.886440         0.877716        0.004537               79  \n",
       "4            0.899811         0.893290        0.003737                2  \n",
       "..                ...              ...             ...              ...  \n",
       "75           0.890665         0.880726        0.005049               58  \n",
       "76           0.891499         0.883114        0.004335               39  \n",
       "77           0.890671         0.880713        0.005058               60  \n",
       "78           0.891133         0.882750        0.004323               40  \n",
       "79           0.890661         0.880689        0.005065               61  \n",
       "\n",
       "[80 rows x 15 columns]"
      ]
     },
     "execution_count": 189,
     "metadata": {},
     "output_type": "execute_result"
    }
   ],
   "source": [
    "results=pd.DataFrame(RMSE.cv_results_)\n",
    "results"
   ]
  },
  {
   "cell_type": "code",
   "execution_count": 190,
   "id": "f5278c9c",
   "metadata": {},
   "outputs": [
    {
     "data": {
      "text/plain": [
       "{'weights': 'uniform', 'n_neighbors': 46}"
      ]
     },
     "execution_count": 190,
     "metadata": {},
     "output_type": "execute_result"
    }
   ],
   "source": [
    "RMSE.best_params_"
   ]
  },
  {
   "cell_type": "code",
   "execution_count": 191,
   "id": "a0d34c8c",
   "metadata": {},
   "outputs": [
    {
     "data": {
      "text/plain": [
       "0.8934849336756063"
      ]
     },
     "execution_count": 191,
     "metadata": {},
     "output_type": "execute_result"
    }
   ],
   "source": [
    "RMSE.best_score_"
   ]
  },
  {
   "cell_type": "code",
   "execution_count": 192,
   "id": "88a7a02e",
   "metadata": {},
   "outputs": [
    {
     "data": {
      "text/plain": [
       "KNeighborsRegressor(n_neighbors=46)"
      ]
     },
     "execution_count": 192,
     "metadata": {},
     "output_type": "execute_result"
    }
   ],
   "source": [
    "Best=RMSE.best_estimator_\n",
    "Best"
   ]
  },
  {
   "cell_type": "code",
   "execution_count": 193,
   "id": "1c78d11a",
   "metadata": {},
   "outputs": [
    {
     "data": {
      "text/plain": [
       "0.9033570276693765"
      ]
     },
     "execution_count": 193,
     "metadata": {},
     "output_type": "execute_result"
    }
   ],
   "source": [
    "Best.score(xtest,ytest)\n"
   ]
  },
  {
   "cell_type": "markdown",
   "id": "e6bbe5e6",
   "metadata": {},
   "source": [
    "# Comment"
   ]
  },
  {
   "cell_type": "code",
   "execution_count": null,
   "id": "118e834d",
   "metadata": {},
   "outputs": [],
   "source": [
    "#For the given dataset,Applying  Linear Regression Model,I got the following observations:\n",
    "Accurecy- 0.9059112424422664,Mean squared error: 96.84,RMSE:9.84059674909533\n",
    "On the otherhand \n",
    "#Applying KNN Regressor Model,I got\n",
    "Accurecy-0.8821086423439015,Mean squared error:121.34 ,RMSE:11.015229581640359\n",
    "        \n",
    "#After Tuning  KNN Regressor Model,I got \n",
    "Accurecy 0.9035799896305765 when KNeighborsRegressor(n_neighbors=53)\n",
    "# By comparing this two Models ,we see that Linear Regression Model gave me the highest Accurecy for this datasets."
   ]
  },
  {
   "cell_type": "markdown",
   "id": "27d8e635",
   "metadata": {},
   "source": [
    "# KNN Classifier:"
   ]
  },
  {
   "cell_type": "code",
   "execution_count": 195,
   "id": "07b8da61",
   "metadata": {},
   "outputs": [
    {
     "data": {
      "text/html": [
       "<div>\n",
       "<style scoped>\n",
       "    .dataframe tbody tr th:only-of-type {\n",
       "        vertical-align: middle;\n",
       "    }\n",
       "\n",
       "    .dataframe tbody tr th {\n",
       "        vertical-align: top;\n",
       "    }\n",
       "\n",
       "    .dataframe thead th {\n",
       "        text-align: right;\n",
       "    }\n",
       "</style>\n",
       "<table border=\"1\" class=\"dataframe\">\n",
       "  <thead>\n",
       "    <tr style=\"text-align: right;\">\n",
       "      <th></th>\n",
       "      <th>Gender</th>\n",
       "      <th>Height</th>\n",
       "      <th>Weight</th>\n",
       "    </tr>\n",
       "  </thead>\n",
       "  <tbody>\n",
       "    <tr>\n",
       "      <th>0</th>\n",
       "      <td>1</td>\n",
       "      <td>73.847017</td>\n",
       "      <td>241.893563</td>\n",
       "    </tr>\n",
       "    <tr>\n",
       "      <th>1</th>\n",
       "      <td>1</td>\n",
       "      <td>68.781904</td>\n",
       "      <td>162.310473</td>\n",
       "    </tr>\n",
       "    <tr>\n",
       "      <th>2</th>\n",
       "      <td>1</td>\n",
       "      <td>74.110105</td>\n",
       "      <td>212.740856</td>\n",
       "    </tr>\n",
       "    <tr>\n",
       "      <th>3</th>\n",
       "      <td>1</td>\n",
       "      <td>71.730978</td>\n",
       "      <td>220.042470</td>\n",
       "    </tr>\n",
       "    <tr>\n",
       "      <th>4</th>\n",
       "      <td>1</td>\n",
       "      <td>69.881796</td>\n",
       "      <td>206.349801</td>\n",
       "    </tr>\n",
       "    <tr>\n",
       "      <th>...</th>\n",
       "      <td>...</td>\n",
       "      <td>...</td>\n",
       "      <td>...</td>\n",
       "    </tr>\n",
       "    <tr>\n",
       "      <th>8550</th>\n",
       "      <td>0</td>\n",
       "      <td>60.483946</td>\n",
       "      <td>110.565497</td>\n",
       "    </tr>\n",
       "    <tr>\n",
       "      <th>8551</th>\n",
       "      <td>0</td>\n",
       "      <td>63.423372</td>\n",
       "      <td>129.921671</td>\n",
       "    </tr>\n",
       "    <tr>\n",
       "      <th>8552</th>\n",
       "      <td>0</td>\n",
       "      <td>65.584057</td>\n",
       "      <td>155.942671</td>\n",
       "    </tr>\n",
       "    <tr>\n",
       "      <th>8553</th>\n",
       "      <td>0</td>\n",
       "      <td>67.429971</td>\n",
       "      <td>151.678405</td>\n",
       "    </tr>\n",
       "    <tr>\n",
       "      <th>8554</th>\n",
       "      <td>0</td>\n",
       "      <td>60.921791</td>\n",
       "      <td>131.253738</td>\n",
       "    </tr>\n",
       "  </tbody>\n",
       "</table>\n",
       "<p>8555 rows × 3 columns</p>\n",
       "</div>"
      ],
      "text/plain": [
       "      Gender     Height      Weight\n",
       "0          1  73.847017  241.893563\n",
       "1          1  68.781904  162.310473\n",
       "2          1  74.110105  212.740856\n",
       "3          1  71.730978  220.042470\n",
       "4          1  69.881796  206.349801\n",
       "...      ...        ...         ...\n",
       "8550       0  60.483946  110.565497\n",
       "8551       0  63.423372  129.921671\n",
       "8552       0  65.584057  155.942671\n",
       "8553       0  67.429971  151.678405\n",
       "8554       0  60.921791  131.253738\n",
       "\n",
       "[8555 rows x 3 columns]"
      ]
     },
     "execution_count": 195,
     "metadata": {},
     "output_type": "execute_result"
    }
   ],
   "source": [
    "#The given dataset is\n",
    "df\n"
   ]
  },
  {
   "cell_type": "code",
   "execution_count": 196,
   "id": "7fc72a11",
   "metadata": {},
   "outputs": [],
   "source": [
    "x=df.drop('Gender',axis=1).values\n",
    "y=df['Gender'].values\n"
   ]
  },
  {
   "cell_type": "code",
   "execution_count": 197,
   "id": "8b261c0a",
   "metadata": {},
   "outputs": [
    {
     "data": {
      "text/plain": [
       "array([[ 73.84701702, 241.8935632 ],\n",
       "       [ 68.78190405, 162.3104725 ],\n",
       "       [ 74.11010539, 212.7408556 ],\n",
       "       ...,\n",
       "       [ 65.58405676, 155.9426708 ],\n",
       "       [ 67.42997138, 151.6784055 ],\n",
       "       [ 60.92179087, 131.2537378 ]])"
      ]
     },
     "execution_count": 197,
     "metadata": {},
     "output_type": "execute_result"
    }
   ],
   "source": [
    "x"
   ]
  },
  {
   "cell_type": "code",
   "execution_count": 198,
   "id": "e7b32c82",
   "metadata": {},
   "outputs": [
    {
     "data": {
      "text/plain": [
       "array([1, 1, 1, ..., 0, 0, 0])"
      ]
     },
     "execution_count": 198,
     "metadata": {},
     "output_type": "execute_result"
    }
   ],
   "source": [
    "y"
   ]
  },
  {
   "cell_type": "code",
   "execution_count": 199,
   "id": "52da1c0b",
   "metadata": {},
   "outputs": [],
   "source": [
    "from sklearn.model_selection import train_test_split"
   ]
  },
  {
   "cell_type": "code",
   "execution_count": 200,
   "id": "6a817e96",
   "metadata": {},
   "outputs": [],
   "source": [
    "xtrain,xtest,ytrain,ytest=train_test_split(x,y,train_size=0.7,random_state=1)"
   ]
  },
  {
   "cell_type": "code",
   "execution_count": 201,
   "id": "ebc72ca6",
   "metadata": {},
   "outputs": [
    {
     "data": {
      "text/plain": [
       "array([[ 72.38530097, 189.1655919 ],\n",
       "       [ 60.96014679, 124.8767957 ],\n",
       "       [ 69.11929182, 168.8644028 ],\n",
       "       ...,\n",
       "       [ 66.53981222, 175.0932547 ],\n",
       "       [ 66.56377205, 156.832191  ],\n",
       "       [ 70.55524376, 198.4602486 ]])"
      ]
     },
     "execution_count": 201,
     "metadata": {},
     "output_type": "execute_result"
    }
   ],
   "source": [
    "xtrain"
   ]
  },
  {
   "cell_type": "code",
   "execution_count": 202,
   "id": "91022849",
   "metadata": {},
   "outputs": [
    {
     "data": {
      "text/plain": [
       "array([1, 0, 0, ..., 1, 0, 1])"
      ]
     },
     "execution_count": 202,
     "metadata": {},
     "output_type": "execute_result"
    }
   ],
   "source": [
    "ytrain"
   ]
  },
  {
   "cell_type": "markdown",
   "id": "d36d5275",
   "metadata": {},
   "source": [
    "## Applying KNN Classifier"
   ]
  },
  {
   "cell_type": "code",
   "execution_count": 203,
   "id": "5f5abd4b",
   "metadata": {},
   "outputs": [],
   "source": [
    "from sklearn.neighbors import KNeighborsClassifier"
   ]
  },
  {
   "cell_type": "code",
   "execution_count": 204,
   "id": "13f90590",
   "metadata": {},
   "outputs": [],
   "source": [
    "KNN2=KNeighborsClassifier()"
   ]
  },
  {
   "cell_type": "code",
   "execution_count": 205,
   "id": "9f973f6f",
   "metadata": {},
   "outputs": [
    {
     "data": {
      "text/plain": [
       "KNeighborsClassifier()"
      ]
     },
     "execution_count": 205,
     "metadata": {},
     "output_type": "execute_result"
    }
   ],
   "source": [
    "KNN2.fit(xtrain,ytrain)"
   ]
  },
  {
   "cell_type": "markdown",
   "id": "09e94168",
   "metadata": {},
   "source": [
    "## Evalute the model(Accuracy, Confusion Matrix, ROC, AUC, Classification Report)"
   ]
  },
  {
   "cell_type": "code",
   "execution_count": 206,
   "id": "de3ab130",
   "metadata": {},
   "outputs": [
    {
     "data": {
      "text/plain": [
       "0.9146864043630697"
      ]
     },
     "execution_count": 206,
     "metadata": {},
     "output_type": "execute_result"
    }
   ],
   "source": [
    "KNN2.score(xtest,ytest) ## Accurecy score"
   ]
  },
  {
   "cell_type": "code",
   "execution_count": 207,
   "id": "fa2715c7",
   "metadata": {},
   "outputs": [
    {
     "data": {
      "text/plain": [
       "array([1, 1, 1, ..., 0, 1, 1])"
      ]
     },
     "execution_count": 207,
     "metadata": {},
     "output_type": "execute_result"
    }
   ],
   "source": [
    "KNN2predict=KNN2.predict(xtest)\n",
    "KNN2predict"
   ]
  },
  {
   "cell_type": "code",
   "execution_count": 208,
   "id": "cf492cb6",
   "metadata": {},
   "outputs": [
    {
     "data": {
      "text/plain": [
       "0.08531359563693026"
      ]
     },
     "execution_count": 208,
     "metadata": {},
     "output_type": "execute_result"
    }
   ],
   "source": [
    "MSE=mean_squared_error(ytest,KNN2predict)\n",
    "MSE"
   ]
  },
  {
   "cell_type": "code",
   "execution_count": 209,
   "id": "77ac699d",
   "metadata": {},
   "outputs": [],
   "source": [
    "\n",
    "from sklearn.metrics import classification_report,accuracy_score,confusion_matrix,plot_roc_curve"
   ]
  },
  {
   "cell_type": "code",
   "execution_count": 210,
   "id": "3aa8e876",
   "metadata": {},
   "outputs": [
    {
     "data": {
      "text/plain": [
       "'              precision    recall  f1-score   support\\n\\n           0       0.90      0.89      0.90      1055\\n           1       0.92      0.93      0.93      1512\\n\\n    accuracy                           0.91      2567\\n   macro avg       0.91      0.91      0.91      2567\\nweighted avg       0.91      0.91      0.91      2567\\n'"
      ]
     },
     "execution_count": 210,
     "metadata": {},
     "output_type": "execute_result"
    }
   ],
   "source": [
    "classification_report(ytest,KNN2predict) ##Classification Report"
   ]
  },
  {
   "cell_type": "code",
   "execution_count": 211,
   "id": "d3236465",
   "metadata": {},
   "outputs": [
    {
     "name": "stdout",
     "output_type": "stream",
     "text": [
      "              precision    recall  f1-score   support\n",
      "\n",
      "           0       0.90      0.89      0.90      1055\n",
      "           1       0.92      0.93      0.93      1512\n",
      "\n",
      "    accuracy                           0.91      2567\n",
      "   macro avg       0.91      0.91      0.91      2567\n",
      "weighted avg       0.91      0.91      0.91      2567\n",
      "\n"
     ]
    }
   ],
   "source": [
    "print(classification_report(ytest,KNN2predict))"
   ]
  },
  {
   "cell_type": "code",
   "execution_count": 212,
   "id": "29caba9c",
   "metadata": {},
   "outputs": [],
   "source": [
    "test_confusion_matrix=confusion_matrix(ytest,KNN2predict)"
   ]
  },
  {
   "cell_type": "code",
   "execution_count": 213,
   "id": "43ad6a2f",
   "metadata": {},
   "outputs": [
    {
     "data": {
      "text/plain": [
       "array([[ 938,  117],\n",
       "       [ 102, 1410]], dtype=int64)"
      ]
     },
     "execution_count": 213,
     "metadata": {},
     "output_type": "execute_result"
    }
   ],
   "source": [
    "test_confusion_matrix"
   ]
  },
  {
   "cell_type": "code",
   "execution_count": 214,
   "id": "7aaf7d52",
   "metadata": {},
   "outputs": [
    {
     "data": {
      "text/plain": [
       "<AxesSubplot:>"
      ]
     },
     "execution_count": 214,
     "metadata": {},
     "output_type": "execute_result"
    },
    {
     "data": {
      "image/png": "[encoded data removed]",
      "text/plain": [
       "<Figure size 432x288 with 2 Axes>"
      ]
     },
     "metadata": {
      "needs_background": "light"
     },
     "output_type": "display_data"
    }
   ],
   "source": [
    "sns.heatmap(test_confusion_matrix,annot=True)"
   ]
  },
  {
   "cell_type": "code",
   "execution_count": 215,
   "id": "dd81614f",
   "metadata": {},
   "outputs": [
    {
     "data": {
      "text/plain": [
       "(938, 117, 102, 1410)"
      ]
     },
     "execution_count": 215,
     "metadata": {},
     "output_type": "execute_result"
    }
   ],
   "source": [
    "tp,fp,fn,tn=confusion_matrix(ytest,KNN2predict).reshape(-1)\n",
    "tp,fp,fn,tn"
   ]
  },
  {
   "cell_type": "code",
   "execution_count": 216,
   "id": "c580c1e5",
   "metadata": {},
   "outputs": [
    {
     "data": {
      "text/plain": [
       "0.9146864043630697"
      ]
     },
     "execution_count": 216,
     "metadata": {},
     "output_type": "execute_result"
    }
   ],
   "source": [
    "accurecy=(tp+tn)/(tp+tn+fp+fn) ## True Event/Total Event\n",
    "accurecy"
   ]
  },
  {
   "cell_type": "markdown",
   "id": "8b96e5ac",
   "metadata": {},
   "source": [
    "## ROC Curve"
   ]
  },
  {
   "cell_type": "code",
   "execution_count": 217,
   "id": "ff7b7147",
   "metadata": {},
   "outputs": [
    {
     "name": "stderr",
     "output_type": "stream",
     "text": [
      "C:\\Users\\fkari653\\Anaconda3\\envs\\DL\\lib\\site-packages\\sklearn\\utils\\deprecation.py:87: FutureWarning: Function plot_roc_curve is deprecated; Function :func:`plot_roc_curve` is deprecated in 1.0 and will be removed in 1.2. Use one of the class methods: :meth:`sklearn.metric.RocCurveDisplay.from_predictions` or :meth:`sklearn.metric.RocCurveDisplay.from_estimator`.\n",
      "  warnings.warn(msg, category=FutureWarning)\n"
     ]
    },
    {
     "ename": "ValueError",
     "evalue": "Expected 'estimator' to be a binary classifier, but got DataFrame",
     "output_type": "error",
     "traceback": [
      "\u001b[1;31m---------------------------------------------------------------------------\u001b[0m",
      "\u001b[1;31mValueError\u001b[0m                                Traceback (most recent call last)",
      "\u001b[1;32m~\\AppData\\Local\\Temp/ipykernel_23732/1461935689.py\u001b[0m in \u001b[0;36m<module>\u001b[1;34m\u001b[0m\n\u001b[1;32m----> 1\u001b[1;33m \u001b[0mplot_roc_curve\u001b[0m\u001b[1;33m(\u001b[0m\u001b[0mdf\u001b[0m\u001b[1;33m,\u001b[0m\u001b[0mxtest\u001b[0m\u001b[1;33m,\u001b[0m\u001b[0mytest\u001b[0m\u001b[1;33m)\u001b[0m\u001b[1;33m\u001b[0m\u001b[1;33m\u001b[0m\u001b[0m\n\u001b[0m",
      "\u001b[1;32m~\\Anaconda3\\envs\\DL\\lib\\site-packages\\sklearn\\utils\\deprecation.py\u001b[0m in \u001b[0;36mwrapped\u001b[1;34m(*args, **kwargs)\u001b[0m\n\u001b[0;32m     86\u001b[0m         \u001b[1;32mdef\u001b[0m \u001b[0mwrapped\u001b[0m\u001b[1;33m(\u001b[0m\u001b[1;33m*\u001b[0m\u001b[0margs\u001b[0m\u001b[1;33m,\u001b[0m \u001b[1;33m**\u001b[0m\u001b[0mkwargs\u001b[0m\u001b[1;33m)\u001b[0m\u001b[1;33m:\u001b[0m\u001b[1;33m\u001b[0m\u001b[1;33m\u001b[0m\u001b[0m\n\u001b[0;32m     87\u001b[0m             \u001b[0mwarnings\u001b[0m\u001b[1;33m.\u001b[0m\u001b[0mwarn\u001b[0m\u001b[1;33m(\u001b[0m\u001b[0mmsg\u001b[0m\u001b[1;33m,\u001b[0m \u001b[0mcategory\u001b[0m\u001b[1;33m=\u001b[0m\u001b[0mFutureWarning\u001b[0m\u001b[1;33m)\u001b[0m\u001b[1;33m\u001b[0m\u001b[1;33m\u001b[0m\u001b[0m\n\u001b[1;32m---> 88\u001b[1;33m             \u001b[1;32mreturn\u001b[0m \u001b[0mfun\u001b[0m\u001b[1;33m(\u001b[0m\u001b[1;33m*\u001b[0m\u001b[0margs\u001b[0m\u001b[1;33m,\u001b[0m \u001b[1;33m**\u001b[0m\u001b[0mkwargs\u001b[0m\u001b[1;33m)\u001b[0m\u001b[1;33m\u001b[0m\u001b[1;33m\u001b[0m\u001b[0m\n\u001b[0m\u001b[0;32m     89\u001b[0m \u001b[1;33m\u001b[0m\u001b[0m\n\u001b[0;32m     90\u001b[0m         \u001b[0mwrapped\u001b[0m\u001b[1;33m.\u001b[0m\u001b[0m__doc__\u001b[0m \u001b[1;33m=\u001b[0m \u001b[0mself\u001b[0m\u001b[1;33m.\u001b[0m\u001b[0m_update_doc\u001b[0m\u001b[1;33m(\u001b[0m\u001b[0mwrapped\u001b[0m\u001b[1;33m.\u001b[0m\u001b[0m__doc__\u001b[0m\u001b[1;33m)\u001b[0m\u001b[1;33m\u001b[0m\u001b[1;33m\u001b[0m\u001b[0m\n",
      "\u001b[1;32m~\\Anaconda3\\envs\\DL\\lib\\site-packages\\sklearn\\metrics\\_plot\\roc_curve.py\u001b[0m in \u001b[0;36mplot_roc_curve\u001b[1;34m(estimator, X, y, sample_weight, drop_intermediate, response_method, name, ax, pos_label, **kwargs)\u001b[0m\n\u001b[0;32m    450\u001b[0m \u001b[1;33m\u001b[0m\u001b[0m\n\u001b[0;32m    451\u001b[0m     y_pred, pos_label = _get_response(\n\u001b[1;32m--> 452\u001b[1;33m         \u001b[0mX\u001b[0m\u001b[1;33m,\u001b[0m \u001b[0mestimator\u001b[0m\u001b[1;33m,\u001b[0m \u001b[0mresponse_method\u001b[0m\u001b[1;33m,\u001b[0m \u001b[0mpos_label\u001b[0m\u001b[1;33m=\u001b[0m\u001b[0mpos_label\u001b[0m\u001b[1;33m\u001b[0m\u001b[1;33m\u001b[0m\u001b[0m\n\u001b[0m\u001b[0;32m    453\u001b[0m     )\n\u001b[0;32m    454\u001b[0m \u001b[1;33m\u001b[0m\u001b[0m\n",
      "\u001b[1;32m~\\Anaconda3\\envs\\DL\\lib\\site-packages\\sklearn\\metrics\\_plot\\base.py\u001b[0m in \u001b[0;36m_get_response\u001b[1;34m(X, estimator, response_method, pos_label)\u001b[0m\n\u001b[0;32m     87\u001b[0m \u001b[1;33m\u001b[0m\u001b[0m\n\u001b[0;32m     88\u001b[0m     \u001b[1;32mif\u001b[0m \u001b[1;32mnot\u001b[0m \u001b[0mis_classifier\u001b[0m\u001b[1;33m(\u001b[0m\u001b[0mestimator\u001b[0m\u001b[1;33m)\u001b[0m\u001b[1;33m:\u001b[0m\u001b[1;33m\u001b[0m\u001b[1;33m\u001b[0m\u001b[0m\n\u001b[1;32m---> 89\u001b[1;33m         \u001b[1;32mraise\u001b[0m \u001b[0mValueError\u001b[0m\u001b[1;33m(\u001b[0m\u001b[0mclassification_error\u001b[0m\u001b[1;33m)\u001b[0m\u001b[1;33m\u001b[0m\u001b[1;33m\u001b[0m\u001b[0m\n\u001b[0m\u001b[0;32m     90\u001b[0m \u001b[1;33m\u001b[0m\u001b[0m\n\u001b[0;32m     91\u001b[0m     \u001b[0mprediction_method\u001b[0m \u001b[1;33m=\u001b[0m \u001b[0m_check_classifier_response_method\u001b[0m\u001b[1;33m(\u001b[0m\u001b[0mestimator\u001b[0m\u001b[1;33m,\u001b[0m \u001b[0mresponse_method\u001b[0m\u001b[1;33m)\u001b[0m\u001b[1;33m\u001b[0m\u001b[1;33m\u001b[0m\u001b[0m\n",
      "\u001b[1;31mValueError\u001b[0m: Expected 'estimator' to be a binary classifier, but got DataFrame"
     ]
    }
   ],
   "source": [
    "plot_roc_curve(df,xtest,ytest)"
   ]
  },
  {
   "cell_type": "markdown",
   "id": "c53eb846",
   "metadata": {},
   "source": [
    "## Tuning for KNN Classifier"
   ]
  },
  {
   "cell_type": "code",
   "execution_count": 218,
   "id": "bda960fd",
   "metadata": {},
   "outputs": [],
   "source": [
    "KNN3=KNeighborsClassifier()"
   ]
  },
  {
   "cell_type": "code",
   "execution_count": 219,
   "id": "5bb46049",
   "metadata": {},
   "outputs": [],
   "source": [
    "n_neighbors = [int(x) for x in np.linspace(start=40, stop=300, num=40)]\n"
   ]
  },
  {
   "cell_type": "code",
   "execution_count": 220,
   "id": "c616acb7",
   "metadata": {},
   "outputs": [
    {
     "data": {
      "text/plain": [
       "RandomizedSearchCV(cv=5, estimator=KNeighborsClassifier(), n_iter=250,\n",
       "                   param_distributions={'n_neighbors': [40, 46, 53, 60, 66, 73,\n",
       "                                                        80, 86, 93, 100, 106,\n",
       "                                                        113, 120, 126, 133, 140,\n",
       "                                                        146, 153, 160, 166, 173,\n",
       "                                                        180, 186, 193, 200, 206,\n",
       "                                                        213, 220, 226, 233, ...],\n",
       "                                        'weights': ['uniform', 'distance']})"
      ]
     },
     "execution_count": 220,
     "metadata": {},
     "output_type": "execute_result"
    }
   ],
   "source": [
    "RMSE2=RandomizedSearchCV(KNN3,grids,n_iter=250,cv=5)\n",
    "RMSE2"
   ]
  },
  {
   "cell_type": "code",
   "execution_count": 221,
   "id": "b77ecd30",
   "metadata": {},
   "outputs": [
    {
     "name": "stderr",
     "output_type": "stream",
     "text": [
      "C:\\Users\\fkari653\\Anaconda3\\envs\\DL\\lib\\site-packages\\sklearn\\model_selection\\_search.py:296: UserWarning: The total space of parameters 80 is smaller than n_iter=250. Running 80 iterations. For exhaustive searches, use GridSearchCV.\n",
      "  UserWarning,\n"
     ]
    },
    {
     "data": {
      "text/plain": [
       "RandomizedSearchCV(cv=5, estimator=KNeighborsClassifier(), n_iter=250,\n",
       "                   param_distributions={'n_neighbors': [40, 46, 53, 60, 66, 73,\n",
       "                                                        80, 86, 93, 100, 106,\n",
       "                                                        113, 120, 126, 133, 140,\n",
       "                                                        146, 153, 160, 166, 173,\n",
       "                                                        180, 186, 193, 200, 206,\n",
       "                                                        213, 220, 226, 233, ...],\n",
       "                                        'weights': ['uniform', 'distance']})"
      ]
     },
     "execution_count": 221,
     "metadata": {},
     "output_type": "execute_result"
    }
   ],
   "source": [
    "RMSE2.fit(xtrain,ytrain)"
   ]
  },
  {
   "cell_type": "code",
   "execution_count": 222,
   "id": "accb3a46",
   "metadata": {},
   "outputs": [
    {
     "data": {
      "text/plain": [
       "{'mean_fit_time': array([0.00460353, 0.00624876, 0.00937524, 0.00313034, 0.01712632,\n",
       "        0.0062562 , 0.0040781 , 0.00624924, 0.00624142, 0.00624909,\n",
       "        0.00674162, 0.00593681, 0.00412126, 0.00624995, 0.01172009,\n",
       "        0.00624762, 0.00624919, 0.00937181, 0.00312471, 0.00731268,\n",
       "        0.00312448, 0.0062324 , 0.        , 0.00624886, 0.00625525,\n",
       "        0.00119882, 0.00724559, 0.00259256, 0.00412979, 0.00908842,\n",
       "        0.00624776, 0.00412941, 0.00412216, 0.00119638, 0.00783134,\n",
       "        0.00572391, 0.00413027, 0.00625534, 0.00312438, 0.00624843,\n",
       "        0.        , 0.00391955, 0.00625014, 0.00937667, 0.00312366,\n",
       "        0.0156342 , 0.00937099, 0.00313034, 0.00759664, 0.00523362,\n",
       "        0.0071136 , 0.00340428, 0.00494828, 0.00512705, 0.0041121 ,\n",
       "        0.00935855, 0.00624876, 0.00936685, 0.01316013, 0.00312467,\n",
       "        0.00514026, 0.00312505, 0.00312471, 0.00312481, 0.0031251 ,\n",
       "        0.00624857, 0.00624971, 0.00624809, 0.00624952, 0.00312514,\n",
       "        0.00625291, 0.00624194, 0.00312481, 0.00625577, 0.003125  ,\n",
       "        0.        , 0.00844989, 0.00432105, 0.00101066, 0.00311785]),\n",
       " 'std_fit_time': array([4.53621883e-03, 7.65313704e-03, 7.65485060e-03, 6.26068115e-03,\n",
       "        2.99266765e-03, 7.66225676e-03, 3.50092768e-03, 7.65372105e-03,\n",
       "        7.64415266e-03, 7.65354595e-03, 8.29338547e-03, 5.91294843e-03,\n",
       "        6.06462097e-03, 7.65459706e-03, 6.05529144e-03, 7.65173558e-03,\n",
       "        7.65366277e-03, 7.65204725e-03, 6.24942780e-03, 4.99615774e-03,\n",
       "        6.24895096e-03, 7.63314126e-03, 0.00000000e+00, 7.65325417e-03,\n",
       "        7.66108557e-03, 2.39763260e-03, 7.07616270e-03, 3.31321254e-03,\n",
       "        6.06727941e-03, 7.61855492e-03, 7.65191082e-03, 6.06713981e-03,\n",
       "        6.06717476e-03, 2.39276886e-03, 6.97151726e-03, 5.75819316e-03,\n",
       "        6.08162570e-03, 7.66120377e-03, 6.24876022e-03, 7.65272850e-03,\n",
       "        0.00000000e+00, 7.83910751e-03, 7.65483068e-03, 7.65603218e-03,\n",
       "        6.24732971e-03, 1.75003784e-05, 7.65138570e-03, 6.26068115e-03,\n",
       "        7.51355026e-03, 5.70725023e-03, 4.25570027e-03, 2.87061050e-03,\n",
       "        5.72099526e-03, 5.72343929e-03, 6.04793469e-03, 7.64123325e-03,\n",
       "        7.65313711e-03, 7.64800834e-03, 4.92448868e-03, 6.24933243e-03,\n",
       "        5.71814156e-03, 6.25009537e-03, 6.24942780e-03, 6.24961853e-03,\n",
       "        6.25019073e-03, 7.65290392e-03, 7.65430510e-03, 7.65231958e-03,\n",
       "        7.65407144e-03, 6.25028610e-03, 7.65822151e-03, 7.64479296e-03,\n",
       "        6.24961853e-03, 7.66173127e-03, 6.25000000e-03, 0.00000000e+00,\n",
       "        6.19789933e-03, 6.10715798e-03, 2.02131271e-03, 6.23569489e-03]),\n",
       " 'mean_score_time': array([0.06144862, 0.01251302, 0.05310864, 0.01560154, 0.04720387,\n",
       "        0.01874728, 0.06528339, 0.01875305, 0.05936704, 0.01873846,\n",
       "        0.05936823, 0.02396398, 0.06855025, 0.02499447, 0.06652722,\n",
       "        0.03124447, 0.08435454, 0.02811937, 0.08455944, 0.0368319 ,\n",
       "        0.07187157, 0.03124442, 0.07810698, 0.03749161, 0.07910047,\n",
       "        0.04488578, 0.12407193, 0.06354313, 0.11856294, 0.05345068,\n",
       "        0.08435612, 0.04913125, 0.08942895, 0.05000634, 0.08771973,\n",
       "        0.05129976, 0.09184108, 0.04998932, 0.0874722 , 0.0531137 ,\n",
       "        0.0937346 , 0.05671978, 0.09059491, 0.04686737, 0.09372931,\n",
       "        0.04685283, 0.11871562, 0.05935483, 0.09781184, 0.06786804,\n",
       "        0.10445728, 0.07030606, 0.09928865, 0.06886678, 0.0989758 ,\n",
       "        0.07499633, 0.14209065, 0.07499595, 0.09772234, 0.07768664,\n",
       "        0.10737739, 0.07810555, 0.10747061, 0.07956305, 0.10934877,\n",
       "        0.07810645, 0.10934978, 0.08122454, 0.10935526, 0.08435383,\n",
       "        0.11457529, 0.08436918, 0.11872306, 0.08634591, 0.1156075 ,\n",
       "        0.09617786, 0.12361336, 0.09363022, 0.12214227, 0.09686632]),\n",
       " 'std_score_time': array([1.25155941e-02, 6.25657281e-03, 7.65613504e-03, 2.88699599e-05,\n",
       "        1.72919280e-03, 6.26771295e-03, 7.85797885e-03, 6.24670142e-03,\n",
       "        6.23302478e-03, 6.25912847e-03, 6.25068300e-03, 7.73738261e-03,\n",
       "        9.82392644e-03, 7.65475101e-03, 6.05675619e-03, 3.27042164e-06,\n",
       "        7.65442216e-03, 6.24671017e-03, 1.23840121e-02, 1.21227596e-02,\n",
       "        7.65079810e-03, 4.41857493e-05, 3.84939625e-05, 7.66872345e-03,\n",
       "        1.15151369e-02, 6.14330924e-03, 1.84179596e-02, 7.12945007e-03,\n",
       "        1.28473297e-02, 1.27909637e-02, 7.66611002e-03, 7.61142305e-03,\n",
       "        1.12502305e-02, 6.21971764e-03, 7.15980216e-03, 6.53826099e-03,\n",
       "        1.09610510e-02, 6.22972434e-03, 1.25011870e-02, 7.65301237e-03,\n",
       "        1.58634198e-05, 7.08586353e-03, 6.24630032e-03, 2.40048559e-05,\n",
       "        3.42659840e-06, 1.88093976e-05, 3.06033818e-02, 6.26237347e-03,\n",
       "        7.03642973e-03, 7.26040920e-03, 9.77938874e-03, 6.22834642e-03,\n",
       "        7.76896398e-03, 7.09836562e-03, 8.68228371e-03, 6.25736536e-03,\n",
       "        1.56977829e-02, 1.16765606e-02, 6.11885527e-03, 8.23892050e-04,\n",
       "        1.29481369e-02, 2.51743828e-05, 7.30597278e-03, 2.89531564e-03,\n",
       "        2.47307996e-05, 3.01032702e-05, 2.16209767e-05, 6.23126055e-03,\n",
       "        1.61333115e-05, 7.66856001e-03, 6.62513610e-03, 7.62709955e-03,\n",
       "        7.63763902e-03, 6.44785912e-03, 7.64773898e-03, 3.61331293e-03,\n",
       "        9.67074578e-03, 5.58855751e-03, 3.74515064e-03, 6.24160699e-03]),\n",
       " 'param_weights': masked_array(data=['uniform', 'distance', 'uniform', 'distance',\n",
       "                    'uniform', 'distance', 'uniform', 'distance',\n",
       "                    'uniform', 'distance', 'uniform', 'distance',\n",
       "                    'uniform', 'distance', 'uniform', 'distance',\n",
       "                    'uniform', 'distance', 'uniform', 'distance',\n",
       "                    'uniform', 'distance', 'uniform', 'distance',\n",
       "                    'uniform', 'distance', 'uniform', 'distance',\n",
       "                    'uniform', 'distance', 'uniform', 'distance',\n",
       "                    'uniform', 'distance', 'uniform', 'distance',\n",
       "                    'uniform', 'distance', 'uniform', 'distance',\n",
       "                    'uniform', 'distance', 'uniform', 'distance',\n",
       "                    'uniform', 'distance', 'uniform', 'distance',\n",
       "                    'uniform', 'distance', 'uniform', 'distance',\n",
       "                    'uniform', 'distance', 'uniform', 'distance',\n",
       "                    'uniform', 'distance', 'uniform', 'distance',\n",
       "                    'uniform', 'distance', 'uniform', 'distance',\n",
       "                    'uniform', 'distance', 'uniform', 'distance',\n",
       "                    'uniform', 'distance', 'uniform', 'distance',\n",
       "                    'uniform', 'distance', 'uniform', 'distance',\n",
       "                    'uniform', 'distance', 'uniform', 'distance'],\n",
       "              mask=[False, False, False, False, False, False, False, False,\n",
       "                    False, False, False, False, False, False, False, False,\n",
       "                    False, False, False, False, False, False, False, False,\n",
       "                    False, False, False, False, False, False, False, False,\n",
       "                    False, False, False, False, False, False, False, False,\n",
       "                    False, False, False, False, False, False, False, False,\n",
       "                    False, False, False, False, False, False, False, False,\n",
       "                    False, False, False, False, False, False, False, False,\n",
       "                    False, False, False, False, False, False, False, False,\n",
       "                    False, False, False, False, False, False, False, False],\n",
       "        fill_value='?',\n",
       "             dtype=object),\n",
       " 'param_n_neighbors': masked_array(data=[40, 40, 46, 46, 53, 53, 60, 60, 66, 66, 73, 73, 80, 80,\n",
       "                    86, 86, 93, 93, 100, 100, 106, 106, 113, 113, 120, 120,\n",
       "                    126, 126, 133, 133, 140, 140, 146, 146, 153, 153, 160,\n",
       "                    160, 166, 166, 173, 173, 180, 180, 186, 186, 193, 193,\n",
       "                    200, 200, 206, 206, 213, 213, 220, 220, 226, 226, 233,\n",
       "                    233, 240, 240, 246, 246, 253, 253, 260, 260, 266, 266,\n",
       "                    273, 273, 280, 280, 286, 286, 293, 293, 300, 300],\n",
       "              mask=[False, False, False, False, False, False, False, False,\n",
       "                    False, False, False, False, False, False, False, False,\n",
       "                    False, False, False, False, False, False, False, False,\n",
       "                    False, False, False, False, False, False, False, False,\n",
       "                    False, False, False, False, False, False, False, False,\n",
       "                    False, False, False, False, False, False, False, False,\n",
       "                    False, False, False, False, False, False, False, False,\n",
       "                    False, False, False, False, False, False, False, False,\n",
       "                    False, False, False, False, False, False, False, False,\n",
       "                    False, False, False, False, False, False, False, False],\n",
       "        fill_value='?',\n",
       "             dtype=object),\n",
       " 'params': [{'weights': 'uniform', 'n_neighbors': 40},\n",
       "  {'weights': 'distance', 'n_neighbors': 40},\n",
       "  {'weights': 'uniform', 'n_neighbors': 46},\n",
       "  {'weights': 'distance', 'n_neighbors': 46},\n",
       "  {'weights': 'uniform', 'n_neighbors': 53},\n",
       "  {'weights': 'distance', 'n_neighbors': 53},\n",
       "  {'weights': 'uniform', 'n_neighbors': 60},\n",
       "  {'weights': 'distance', 'n_neighbors': 60},\n",
       "  {'weights': 'uniform', 'n_neighbors': 66},\n",
       "  {'weights': 'distance', 'n_neighbors': 66},\n",
       "  {'weights': 'uniform', 'n_neighbors': 73},\n",
       "  {'weights': 'distance', 'n_neighbors': 73},\n",
       "  {'weights': 'uniform', 'n_neighbors': 80},\n",
       "  {'weights': 'distance', 'n_neighbors': 80},\n",
       "  {'weights': 'uniform', 'n_neighbors': 86},\n",
       "  {'weights': 'distance', 'n_neighbors': 86},\n",
       "  {'weights': 'uniform', 'n_neighbors': 93},\n",
       "  {'weights': 'distance', 'n_neighbors': 93},\n",
       "  {'weights': 'uniform', 'n_neighbors': 100},\n",
       "  {'weights': 'distance', 'n_neighbors': 100},\n",
       "  {'weights': 'uniform', 'n_neighbors': 106},\n",
       "  {'weights': 'distance', 'n_neighbors': 106},\n",
       "  {'weights': 'uniform', 'n_neighbors': 113},\n",
       "  {'weights': 'distance', 'n_neighbors': 113},\n",
       "  {'weights': 'uniform', 'n_neighbors': 120},\n",
       "  {'weights': 'distance', 'n_neighbors': 120},\n",
       "  {'weights': 'uniform', 'n_neighbors': 126},\n",
       "  {'weights': 'distance', 'n_neighbors': 126},\n",
       "  {'weights': 'uniform', 'n_neighbors': 133},\n",
       "  {'weights': 'distance', 'n_neighbors': 133},\n",
       "  {'weights': 'uniform', 'n_neighbors': 140},\n",
       "  {'weights': 'distance', 'n_neighbors': 140},\n",
       "  {'weights': 'uniform', 'n_neighbors': 146},\n",
       "  {'weights': 'distance', 'n_neighbors': 146},\n",
       "  {'weights': 'uniform', 'n_neighbors': 153},\n",
       "  {'weights': 'distance', 'n_neighbors': 153},\n",
       "  {'weights': 'uniform', 'n_neighbors': 160},\n",
       "  {'weights': 'distance', 'n_neighbors': 160},\n",
       "  {'weights': 'uniform', 'n_neighbors': 166},\n",
       "  {'weights': 'distance', 'n_neighbors': 166},\n",
       "  {'weights': 'uniform', 'n_neighbors': 173},\n",
       "  {'weights': 'distance', 'n_neighbors': 173},\n",
       "  {'weights': 'uniform', 'n_neighbors': 180},\n",
       "  {'weights': 'distance', 'n_neighbors': 180},\n",
       "  {'weights': 'uniform', 'n_neighbors': 186},\n",
       "  {'weights': 'distance', 'n_neighbors': 186},\n",
       "  {'weights': 'uniform', 'n_neighbors': 193},\n",
       "  {'weights': 'distance', 'n_neighbors': 193},\n",
       "  {'weights': 'uniform', 'n_neighbors': 200},\n",
       "  {'weights': 'distance', 'n_neighbors': 200},\n",
       "  {'weights': 'uniform', 'n_neighbors': 206},\n",
       "  {'weights': 'distance', 'n_neighbors': 206},\n",
       "  {'weights': 'uniform', 'n_neighbors': 213},\n",
       "  {'weights': 'distance', 'n_neighbors': 213},\n",
       "  {'weights': 'uniform', 'n_neighbors': 220},\n",
       "  {'weights': 'distance', 'n_neighbors': 220},\n",
       "  {'weights': 'uniform', 'n_neighbors': 226},\n",
       "  {'weights': 'distance', 'n_neighbors': 226},\n",
       "  {'weights': 'uniform', 'n_neighbors': 233},\n",
       "  {'weights': 'distance', 'n_neighbors': 233},\n",
       "  {'weights': 'uniform', 'n_neighbors': 240},\n",
       "  {'weights': 'distance', 'n_neighbors': 240},\n",
       "  {'weights': 'uniform', 'n_neighbors': 246},\n",
       "  {'weights': 'distance', 'n_neighbors': 246},\n",
       "  {'weights': 'uniform', 'n_neighbors': 253},\n",
       "  {'weights': 'distance', 'n_neighbors': 253},\n",
       "  {'weights': 'uniform', 'n_neighbors': 260},\n",
       "  {'weights': 'distance', 'n_neighbors': 260},\n",
       "  {'weights': 'uniform', 'n_neighbors': 266},\n",
       "  {'weights': 'distance', 'n_neighbors': 266},\n",
       "  {'weights': 'uniform', 'n_neighbors': 273},\n",
       "  {'weights': 'distance', 'n_neighbors': 273},\n",
       "  {'weights': 'uniform', 'n_neighbors': 280},\n",
       "  {'weights': 'distance', 'n_neighbors': 280},\n",
       "  {'weights': 'uniform', 'n_neighbors': 286},\n",
       "  {'weights': 'distance', 'n_neighbors': 286},\n",
       "  {'weights': 'uniform', 'n_neighbors': 293},\n",
       "  {'weights': 'distance', 'n_neighbors': 293},\n",
       "  {'weights': 'uniform', 'n_neighbors': 300},\n",
       "  {'weights': 'distance', 'n_neighbors': 300}],\n",
       " 'split0_test_score': array([0.89983306, 0.89899833, 0.90317195, 0.90317195, 0.90233723,\n",
       "        0.9015025 , 0.90066778, 0.90233723, 0.90066778, 0.90317195,\n",
       "        0.89899833, 0.9015025 , 0.89816361, 0.9015025 , 0.89816361,\n",
       "        0.89983306, 0.89732888, 0.89983306, 0.89649416, 0.89983306,\n",
       "        0.89732888, 0.89899833, 0.89649416, 0.9015025 , 0.89732888,\n",
       "        0.90066778, 0.89565943, 0.89983306, 0.89649416, 0.89732888,\n",
       "        0.89649416, 0.89565943, 0.89649416, 0.89649416, 0.89398998,\n",
       "        0.89649416, 0.89315526, 0.89649416, 0.89398998, 0.89565943,\n",
       "        0.89232053, 0.89649416, 0.89148581, 0.89649416, 0.89065109,\n",
       "        0.89565943, 0.89065109, 0.89482471, 0.89065109, 0.89482471,\n",
       "        0.89065109, 0.89482471, 0.88981636, 0.89398998, 0.88981636,\n",
       "        0.89398998, 0.88981636, 0.89398998, 0.88898164, 0.89398998,\n",
       "        0.88898164, 0.89398998, 0.88814691, 0.89398998, 0.88731219,\n",
       "        0.89398998, 0.88731219, 0.89398998, 0.88981636, 0.89482471,\n",
       "        0.88981636, 0.89482471, 0.88814691, 0.89482471, 0.88898164,\n",
       "        0.89482471, 0.88898164, 0.89482471, 0.88731219, 0.89482471]),\n",
       " 'split1_test_score': array([0.9115192 , 0.91318865, 0.91235392, 0.91318865, 0.91318865,\n",
       "        0.91318865, 0.9115192 , 0.91402337, 0.90984975, 0.91318865,\n",
       "        0.9115192 , 0.91402337, 0.91318865, 0.91402337, 0.9148581 ,\n",
       "        0.91402337, 0.91402337, 0.91569282, 0.91318865, 0.9148581 ,\n",
       "        0.91318865, 0.91402337, 0.91235392, 0.91318865, 0.9115192 ,\n",
       "        0.91068447, 0.91068447, 0.91068447, 0.90901503, 0.91068447,\n",
       "        0.90901503, 0.91068447, 0.90901503, 0.91068447, 0.90901503,\n",
       "        0.9115192 , 0.90734558, 0.9115192 , 0.90567613, 0.9115192 ,\n",
       "        0.90567613, 0.91068447, 0.90651085, 0.91068447, 0.90567613,\n",
       "        0.91068447, 0.90567613, 0.91068447, 0.90567613, 0.91068447,\n",
       "        0.90651085, 0.9115192 , 0.90651085, 0.90984975, 0.90734558,\n",
       "        0.9115192 , 0.90734558, 0.91068447, 0.90734558, 0.91068447,\n",
       "        0.90651085, 0.90984975, 0.90651085, 0.90901503, 0.90651085,\n",
       "        0.90984975, 0.90651085, 0.90984975, 0.90651085, 0.90984975,\n",
       "        0.9048414 , 0.90901503, 0.90317195, 0.90984975, 0.90317195,\n",
       "        0.90901503, 0.90400668, 0.90901503, 0.90400668, 0.91068447]),\n",
       " 'split2_test_score': array([0.91402337, 0.91068447, 0.91569282, 0.91235392, 0.91235392,\n",
       "        0.91318865, 0.9148581 , 0.91402337, 0.91402337, 0.91318865,\n",
       "        0.91235392, 0.91318865, 0.91402337, 0.91318865, 0.91235392,\n",
       "        0.91318865, 0.91235392, 0.91235392, 0.91318865, 0.91318865,\n",
       "        0.91235392, 0.91235392, 0.91402337, 0.91235392, 0.91318865,\n",
       "        0.91235392, 0.91318865, 0.9115192 , 0.91235392, 0.9115192 ,\n",
       "        0.91318865, 0.9115192 , 0.9115192 , 0.91068447, 0.91068447,\n",
       "        0.91068447, 0.90984975, 0.91068447, 0.90901503, 0.9115192 ,\n",
       "        0.90901503, 0.91068447, 0.9081803 , 0.91068447, 0.90651085,\n",
       "        0.9115192 , 0.90901503, 0.9115192 , 0.90901503, 0.9115192 ,\n",
       "        0.90901503, 0.9115192 , 0.9081803 , 0.9115192 , 0.90734558,\n",
       "        0.9115192 , 0.9081803 , 0.9115192 , 0.9081803 , 0.9115192 ,\n",
       "        0.90567613, 0.9115192 , 0.90734558, 0.9115192 , 0.90734558,\n",
       "        0.90984975, 0.90651085, 0.91068447, 0.90567613, 0.9115192 ,\n",
       "        0.9048414 , 0.91068447, 0.90400668, 0.91068447, 0.9048414 ,\n",
       "        0.90984975, 0.9048414 , 0.90901503, 0.9048414 , 0.90734558]),\n",
       " 'split3_test_score': array([0.90893901, 0.91311612, 0.90643275, 0.9122807 , 0.90810359,\n",
       "        0.9122807 , 0.90559733, 0.90977444, 0.9047619 , 0.90893901,\n",
       "        0.9047619 , 0.90893901, 0.90392648, 0.90810359, 0.90559733,\n",
       "        0.90810359, 0.9047619 , 0.90810359, 0.90559733, 0.90726817,\n",
       "        0.9047619 , 0.90810359, 0.90392648, 0.90726817, 0.90559733,\n",
       "        0.90643275, 0.90559733, 0.90726817, 0.90643275, 0.90726817,\n",
       "        0.9047619 , 0.90810359, 0.90559733, 0.90726817, 0.90643275,\n",
       "        0.90810359, 0.90643275, 0.90726817, 0.9047619 , 0.90726817,\n",
       "        0.90726817, 0.90643275, 0.90726817, 0.90643275, 0.90643275,\n",
       "        0.90559733, 0.90392648, 0.90643275, 0.90392648, 0.90559733,\n",
       "        0.90643275, 0.90559733, 0.90392648, 0.90559733, 0.90643275,\n",
       "        0.90559733, 0.9047619 , 0.90559733, 0.90643275, 0.90559733,\n",
       "        0.90559733, 0.90559733, 0.90559733, 0.90559733, 0.90559733,\n",
       "        0.90559733, 0.90559733, 0.90559733, 0.90643275, 0.90559733,\n",
       "        0.90559733, 0.90559733, 0.90559733, 0.90559733, 0.90392648,\n",
       "        0.90559733, 0.90392648, 0.90559733, 0.90559733, 0.90559733]),\n",
       " 'split4_test_score': array([0.9273183 , 0.92898914, 0.92648287, 0.92982456, 0.92982456,\n",
       "        0.92898914, 0.93149541, 0.92982456, 0.93149541, 0.92982456,\n",
       "        0.93233083, 0.92982456, 0.93149541, 0.92982456, 0.93149541,\n",
       "        0.93065998, 0.93233083, 0.93065998, 0.93233083, 0.93065998,\n",
       "        0.93233083, 0.92982456, 0.93233083, 0.93065998, 0.93233083,\n",
       "        0.93065998, 0.93316625, 0.93065998, 0.93400167, 0.93149541,\n",
       "        0.93400167, 0.93065998, 0.93149541, 0.93065998, 0.93316625,\n",
       "        0.93065998, 0.93065998, 0.93065998, 0.93065998, 0.93065998,\n",
       "        0.93233083, 0.93233083, 0.93065998, 0.93233083, 0.93065998,\n",
       "        0.93149541, 0.93065998, 0.93149541, 0.92982456, 0.93233083,\n",
       "        0.92982456, 0.93149541, 0.92898914, 0.93233083, 0.92898914,\n",
       "        0.93400167, 0.92898914, 0.93483709, 0.92898914, 0.93483709,\n",
       "        0.92982456, 0.93400167, 0.92982456, 0.93400167, 0.92898914,\n",
       "        0.93400167, 0.92898914, 0.93400167, 0.92982456, 0.93316625,\n",
       "        0.92982456, 0.93400167, 0.92898914, 0.93400167, 0.92898914,\n",
       "        0.93400167, 0.92898914, 0.93316625, 0.92898914, 0.93400167]),\n",
       " 'mean_test_score': array([0.91232659, 0.91299534, 0.91282686, 0.91416396, 0.91316159,\n",
       "        0.91382993, 0.91282756, 0.91399659, 0.91215964, 0.91366256,\n",
       "        0.91199284, 0.91349562, 0.9121595 , 0.91332854, 0.91249367,\n",
       "        0.91316173, 0.91215978, 0.91332868, 0.91215992, 0.91316159,\n",
       "        0.91199284, 0.91266076, 0.91182575, 0.91299465, 0.91199298,\n",
       "        0.91215978, 0.91165923, 0.91199298, 0.9116595 , 0.91165923,\n",
       "        0.91149228, 0.91132534, 0.91082422, 0.91115825, 0.9106577 ,\n",
       "        0.91149228, 0.90948866, 0.9113252 , 0.9088206 , 0.9113252 ,\n",
       "        0.90932214, 0.91132534, 0.90882102, 0.91132534, 0.90798616,\n",
       "        0.91099117, 0.90798574, 0.91099131, 0.90781866, 0.91099131,\n",
       "        0.90848685, 0.91099117, 0.90748463, 0.91065742, 0.90798588,\n",
       "        0.91132548, 0.90781866, 0.91132562, 0.90798588, 0.91132562,\n",
       "        0.9073181 , 0.91099159, 0.90748505, 0.91082464, 0.90715102,\n",
       "        0.9106577 , 0.90698407, 0.91082464, 0.90765213, 0.91099145,\n",
       "        0.90698421, 0.91082464, 0.9059824 , 0.91099159, 0.90598212,\n",
       "        0.9106577 , 0.90614907, 0.91032367, 0.90614935, 0.91049075]),\n",
       " 'std_test_score': array([0.00889771, 0.00956148, 0.00811204, 0.008647  , 0.00917669,\n",
       "        0.00877485, 0.01053053, 0.00899215, 0.01067212, 0.00887721,\n",
       "        0.0112706 , 0.0092909 , 0.01133206, 0.00937845, 0.01113181,\n",
       "        0.01010119, 0.01170526, 0.01016215, 0.01181072, 0.0102123 ,\n",
       "        0.01168343, 0.01003969, 0.01202516, 0.00977112, 0.01158639,\n",
       "        0.01009294, 0.01231732, 0.01020374, 0.01236086, 0.0111273 ,\n",
       "        0.01253737, 0.01122566, 0.0115215 , 0.01105382, 0.01268855,\n",
       "        0.01099528, 0.01207532, 0.01105171, 0.0120275 , 0.01127639,\n",
       "        0.01293105, 0.01171284, 0.01253482, 0.01171284, 0.0128416 ,\n",
       "        0.01170429, 0.01294205, 0.0118569 , 0.01265034, 0.0122164 ,\n",
       "        0.01250452, 0.01192836, 0.01255949, 0.0124462 , 0.01244589,\n",
       "        0.01302011, 0.01250576, 0.01331597, 0.01268982, 0.01331597,\n",
       "        0.01303131, 0.01303226, 0.01324801, 0.01305115, 0.01321624,\n",
       "        0.01303585, 0.013218  , 0.01302978, 0.0127783 , 0.01252009,\n",
       "        0.01286486, 0.01283582, 0.01311003, 0.01281661, 0.01289778,\n",
       "        0.01284199, 0.01286569, 0.01255201, 0.01328985, 0.0129001 ]),\n",
       " 'rank_test_score': array([17, 11, 14,  1,  9,  3, 13,  2, 21,  4, 25,  5, 22,  7, 16,  8, 19,\n",
       "         6, 18, 10, 25, 15, 27, 12, 23, 19, 29, 23, 28, 29, 31, 38, 52, 41,\n",
       "        53, 31, 59, 39, 62, 39, 60, 36, 61, 36, 64, 47, 67, 45, 68, 46, 63,\n",
       "        47, 72, 56, 65, 35, 69, 33, 65, 33, 73, 42, 71, 51, 74, 53, 76, 49,\n",
       "        70, 44, 75, 49, 79, 42, 80, 53, 78, 58, 77, 57])}"
      ]
     },
     "execution_count": 222,
     "metadata": {},
     "output_type": "execute_result"
    }
   ],
   "source": [
    "RMSE2.cv_results_"
   ]
  },
  {
   "cell_type": "code",
   "execution_count": 223,
   "id": "1682f5b6",
   "metadata": {},
   "outputs": [
    {
     "data": {
      "text/html": [
       "<div>\n",
       "<style scoped>\n",
       "    .dataframe tbody tr th:only-of-type {\n",
       "        vertical-align: middle;\n",
       "    }\n",
       "\n",
       "    .dataframe tbody tr th {\n",
       "        vertical-align: top;\n",
       "    }\n",
       "\n",
       "    .dataframe thead th {\n",
       "        text-align: right;\n",
       "    }\n",
       "</style>\n",
       "<table border=\"1\" class=\"dataframe\">\n",
       "  <thead>\n",
       "    <tr style=\"text-align: right;\">\n",
       "      <th></th>\n",
       "      <th>mean_fit_time</th>\n",
       "      <th>std_fit_time</th>\n",
       "      <th>mean_score_time</th>\n",
       "      <th>std_score_time</th>\n",
       "      <th>param_weights</th>\n",
       "      <th>param_n_neighbors</th>\n",
       "      <th>params</th>\n",
       "      <th>split0_test_score</th>\n",
       "      <th>split1_test_score</th>\n",
       "      <th>split2_test_score</th>\n",
       "      <th>split3_test_score</th>\n",
       "      <th>split4_test_score</th>\n",
       "      <th>mean_test_score</th>\n",
       "      <th>std_test_score</th>\n",
       "      <th>rank_test_score</th>\n",
       "    </tr>\n",
       "  </thead>\n",
       "  <tbody>\n",
       "    <tr>\n",
       "      <th>0</th>\n",
       "      <td>0.004604</td>\n",
       "      <td>0.004536</td>\n",
       "      <td>0.061449</td>\n",
       "      <td>0.012516</td>\n",
       "      <td>uniform</td>\n",
       "      <td>40</td>\n",
       "      <td>{'weights': 'uniform', 'n_neighbors': 40}</td>\n",
       "      <td>0.899833</td>\n",
       "      <td>0.911519</td>\n",
       "      <td>0.914023</td>\n",
       "      <td>0.908939</td>\n",
       "      <td>0.927318</td>\n",
       "      <td>0.912327</td>\n",
       "      <td>0.008898</td>\n",
       "      <td>17</td>\n",
       "    </tr>\n",
       "    <tr>\n",
       "      <th>1</th>\n",
       "      <td>0.006249</td>\n",
       "      <td>0.007653</td>\n",
       "      <td>0.012513</td>\n",
       "      <td>0.006257</td>\n",
       "      <td>distance</td>\n",
       "      <td>40</td>\n",
       "      <td>{'weights': 'distance', 'n_neighbors': 40}</td>\n",
       "      <td>0.898998</td>\n",
       "      <td>0.913189</td>\n",
       "      <td>0.910684</td>\n",
       "      <td>0.913116</td>\n",
       "      <td>0.928989</td>\n",
       "      <td>0.912995</td>\n",
       "      <td>0.009561</td>\n",
       "      <td>11</td>\n",
       "    </tr>\n",
       "    <tr>\n",
       "      <th>2</th>\n",
       "      <td>0.009375</td>\n",
       "      <td>0.007655</td>\n",
       "      <td>0.053109</td>\n",
       "      <td>0.007656</td>\n",
       "      <td>uniform</td>\n",
       "      <td>46</td>\n",
       "      <td>{'weights': 'uniform', 'n_neighbors': 46}</td>\n",
       "      <td>0.903172</td>\n",
       "      <td>0.912354</td>\n",
       "      <td>0.915693</td>\n",
       "      <td>0.906433</td>\n",
       "      <td>0.926483</td>\n",
       "      <td>0.912827</td>\n",
       "      <td>0.008112</td>\n",
       "      <td>14</td>\n",
       "    </tr>\n",
       "    <tr>\n",
       "      <th>3</th>\n",
       "      <td>0.003130</td>\n",
       "      <td>0.006261</td>\n",
       "      <td>0.015602</td>\n",
       "      <td>0.000029</td>\n",
       "      <td>distance</td>\n",
       "      <td>46</td>\n",
       "      <td>{'weights': 'distance', 'n_neighbors': 46}</td>\n",
       "      <td>0.903172</td>\n",
       "      <td>0.913189</td>\n",
       "      <td>0.912354</td>\n",
       "      <td>0.912281</td>\n",
       "      <td>0.929825</td>\n",
       "      <td>0.914164</td>\n",
       "      <td>0.008647</td>\n",
       "      <td>1</td>\n",
       "    </tr>\n",
       "    <tr>\n",
       "      <th>4</th>\n",
       "      <td>0.017126</td>\n",
       "      <td>0.002993</td>\n",
       "      <td>0.047204</td>\n",
       "      <td>0.001729</td>\n",
       "      <td>uniform</td>\n",
       "      <td>53</td>\n",
       "      <td>{'weights': 'uniform', 'n_neighbors': 53}</td>\n",
       "      <td>0.902337</td>\n",
       "      <td>0.913189</td>\n",
       "      <td>0.912354</td>\n",
       "      <td>0.908104</td>\n",
       "      <td>0.929825</td>\n",
       "      <td>0.913162</td>\n",
       "      <td>0.009177</td>\n",
       "      <td>9</td>\n",
       "    </tr>\n",
       "    <tr>\n",
       "      <th>...</th>\n",
       "      <td>...</td>\n",
       "      <td>...</td>\n",
       "      <td>...</td>\n",
       "      <td>...</td>\n",
       "      <td>...</td>\n",
       "      <td>...</td>\n",
       "      <td>...</td>\n",
       "      <td>...</td>\n",
       "      <td>...</td>\n",
       "      <td>...</td>\n",
       "      <td>...</td>\n",
       "      <td>...</td>\n",
       "      <td>...</td>\n",
       "      <td>...</td>\n",
       "      <td>...</td>\n",
       "    </tr>\n",
       "    <tr>\n",
       "      <th>75</th>\n",
       "      <td>0.000000</td>\n",
       "      <td>0.000000</td>\n",
       "      <td>0.096178</td>\n",
       "      <td>0.003613</td>\n",
       "      <td>distance</td>\n",
       "      <td>286</td>\n",
       "      <td>{'weights': 'distance', 'n_neighbors': 286}</td>\n",
       "      <td>0.894825</td>\n",
       "      <td>0.909015</td>\n",
       "      <td>0.909850</td>\n",
       "      <td>0.905597</td>\n",
       "      <td>0.934002</td>\n",
       "      <td>0.910658</td>\n",
       "      <td>0.012842</td>\n",
       "      <td>53</td>\n",
       "    </tr>\n",
       "    <tr>\n",
       "      <th>76</th>\n",
       "      <td>0.008450</td>\n",
       "      <td>0.006198</td>\n",
       "      <td>0.123613</td>\n",
       "      <td>0.009671</td>\n",
       "      <td>uniform</td>\n",
       "      <td>293</td>\n",
       "      <td>{'weights': 'uniform', 'n_neighbors': 293}</td>\n",
       "      <td>0.888982</td>\n",
       "      <td>0.904007</td>\n",
       "      <td>0.904841</td>\n",
       "      <td>0.903926</td>\n",
       "      <td>0.928989</td>\n",
       "      <td>0.906149</td>\n",
       "      <td>0.012866</td>\n",
       "      <td>78</td>\n",
       "    </tr>\n",
       "    <tr>\n",
       "      <th>77</th>\n",
       "      <td>0.004321</td>\n",
       "      <td>0.006107</td>\n",
       "      <td>0.093630</td>\n",
       "      <td>0.005589</td>\n",
       "      <td>distance</td>\n",
       "      <td>293</td>\n",
       "      <td>{'weights': 'distance', 'n_neighbors': 293}</td>\n",
       "      <td>0.894825</td>\n",
       "      <td>0.909015</td>\n",
       "      <td>0.909015</td>\n",
       "      <td>0.905597</td>\n",
       "      <td>0.933166</td>\n",
       "      <td>0.910324</td>\n",
       "      <td>0.012552</td>\n",
       "      <td>58</td>\n",
       "    </tr>\n",
       "    <tr>\n",
       "      <th>78</th>\n",
       "      <td>0.001011</td>\n",
       "      <td>0.002021</td>\n",
       "      <td>0.122142</td>\n",
       "      <td>0.003745</td>\n",
       "      <td>uniform</td>\n",
       "      <td>300</td>\n",
       "      <td>{'weights': 'uniform', 'n_neighbors': 300}</td>\n",
       "      <td>0.887312</td>\n",
       "      <td>0.904007</td>\n",
       "      <td>0.904841</td>\n",
       "      <td>0.905597</td>\n",
       "      <td>0.928989</td>\n",
       "      <td>0.906149</td>\n",
       "      <td>0.013290</td>\n",
       "      <td>77</td>\n",
       "    </tr>\n",
       "    <tr>\n",
       "      <th>79</th>\n",
       "      <td>0.003118</td>\n",
       "      <td>0.006236</td>\n",
       "      <td>0.096866</td>\n",
       "      <td>0.006242</td>\n",
       "      <td>distance</td>\n",
       "      <td>300</td>\n",
       "      <td>{'weights': 'distance', 'n_neighbors': 300}</td>\n",
       "      <td>0.894825</td>\n",
       "      <td>0.910684</td>\n",
       "      <td>0.907346</td>\n",
       "      <td>0.905597</td>\n",
       "      <td>0.934002</td>\n",
       "      <td>0.910491</td>\n",
       "      <td>0.012900</td>\n",
       "      <td>57</td>\n",
       "    </tr>\n",
       "  </tbody>\n",
       "</table>\n",
       "<p>80 rows × 15 columns</p>\n",
       "</div>"
      ],
      "text/plain": [
       "    mean_fit_time  std_fit_time  mean_score_time  std_score_time  \\\n",
       "0        0.004604      0.004536         0.061449        0.012516   \n",
       "1        0.006249      0.007653         0.012513        0.006257   \n",
       "2        0.009375      0.007655         0.053109        0.007656   \n",
       "3        0.003130      0.006261         0.015602        0.000029   \n",
       "4        0.017126      0.002993         0.047204        0.001729   \n",
       "..            ...           ...              ...             ...   \n",
       "75       0.000000      0.000000         0.096178        0.003613   \n",
       "76       0.008450      0.006198         0.123613        0.009671   \n",
       "77       0.004321      0.006107         0.093630        0.005589   \n",
       "78       0.001011      0.002021         0.122142        0.003745   \n",
       "79       0.003118      0.006236         0.096866        0.006242   \n",
       "\n",
       "   param_weights param_n_neighbors  \\\n",
       "0        uniform                40   \n",
       "1       distance                40   \n",
       "2        uniform                46   \n",
       "3       distance                46   \n",
       "4        uniform                53   \n",
       "..           ...               ...   \n",
       "75      distance               286   \n",
       "76       uniform               293   \n",
       "77      distance               293   \n",
       "78       uniform               300   \n",
       "79      distance               300   \n",
       "\n",
       "                                         params  split0_test_score  \\\n",
       "0     {'weights': 'uniform', 'n_neighbors': 40}           0.899833   \n",
       "1    {'weights': 'distance', 'n_neighbors': 40}           0.898998   \n",
       "2     {'weights': 'uniform', 'n_neighbors': 46}           0.903172   \n",
       "3    {'weights': 'distance', 'n_neighbors': 46}           0.903172   \n",
       "4     {'weights': 'uniform', 'n_neighbors': 53}           0.902337   \n",
       "..                                          ...                ...   \n",
       "75  {'weights': 'distance', 'n_neighbors': 286}           0.894825   \n",
       "76   {'weights': 'uniform', 'n_neighbors': 293}           0.888982   \n",
       "77  {'weights': 'distance', 'n_neighbors': 293}           0.894825   \n",
       "78   {'weights': 'uniform', 'n_neighbors': 300}           0.887312   \n",
       "79  {'weights': 'distance', 'n_neighbors': 300}           0.894825   \n",
       "\n",
       "    split1_test_score  split2_test_score  split3_test_score  \\\n",
       "0            0.911519           0.914023           0.908939   \n",
       "1            0.913189           0.910684           0.913116   \n",
       "2            0.912354           0.915693           0.906433   \n",
       "3            0.913189           0.912354           0.912281   \n",
       "4            0.913189           0.912354           0.908104   \n",
       "..                ...                ...                ...   \n",
       "75           0.909015           0.909850           0.905597   \n",
       "76           0.904007           0.904841           0.903926   \n",
       "77           0.909015           0.909015           0.905597   \n",
       "78           0.904007           0.904841           0.905597   \n",
       "79           0.910684           0.907346           0.905597   \n",
       "\n",
       "    split4_test_score  mean_test_score  std_test_score  rank_test_score  \n",
       "0            0.927318         0.912327        0.008898               17  \n",
       "1            0.928989         0.912995        0.009561               11  \n",
       "2            0.926483         0.912827        0.008112               14  \n",
       "3            0.929825         0.914164        0.008647                1  \n",
       "4            0.929825         0.913162        0.009177                9  \n",
       "..                ...              ...             ...              ...  \n",
       "75           0.934002         0.910658        0.012842               53  \n",
       "76           0.928989         0.906149        0.012866               78  \n",
       "77           0.933166         0.910324        0.012552               58  \n",
       "78           0.928989         0.906149        0.013290               77  \n",
       "79           0.934002         0.910491        0.012900               57  \n",
       "\n",
       "[80 rows x 15 columns]"
      ]
     },
     "execution_count": 223,
     "metadata": {},
     "output_type": "execute_result"
    }
   ],
   "source": [
    "results=pd.DataFrame(RMSE2.cv_results_)\n",
    "results"
   ]
  },
  {
   "cell_type": "code",
   "execution_count": 224,
   "id": "e4b3a870",
   "metadata": {},
   "outputs": [
    {
     "data": {
      "text/plain": [
       "0.9141639574729812"
      ]
     },
     "execution_count": 224,
     "metadata": {},
     "output_type": "execute_result"
    }
   ],
   "source": [
    "RMSE2.best_score_"
   ]
  },
  {
   "cell_type": "code",
   "execution_count": 225,
   "id": "976a1760",
   "metadata": {},
   "outputs": [
    {
     "data": {
      "text/plain": [
       "{'weights': 'distance', 'n_neighbors': 46}"
      ]
     },
     "execution_count": 225,
     "metadata": {},
     "output_type": "execute_result"
    }
   ],
   "source": [
    "RMSE2.best_params_"
   ]
  },
  {
   "cell_type": "code",
   "execution_count": 226,
   "id": "db2b02b1",
   "metadata": {},
   "outputs": [
    {
     "data": {
      "text/plain": [
       "KNeighborsClassifier(n_neighbors=46, weights='distance')"
      ]
     },
     "execution_count": 226,
     "metadata": {},
     "output_type": "execute_result"
    }
   ],
   "source": [
    "Best=RMSE2.best_estimator_\n",
    "Best"
   ]
  },
  {
   "cell_type": "code",
   "execution_count": 227,
   "id": "55be749b",
   "metadata": {},
   "outputs": [
    {
     "data": {
      "text/plain": [
       "0.9213089209193611"
      ]
     },
     "execution_count": 227,
     "metadata": {},
     "output_type": "execute_result"
    }
   ],
   "source": [
    "Best.score(xtest,ytest)"
   ]
  },
  {
   "cell_type": "code",
   "execution_count": 228,
   "id": "96198c12",
   "metadata": {},
   "outputs": [],
   "source": [
    "from sklearn.neighbors import NearestNeighbors\n",
    " "
   ]
  },
  {
   "cell_type": "code",
   "execution_count": 229,
   "id": "c1364ea3",
   "metadata": {},
   "outputs": [],
   "source": [
    "neigh = NearestNeighbors(n_neighbors=46)\n"
   ]
  },
  {
   "cell_type": "code",
   "execution_count": 230,
   "id": "543463aa",
   "metadata": {},
   "outputs": [
    {
     "data": {
      "text/plain": [
       "NearestNeighbors(n_neighbors=46)"
      ]
     },
     "execution_count": 230,
     "metadata": {},
     "output_type": "execute_result"
    }
   ],
   "source": [
    " neigh.fit(x,y)\n",
    "NearestNeighbors(n_neighbors=46)"
   ]
  },
  {
   "cell_type": "code",
   "execution_count": 231,
   "id": "cf41e20f",
   "metadata": {},
   "outputs": [
    {
     "data": {
      "text/plain": [
       "array([[1., 0., 0., ..., 0., 0., 0.],\n",
       "       [0., 1., 0., ..., 0., 0., 0.],\n",
       "       [0., 0., 1., ..., 0., 0., 0.],\n",
       "       ...,\n",
       "       [0., 0., 0., ..., 1., 0., 0.],\n",
       "       [0., 0., 0., ..., 0., 1., 0.],\n",
       "       [0., 0., 0., ..., 0., 0., 1.]])"
      ]
     },
     "execution_count": 231,
     "metadata": {},
     "output_type": "execute_result"
    }
   ],
   "source": [
    " A = neigh.kneighbors_graph(x)\n",
    "A.toarray()"
   ]
  },
  {
   "cell_type": "markdown",
   "id": "25a05d9c",
   "metadata": {},
   "source": [
    "## Comment"
   ]
  },
  {
   "cell_type": "code",
   "execution_count": null,
   "id": "1458c9ee",
   "metadata": {},
   "outputs": [],
   "source": [
    "#For the given dataset,Applying KNN Classifier Model,I got the following observations:\n",
    "Accurecy-0.9146864043630697, Mean squared error: 96.84,RMSE:9.84059674909533\n",
    "On the otherhand \n",
    "#Applying KNN Classifier Model,I got\n",
    "Accurecy-0.8821086423439015,Mean squared error:121.34 ,RMSE:11.015229581640359\n",
    "        \n",
    "#After Tuning  KNN Classifier Model,I got \n",
    "Accurecy 0.9213089209193611 when KNeighborsRegressor(n_neighbors=46)\n"
   ]
  }
 ],
 "metadata": {
  "kernelspec": {
   "display_name": "Python 3 (ipykernel)",
   "language": "python",
   "name": "python3"
  },
  "language_info": {
   "codemirror_mode": {
    "name": "ipython",
    "version": 3
   },
   "file_extension": ".py",
   "mimetype": "text/x-python",
   "name": "python",
   "nbconvert_exporter": "python",
   "pygments_lexer": "ipython3",
   "version": "3.7.11"
  }
 },
 "nbformat": 4,
 "nbformat_minor": 5
}
